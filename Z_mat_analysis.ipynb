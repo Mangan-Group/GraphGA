{
 "cells": [
  {
   "cell_type": "code",
   "execution_count": 2,
   "metadata": {},
   "outputs": [],
   "source": [
    "import numpy as np\n",
    "import pandas as pd\n",
    "import matplotlib.pyplot as plt\n",
    "import statistics as stats\n",
    "import pickle\n",
    "from copy import deepcopy\n",
    "from load_files_pop import Z_20, Z_200, Z_2000\n",
    "plt.style.use('/Users/kdreyer/Documents/Github/GraphGA/paper.mplstyle.py')\n",
    "grey_ = [(i/255) for i in [150, 150, 150]]\n",
    "orange_ = [i/255 for i in [230, 159, 0]]\n",
    "sky_blue = [i/255 for i in [86, 180, 233]]\n",
    "pink_ = [i/255 for i in [204, 121, 167]]\n",
    "bluish_green = [i/255 for i in [0, 158, 115]]\n",
    "vermillion = [i/255 for i in [213, 94, 0]]\n",
    "yellow_ = [i/255 for i in [240, 228, 66]]\n",
    "repo_path_sp = \"/Users/kdreyer/Library/CloudStorage/OneDrive-NorthwesternUniversity/KatieD_LL/GCAD_Collab/Selected_GA_results_paper/\"\n",
    "repo_path_git = \"/Users/kdreyer/Documents/Github/GraphGA/GA_results/\""
   ]
  },
  {
   "cell_type": "code",
   "execution_count": 3,
   "metadata": {},
   "outputs": [],
   "source": [
    "Z_20_df = pd.DataFrame(data = Z_20, columns = [\"plasmid_\" + str(i) for i in range(5)])\n",
    "# Z_20_df_log = Z_20_df.copy()\n",
    "Z_200_df = pd.DataFrame(data = Z_200, columns = [\"plasmid_\" + str(i) for i in range(9)])\n",
    "Z_200_df = Z_200_df.drop(labels=[\"plasmid_\" + str(i) for i in range(5,9)], axis=1)"
   ]
  },
  {
   "cell_type": "code",
   "execution_count": 25,
   "metadata": {},
   "outputs": [
    {
     "data": {
      "image/png": "[encoded data removed]",
      "text/plain": [
       "<Figure size 300x200 with 1 Axes>"
      ]
     },
     "metadata": {},
     "output_type": "display_data"
    }
   ],
   "source": [
    "# display(Z_200_df)\n",
    "fig, ax = plt.subplots(figsize=(3, 2))\n",
    "Z_df_200_log = Z_200_df.copy()\n",
    "for i, column in enumerate(Z_df_200_log.columns):\n",
    "    Z_df_200_log[column] = np.log10(Z_df_200_log[column])\n",
    "\n",
    "Z_df_200_log[\"plasmid_2\"].plot.kde(ind=200, ax=ax, color=\"k\", linewidth=\"1\")\n",
    "ax.set_xlim([-3.5, 2])\n",
    "ax.set_ylim(bottom=0)\n",
    "ax.set_xlabel(\"DNA uptake\")\n",
    "ax.set_ylabel(\"Probability density\")\n",
    "plt.savefig(\"/Users/kdreyer/Desktop/plasmid_uptake_200.svg\")"
   ]
  },
  {
   "cell_type": "markdown",
   "metadata": {},
   "source": [
    "## 200 cell model analysis"
   ]
  },
  {
   "cell_type": "markdown",
   "metadata": {},
   "source": [
    "### Frac_pulse"
   ]
  },
  {
   "cell_type": "markdown",
   "metadata": {},
   "source": [
    "### single cell topologies"
   ]
  },
  {
   "cell_type": "code",
   "execution_count": 196,
   "metadata": {},
   "outputs": [
    {
     "name": "stdout",
     "output_type": "stream",
     "text": [
      "4.082207573480019\n",
      "12 {'Z6': {'P': ['P1'], 'Z': ['Z6'], 'I': ['I13']}, 'I13': {'P': [], 'Z': ['Z6'], 'I': []}, 'Rep': {'P': [], 'Z': ['Z6'], 'I': []}}\n",
      "5.203635091464676\n",
      "17 {'I13': {'P': [], 'Z': ['Z6'], 'I': []}, 'Z6': {'P': ['P1'], 'Z': ['Z6'], 'I': ['I13']}, 'Rep': {'P': [], 'Z': ['Z6'], 'I': []}}\n",
      "5.615217929814676\n",
      "18 {'I13': {'P': [], 'Z': ['Z6'], 'I': []}, 'Z6': {'P': ['P1'], 'Z': ['Z6'], 'I': ['I13']}, 'Rep': {'P': [], 'Z': ['Z6'], 'I': []}}\n",
      "1.017210973188348\n",
      "21 {'Z6': {'P': ['P1'], 'Z': ['Z6'], 'I': ['I2']}, 'I2': {'P': [], 'Z': ['Z6'], 'I': []}, 'Rep': {'P': [], 'Z': ['Z6'], 'I': ['I2']}}\n",
      "2.9618716341894427\n",
      "24 {'I13': {'P': [], 'Z': ['Z6'], 'I': []}, 'Z6': {'P': ['P1'], 'Z': ['Z6'], 'I': ['I13']}, 'Rep': {'P': [], 'Z': ['Z6'], 'I': ['I13']}}\n",
      "0.7826642030363091\n",
      "25 {'Z6': {'P': ['P1'], 'Z': ['Z6'], 'I': ['I11']}, 'I11': {'P': [], 'Z': ['Z6'], 'I': []}, 'Rep': {'P': [], 'Z': ['Z6'], 'I': ['I11']}}\n",
      "3.1413551856098367\n",
      "27 {'I13': {'P': [], 'Z': ['Z6'], 'I': []}, 'Z6': {'P': ['P1'], 'Z': ['Z6'], 'I': ['I13']}, 'Rep': {'P': [], 'Z': ['Z6'], 'I': ['I13']}}\n",
      "0.22642096231407338\n",
      "33 {'Z6': {'P': ['P1'], 'Z': ['Z6'], 'I': ['I2']}, 'I2': {'P': [], 'Z': ['Z6'], 'I': []}, 'Rep': {'P': [], 'Z': ['Z6'], 'I': ['I2']}}\n"
     ]
    }
   ],
   "source": [
    "from pulse_generator_problem import PulseGenerator\n",
    "all_cell_200 = pd.read_pickle(\"/Users/kdreyer/Desktop/pulse_single_plasmid_uptake_200/200_cell_all_cell_results_df_opt.pkl\")\n",
    "all_cell_20 = pd.read_pickle(\"/Users/kdreyer/Desktop/pulse_single_plasmid_uptake_200/20_cell_all_cell_results_df_opt.pkl\")\n",
    "\n",
    "pulse_20 = PulseGenerator(promo_node=\"P1\", dose_specs=[5, 75, 5], max_part=2, inhibitor=True, \n",
    "                            DsRed_inhibitor=True, num_dict={}, n_gen=None, probability_crossover=None, \n",
    "                            probability_mutation=None, mutate_dose=True, pop=True, num_processes=8, \n",
    "                            max_time=126, single_cell_tracking=True)\n",
    "\n",
    "# display(all_cell_200)\n",
    "# display(Z_200_df)\n",
    "for index, row in all_cell_200.iterrows():\n",
    "    all_cell200_prom_list = row[\"single_cell_prominence\"]\n",
    "    all_cell200_peak_list = row[\"single_cell_peaks\"]\n",
    "\n",
    "    # all_cell20_prom_list = all_cell_20.at[index,\"single_cell_prominence\"]\n",
    "    # all_cell20_peak_list = all_cell_20.at[index,\"single_cell_peaks\"]\n",
    "\n",
    "#     all_cell20_prom_list = all_cell_20.at[index, \"single_cell_prominence\"]\n",
    "#     all_cell20_peak_list = all_cell_20.at[index, \"single_cell_peaks\"]\n",
    "    rep_rel_mean20 = all_cell_20.at[index, \"Rep_rel time series mean\"]\n",
    "\n",
    "    peak_rel_20 = pulse_20.calc_peak_rel(rep_rel_mean20)\n",
    "    prom_rel_20 = pulse_20.calc_prominence_rel(rep_rel_mean20, peak_rel_20)\n",
    "\n",
    "\n",
    "    rep_rel_mean200 = row[\"Rep_rel time series mean\"]\n",
    "\n",
    "    peak_rel_200 = pulse_20.calc_peak_rel(rep_rel_mean200)\n",
    "    prom_rel_200 = pulse_20.calc_prominence_rel(rep_rel_mean200, peak_rel_200)\n",
    "\n",
    "    avg_no_pulse = []\n",
    "    avg_pulse = []\n",
    "    other_plasmids_pulse = []\n",
    "    other_plasmids_no_pulse = []\n",
    "    peak_no_pulse = []\n",
    "    prom_rel_pulse = []\n",
    "    prom_rel_all = []\n",
    "    avg_list = []\n",
    "    inh_uptake_pulse = []\n",
    "    inh_uptake_no_pulse = []\n",
    "    zf_uptake_pulse = []\n",
    "    zf_uptake_no_pulse = []\n",
    "    # rep_uptake_no_pulse = []\n",
    "    # rep_uptake_pulse = []\n",
    "\n",
    "\n",
    "    if prom_rel_20 > 0 and prom_rel_200 == 0:\n",
    "        # print(index)\n",
    "        print(prom_rel_20)\n",
    "        parts_dict = row[\"Topology\"].in_dict\n",
    "        # parts_order = list(row[\"Topology\"].in_dict.keys())\n",
    "        print(index, parts_dict)\n",
    "        # print(row[\"Topology\"].dose)\n",
    "#         if index in [17, 18, 24, 27, 34, 35]:\n",
    "#             # print(row[\"Topology\"].dose)\n",
    "#             # print(index, parts_dict)\n",
    "#             inh_plasmid = 0\n",
    "#             zf_plasmid = [1, 2] \n",
    "#             other_plasmids = [1, 2, 3]\n",
    "#         else:\n",
    "#             inh_plasmid = 2\n",
    "#             zf_plasmid = [0, 1]\n",
    "#             other_plasmids = [0, 1, 3]\n",
    "#             # print(index, parts_dict)\n",
    "# #         prom_rel_all.append(all_cell200_prom_list)\n",
    "#         plt.figure(figsize=(2,2))\n",
    "#         for cell in range(200):\n",
    "#             uptake_list = Z_200_df.iloc[cell].tolist()[:-1]\n",
    "#             cell_prom = all_cell200_prom_list[cell]\n",
    "#             avg_uptake = np.mean(uptake_list)\n",
    "#             # if cell_prom == 0:\n",
    "#             # plt.plot(np.arange(0, 127, 1), all_cell_20.at[index, \"Rep_rel time series for each cell\"][cell])\n",
    "#             # plt.xlim([0, 42])\n",
    "#             # uptake_list = Z_20_df.iloc[cell].tolist()[:-1]\n",
    "#             # # print(uptake_list)\n",
    "#             inh_uptake = uptake_list[inh_plasmid]\n",
    "#             zf_uptake = np.mean([uptake_list[zf_plasmid[0]], uptake_list[zf_plasmid[1]]])\n",
    "#             # # zf_uptake_p1 = uptake_list[zf_plasmid[0]]\n",
    "#             # # zf_uptake_zf = uptake_list[zf_plasmid[1]]\n",
    "#             other_plasmids_uptake = np.mean([uptake_list[i] for i in other_plasmids])\n",
    "#             # # cell_prom = all_cell200_prom_list[cell]\n",
    "#             # cell_prom = all_cell20_prom_list[cell]\n",
    "#             # avg_uptake = np.mean(uptake_list)\n",
    "\n",
    "#             if cell_prom == 0:\n",
    "#                 zf_uptake_no_pulse.append(zf_uptake)\n",
    "#                 inh_uptake_no_pulse.append(inh_uptake)\n",
    "#                 other_plasmids_no_pulse.append(other_plasmids_uptake)\n",
    "#                 avg_no_pulse.append(avg_uptake)\n",
    "#                 if avg_uptake >3 and index == 24:\n",
    "#                     print(index, avg_uptake, all_cell200_peak_list[cell])\n",
    "#                 # if all_cell200_peak_list[cell] > 300:\n",
    "#                 #     print(index, all_cell200_peak_list[cell], inh_uptake, other_plasmids_uptake)\n",
    "\n",
    "#             else:\n",
    "#                 zf_uptake_pulse.append(zf_uptake)\n",
    "#                 inh_uptake_pulse.append(inh_uptake)\n",
    "#                 avg_pulse.append(avg_uptake)\n",
    "#                 other_plasmids_pulse.append(other_plasmids_uptake)\n",
    "\n",
    "\n",
    "#         # plt.figure(figsize=(2, 2))\n",
    "#         # plt.hist(avg_pulse, bins=20, color=\"k\", density=True, label=\"pulse\")\n",
    "#         # plt.hist(avg_no_pulse, bins=20, color=\"darkgrey\", density=True, label=\"non-pulse\")\n",
    "#         # plt.xlabel(\"average plasmid uptake\")\n",
    "#         # plt.ylabel(\"probability density\")\n",
    "#         # plt.legend()\n",
    "\n",
    "#         # plt.plot(avg_no_pulse, inh_uptake_no_pulse, linestyle=\"none\", marker=\"o\", color=\"r\", markersize=\"1\")\n",
    "#         # plt.plot(avg_pulse, inh_uptake_pulse, linestyle=\"none\", marker=\"o\", color=\"k\", markersize=\"1\")\n",
    "#         plt.plot(zf_uptake_no_pulse, inh_uptake_no_pulse, linestyle=\"none\", marker=\"o\", color=\"k\", markersize=\"1\", label=\"no pulse\")\n",
    "#         plt.plot(zf_uptake_pulse, inh_uptake_pulse, linestyle=\"none\", marker=\"o\", color=\"grey\", markersize=\"1\")\n",
    "#         # plt.plot([0, 3], [0, 3], linestyle=\"dashed\", color=\"k\", zorder=10, linewidth=\"1\")\n",
    "#         # plt.plot(other_plasmids_no_pulse, inh_uptake_no_pulse, linestyle=\"none\", marker=\"o\", color=\"r\", markersize=\"2\")\n",
    "#         # plt.plot(other_plasmids_pulse, inh_uptake_pulse, linestyle=\"none\", marker=\"o\", color=\"k\", markersize=2)\n",
    "#         # plt.xlabel(\"other plasmid uptake\")\n",
    "#         # # plt.xlim(0,2)\n",
    "#         # # plt.ylim(0, 2)\n",
    "#         # # # plt.xlabel(\"ZF p1\")\n",
    "#         # plt.ylabel(\"inhibitor uptake\")\n",
    "#         # plt.legend()\n",
    "\n",
    "#         plt.show()\n",
    "#         # plt.savefig(\"/Users/kdreyer/Desktop/200-cell_all_ts\" + str(index) + \".svg\")\n",
    "#         # plt.savefig(\"/Users/kdreyer/Desktop/20_cell_ts_\" + str(index) + \".svg\")"
   ]
  },
  {
   "cell_type": "code",
   "execution_count": null,
   "metadata": {},
   "outputs": [],
   "source": [
    "\n",
    "\n",
    "#         fig, axs = plt.subplots(2, 3, figsize= (8, 4)) #, sharex=True)\n",
    "#         axs[0,0].plot(avg_no_pulse, peak_no_pulse, linestyle=\"none\", marker=\"o\", markersize=\"3\", color=\"k\")\n",
    "#         axs[0,0].set_xlabel(\"Average plasmid uptake\")\n",
    "#         axs[0,0].set_ylabel(\"Peak_rel\")\n",
    "#         axs[0,0].set_xlim(ax.get_xlim())\n",
    "#         axs[0,0].set_title(\"Non-Pulse Cells Average Plasmid Uptake vs. Peak_rel\")\n",
    "\n",
    "#         axs[0,1].plot(avg_pulse, prom_rel_pulse, linestyle=\"none\", marker=\"o\", markersize=\"3\", color=sky_blue)\n",
    "#         axs[0,1].set_xlabel(\"Average plasmid uptake\")\n",
    "#         axs[0,1].set_ylabel(\"Prominence_rel\")\n",
    "#         axs[0,1].set_xlim(ax.get_xlim())\n",
    "#         axs[0,1].set_title(\"Pulse Cells Average Plasmid Uptake vs. Prominence_rel\")\n",
    "\n",
    "#         axs02_2 = axs[0,2].twinx()\n",
    "#         axs02_2.plot(avg_no_pulse, peak_no_pulse, linestyle=\"none\", marker=\"o\", markersize=\"3\", color=\"k\", label=\"no pulse\")\n",
    "#         axs[0,2].plot(avg_pulse, prom_rel_pulse, linestyle=\"none\", marker=\"o\", markersize=\"3\", color=sky_blue, label=\"pulse\")\n",
    "#         axs[0,2].set_xlabel(\"Average plasmid uptake\")\n",
    "#         axs[0,2].set_ylabel(\"Prominence_rel\")\n",
    "#         axs02_2.set_ylabel(\"Peak_rel\")\n",
    "#         axs[0,2].set_zorder(axs02_2.get_zorder()+1)\n",
    "#         axs[0,2].patch.set_visible(False)\n",
    "#         axs[0,2].spines[['right']].set_visible(True)\n",
    "#         axs[0,2].set_title(\"Average Plasmid Uptake vs. Prominence_rel or Peak_rel\")\n",
    "#         axs[0,2].legend()\n",
    "\n",
    "        # axs[1,0].plot(inh_rel_no_pulse_list, peak_no_pulse, linestyle=\"none\", marker=\"o\", markersize=\"3\", color=\"k\")\n",
    "        # axs[1,0].set_xlabel(\"Relative synTF-R plasmid uptake\")\n",
    "        # axs[1,0].set_ylabel(\"Peak_rel\")\n",
    "        # axs[1,0].set_title(\"Non-Pulse Cells Relative synTF-R Plasmid Uptake vs. Peak_rel\")\n",
    "\n",
    "        # axs[1,1].plot(inh_rel_pulse_list, prom_rel_pulse, linestyle=\"none\", marker=\"o\", markersize=\"3\", color=sky_blue)\n",
    "        # axs[1,1].set_xlabel(\"Relative synTF-R plasmid uptake\")\n",
    "        # axs[1,1].set_ylabel(\"Prominence_rel\")\n",
    "        # # axs[1,1].set_xlim(0, 5)\n",
    "        # axs[1,1].set_title(\"Pulse Cells Relative synTF-R Plasmid Uptake vs. Prominence_rel\")\n",
    "\n",
    "        # axs12_2 = axs[1,2].twinx()\n",
    "        # axs12_2.plot(inh_rel_no_pulse_list, peak_no_pulse, linestyle=\"none\", marker=\"o\", markersize=\"3\", color=\"k\", label=\"no pulse\")\n",
    "        # axs[1,2].plot(inh_rel_pulse_list, prom_rel_pulse, linestyle=\"none\", marker=\"o\", markersize=\"3\", color=sky_blue, label=\"pulse\")\n",
    "        # axs[1,2].set_xlabel(\"Relative synTF-R plasmid uptake\")\n",
    "        # axs[1,2].set_ylabel(\"Prominence_rel\")\n",
    "        # axs12_2.set_ylabel(\"Peak_rel\")\n",
    "        # axs[1,2].set_zorder(axs12_2.get_zorder()+1)\n",
    "        # axs[1,2].patch.set_visible(False)\n",
    "        # axs[1,2].spines[['right']].set_visible(True)\n",
    "        # # axs[1,2].set_xlim(0, 5)\n",
    "        # axs[1,2].set_title(\"Relative synTF-R Plasmid Uptake vs. Prominence_rel or Peak_rel\")\n",
    "        # # axs[1,2].legend()\n",
    "        # axs12_2.legend()\n",
    "\n",
    "        \n",
    "# # # #     # plt.savefig(path_save+\"plasmid_uptake_plots_\"+ str(index) + \".svg\")\n",
    "\n",
    "# [17, 18, 24, 27, 34, 35]"
   ]
  },
  {
   "cell_type": "markdown",
   "metadata": {},
   "source": [
    "<!-- ### Arithmetic mean 20-cell topologies -->"
   ]
  },
  {
   "cell_type": "markdown",
   "metadata": {},
   "source": [
    "## ZF1/ZF2 Experimental topologies"
   ]
  },
  {
   "cell_type": "markdown",
   "metadata": {},
   "source": [
    "### 200-cell uptake analysis"
   ]
  },
  {
   "cell_type": "code",
   "execution_count": null,
   "metadata": {},
   "outputs": [],
   "source": [
    "path_pulses = \"Pulse_pop/Experiment_synTF1&2/200_cell_all_cell_results_df.pkl\"\n",
    "path_save = repo_path_sp + \"Pulse_pop/Experiment_synTF1&2/\"\n",
    "\n",
    "all_cell_results_df = pd.read_pickle(repo_path_sp+path_pulses)\n",
    "display(all_cell_results_df)\n",
    "# for index, row in all_cell_results_df.iterrows():\n",
    "#     print(row[\"Topology\"].in_dict)\n"
   ]
  },
  {
   "cell_type": "code",
   "execution_count": 198,
   "metadata": {},
   "outputs": [
    {
     "name": "stdout",
     "output_type": "stream",
     "text": [
      "3.1749698575205954\n"
     ]
    },
    {
     "data": {
      "image/png": "[encoded data removed]",
      "text/plain": [
       "<Figure size 200x200 with 1 Axes>"
      ]
     },
     "metadata": {},
     "output_type": "display_data"
    },
    {
     "name": "stdout",
     "output_type": "stream",
     "text": [
      "3.1749698575205954\n"
     ]
    },
    {
     "data": {
      "image/png": "[encoded data removed]",
      "text/plain": [
       "<Figure size 200x200 with 1 Axes>"
      ]
     },
     "metadata": {},
     "output_type": "display_data"
    },
    {
     "name": "stdout",
     "output_type": "stream",
     "text": [
      "3.1749698575205954\n"
     ]
    },
    {
     "data": {
      "image/png": "[encoded data removed]",
      "text/plain": [
       "<Figure size 200x200 with 1 Axes>"
      ]
     },
     "metadata": {},
     "output_type": "display_data"
    },
    {
     "name": "stdout",
     "output_type": "stream",
     "text": [
      "3.1749698575205954\n"
     ]
    },
    {
     "data": {
      "image/png": "[encoded data removed]",
      "text/plain": [
       "<Figure size 200x200 with 1 Axes>"
      ]
     },
     "metadata": {},
     "output_type": "display_data"
    },
    {
     "name": "stdout",
     "output_type": "stream",
     "text": [
      "3.1749698575205954\n"
     ]
    },
    {
     "data": {
      "image/png": "[encoded data removed]",
      "text/plain": [
       "<Figure size 200x200 with 1 Axes>"
      ]
     },
     "metadata": {},
     "output_type": "display_data"
    },
    {
     "name": "stdout",
     "output_type": "stream",
     "text": [
      "3.1749698575205954\n"
     ]
    },
    {
     "data": {
      "image/png": "[encoded data removed]",
      "text/plain": [
       "<Figure size 200x200 with 1 Axes>"
      ]
     },
     "metadata": {},
     "output_type": "display_data"
    }
   ],
   "source": [
    "for index, row in all_cell_results_df.iterrows():\n",
    "    all_cell_prom_list = row[\"single_cell_prominence\"]\n",
    "    all_cell_peak_list = row[\"single_cell_peaks\"]\n",
    "    all_cell_ts = row[\"Rep_rel time series for each cell\"]\n",
    "\n",
    "    # fig, axs = plt.subplots(3, 2, figsize= (6, 6), sharex=True)\n",
    "    avg_list = []\n",
    "    avg_no_pulse = []\n",
    "    avg_pulse = []\n",
    "\n",
    "    inh_rel_no_pulse_list = []\n",
    "    peak_no_pulse = []\n",
    "\n",
    "    inh_rel_pulse_list = []\n",
    "    prom_rel_pulse = []\n",
    "    for cell in range(200):\n",
    "        # plt.plot(np.arange(0, 127, 1), all_cell_ts[cell])\n",
    "        uptake_list = Z_200_df.iloc[cell].tolist()\n",
    "        uptake_list_no_p0 = deepcopy(uptake_list)[:-1]\n",
    "        uptake_list_no_p0.pop(0)\n",
    "        avg_no_inh = np.mean(uptake_list_no_p0)\n",
    "        inh_uptake = uptake_list[0]\n",
    "        avg_uptake = np.mean(uptake_list)\n",
    "        avg_list.append(avg_uptake)\n",
    "        cell_prom = all_cell_prom_list[cell]\n",
    "\n",
    "        # if row[\"single_cell_peaks\"][cell] > 20:\n",
    "        #     print(row[\"single_cell_peaks\"][cell], avg_uptake)\n",
    "\n",
    "        if cell_prom == 0:\n",
    "            avg_no_pulse.append(avg_uptake)\n",
    "            peak_no_pulse.append(all_cell_peak_list[cell])\n",
    "            inh_rel = inh_uptake/avg_no_inh\n",
    "            inh_rel_no_pulse_list.append(inh_rel)\n",
    "        else:\n",
    "            avg_pulse.append(avg_uptake)\n",
    "            prom_rel_pulse.append(all_cell_prom_list[cell])\n",
    "            inh_rel = inh_uptake/avg_no_inh\n",
    "            inh_rel_pulse_list.append(inh_rel)\n",
    "\n",
    "\n",
    "    print(max(avg_pulse)*0.7)\n",
    "    # plot histograms pulse vs. no pulse\n",
    "    plt.figure(figsize=(2, 2))\n",
    "    plt.hist(avg_pulse, bins=20, color=\"k\", density=True, label=\"pulse\")\n",
    "    plt.hist(avg_no_pulse, bins=20, color=\"grey\", density=True, label=\"non-pulse\")\n",
    "    plt.xlabel(\"average plasmid uptake\")\n",
    "    plt.ylabel(\"probability density\")\n",
    "    plt.legend()\n",
    "\n",
    "    plt.show()\n",
    "    # plt.savefig(path_save+\"plasmid_uptake_histograms_\"+ str(index) + \".svg\")"
   ]
  },
  {
   "cell_type": "code",
   "execution_count": null,
   "metadata": {},
   "outputs": [],
   "source": []
  },
  {
   "cell_type": "markdown",
   "metadata": {},
   "source": [
    "## 20 cell model analysis"
   ]
  },
  {
   "cell_type": "markdown",
   "metadata": {},
   "source": [
    "#### single cell topologies"
   ]
  },
  {
   "cell_type": "code",
   "execution_count": 187,
   "metadata": {},
   "outputs": [
    {
     "name": "stdout",
     "output_type": "stream",
     "text": [
      "12 2.278303859087682 52.68937291394298\n",
      "12 1.9579295288381857 33.99859953611775\n",
      "12 2.012806874613406 98.03577051593194\n",
      "17\n",
      "17 2.490986826261574 69.75398801665186\n",
      "17 2.012806874613406 31.737826475572334\n",
      "18\n",
      "18 2.490986826261574 66.98780976982938\n",
      "18 2.012806874613406 29.772870867794655\n",
      "21 2.012806874613406 36.6824123563039\n",
      "24\n",
      "27\n"
     ]
    },
    {
     "data": {
      "text/plain": [
       "<Figure size 200x200 with 0 Axes>"
      ]
     },
     "metadata": {},
     "output_type": "display_data"
    },
    {
     "data": {
      "image/png": "[encoded data removed]",
      "text/plain": [
       "<Figure size 200x200 with 1 Axes>"
      ]
     },
     "metadata": {},
     "output_type": "display_data"
    },
    {
     "data": {
      "text/plain": [
       "<Figure size 200x200 with 0 Axes>"
      ]
     },
     "metadata": {},
     "output_type": "display_data"
    },
    {
     "data": {
      "image/png": "[encoded data removed]",
      "text/plain": [
       "<Figure size 200x200 with 1 Axes>"
      ]
     },
     "metadata": {},
     "output_type": "display_data"
    },
    {
     "data": {
      "text/plain": [
       "<Figure size 200x200 with 0 Axes>"
      ]
     },
     "metadata": {},
     "output_type": "display_data"
    },
    {
     "data": {
      "image/png": "[encoded data removed]",
      "text/plain": [
       "<Figure size 200x200 with 1 Axes>"
      ]
     },
     "metadata": {},
     "output_type": "display_data"
    },
    {
     "data": {
      "text/plain": [
       "<Figure size 200x200 with 0 Axes>"
      ]
     },
     "metadata": {},
     "output_type": "display_data"
    },
    {
     "data": {
      "image/png": "[encoded data removed]",
      "text/plain": [
       "<Figure size 200x200 with 1 Axes>"
      ]
     },
     "metadata": {},
     "output_type": "display_data"
    },
    {
     "data": {
      "text/plain": [
       "<Figure size 200x200 with 0 Axes>"
      ]
     },
     "metadata": {},
     "output_type": "display_data"
    },
    {
     "data": {
      "image/png": "[encoded data removed]",
      "text/plain": [
       "<Figure size 200x200 with 1 Axes>"
      ]
     },
     "metadata": {},
     "output_type": "display_data"
    },
    {
     "data": {
      "text/plain": [
       "<Figure size 200x200 with 0 Axes>"
      ]
     },
     "metadata": {},
     "output_type": "display_data"
    },
    {
     "data": {
      "image/png": "[encoded data removed]",
      "text/plain": [
       "<Figure size 200x200 with 1 Axes>"
      ]
     },
     "metadata": {},
     "output_type": "display_data"
    },
    {
     "data": {
      "text/plain": [
       "<Figure size 200x200 with 0 Axes>"
      ]
     },
     "metadata": {},
     "output_type": "display_data"
    },
    {
     "data": {
      "image/png": "[encoded data removed]",
      "text/plain": [
       "<Figure size 200x200 with 1 Axes>"
      ]
     },
     "metadata": {},
     "output_type": "display_data"
    },
    {
     "data": {
      "text/plain": [
       "<Figure size 200x200 with 0 Axes>"
      ]
     },
     "metadata": {},
     "output_type": "display_data"
    },
    {
     "data": {
      "image/png": "[encoded data removed]",
      "text/plain": [
       "<Figure size 200x200 with 1 Axes>"
      ]
     },
     "metadata": {},
     "output_type": "display_data"
    }
   ],
   "source": [
    "from pulse_generator_problem import PulseGenerator\n",
    "all_cell_200 = pd.read_pickle(\"/Users/kdreyer/Desktop/pulse_single_plasmid_uptake_200/200_cell_all_cell_results_df_opt.pkl\")\n",
    "all_cell_20 = pd.read_pickle(\"/Users/kdreyer/Desktop/pulse_single_plasmid_uptake_200/20_cell_all_cell_results_df_opt.pkl\")\n",
    "\n",
    "pulse_20 = PulseGenerator(promo_node=\"P1\", dose_specs=[5, 75, 5], max_part=2, inhibitor=True, \n",
    "                            DsRed_inhibitor=True, num_dict={}, n_gen=None, probability_crossover=None, \n",
    "                            probability_mutation=None, mutate_dose=True, pop=True, num_processes=8, \n",
    "                            max_time=126, single_cell_tracking=True)\n",
    "\n",
    "# display(all_cell_200)\n",
    "# display(Z_200_df)\n",
    "for index, row in all_cell_20.iterrows():\n",
    "    all_cell20_prom_list = row[\"single_cell_prominence\"]\n",
    "    all_cell20_peak_list = row[\"single_cell_peaks\"]\n",
    "\n",
    "    rep_rel_mean20 = all_cell_20.at[index, \"Rep_rel time series mean\"]\n",
    "\n",
    "    peak_rel_20 = pulse_20.calc_peak_rel(rep_rel_mean20)\n",
    "    prom_rel_20 = pulse_20.calc_prominence_rel(rep_rel_mean20, peak_rel_20)\n",
    "\n",
    "    rep_rel_mean200 = all_cell_200.at[index, \"Rep_rel time series mean\"]\n",
    "\n",
    "    peak_rel_200 = pulse_20.calc_peak_rel(rep_rel_mean200)\n",
    "    prom_rel_200 = pulse_20.calc_prominence_rel(rep_rel_mean200, peak_rel_200)\n",
    "\n",
    "    avg_no_pulse = []\n",
    "    avg_pulse = []\n",
    "    other_plasmids_pulse = []\n",
    "    other_plasmids_no_pulse = []\n",
    "    peak_no_pulse = []\n",
    "    prom_rel_pulse = []\n",
    "    prom_rel_all = []\n",
    "    avg_list = []\n",
    "    inh_uptake_pulse = []\n",
    "    inh_uptake_no_pulse = []\n",
    "    zf_uptake_pulse = []\n",
    "    zf_uptake_no_pulse = []\n",
    "    # rep_uptake_no_pulse = []\n",
    "    # rep_uptake_pulse = []\n",
    "\n",
    "\n",
    "    if prom_rel_20 > 0 and prom_rel_200 == 0:\n",
    "        # print(index)\n",
    "        # print(prom_rel_20)\n",
    "        # parts_dict = row[\"Topology\"].in_dict\n",
    "        # parts_order = list(row[\"Topology\"].in_dict.keys())\n",
    "        # print(index, parts_dict)\n",
    "        # print(row[\"Topology\"].dose)\n",
    "        if index in [17, 18, 24, 27, 34, 35]:\n",
    "            print(index)\n",
    "            # print(row[\"Topology\"].dose)\n",
    "            # print(index, parts_dict)\n",
    "            inh_plasmid = 0\n",
    "            zf_plasmid = [1, 2] \n",
    "            other_plasmids = [1, 2, 3]\n",
    "        else:\n",
    "            inh_plasmid = 2\n",
    "            zf_plasmid = [0, 1]\n",
    "            other_plasmids = [0, 1, 3]\n",
    "            # print(index, parts_dict)\n",
    "#         prom_rel_all.append(all_cell200_prom_list)\n",
    "        plt.figure(figsize=(2,2))\n",
    "        for cell in range(20):\n",
    "            uptake_list = Z_20_df.iloc[cell].tolist()[:-1]\n",
    "            cell_prom = all_cell20_prom_list[cell]\n",
    "            avg_uptake = np.mean(uptake_list)\n",
    "            # print(all_cell_20.at[index, \"Rep_rel time series for each cell\"][cell])\n",
    "            # if cell_prom == 0:\n",
    "            # plt.plot(np.arange(0, 127, 1), all_cell_20.at[index, \"Rep_rel time series for each cell\"][cell])\n",
    "            # plt.xlim([0, 42])\n",
    "            # uptake_list = Z_20_df.iloc[cell].tolist()[:-1]\n",
    "            # # print(uptake_list)\n",
    "            # inh_uptake = uptake_list[inh_plasmid]\n",
    "            # zf_uptake = np.mean([uptake_list[zf_plasmid[0]], uptake_list[zf_plasmid[1]]])\n",
    "            # # zf_uptake_p1 = uptake_list[zf_plasmid[0]]\n",
    "            # # zf_uptake_zf = uptake_list[zf_plasmid[1]]\n",
    "            # other_plasmids_uptake = np.mean([uptake_list[i] for i in other_plasmids])\n",
    "            # # cell_prom = all_cell200_prom_list[cell]\n",
    "            # cell_prom = all_cell20_prom_list[cell]\n",
    "            # avg_uptake = np.mean(uptake_list)\n",
    "\n",
    "            if cell_prom == 0:\n",
    "            #     zf_uptake_no_pulse.append(zf_uptake)\n",
    "                # inh_uptake_no_pulse.append(inh_uptake)\n",
    "                # other_plasmids_no_pulse.append(other_plasmids_uptake)\n",
    "                avg_no_pulse.append(avg_uptake)\n",
    "                if avg_uptake >1.5: #and index == 24:\n",
    "                    print(index, avg_uptake, all_cell20_peak_list[cell])\n",
    "                # if all_cell200_peak_list[cell] > 300:\n",
    "                #     print(index, all_cell200_peak_list[cell], inh_uptake, other_plasmids_uptake)\n",
    "\n",
    "            else:\n",
    "            #     zf_uptake_pulse.append(zf_uptake)\n",
    "            #     inh_uptake_pulse.append(inh_uptake)\n",
    "                avg_pulse.append(avg_uptake)\n",
    "            #     other_plasmids_pulse.append(other_plasmids_uptake)\n",
    "\n",
    "\n",
    "        plt.figure(figsize=(2, 2))\n",
    "        plt.hist(avg_pulse, bins=10, color=\"k\", density=True, label=\"pulse\")\n",
    "        plt.hist(avg_no_pulse, bins=10, color=\"darkgrey\", density=True, label=\"non-pulse\")\n",
    "        plt.xlabel(\"average plasmid uptake\")\n",
    "        plt.ylabel(\"probability density\")\n",
    "        plt.legend()\n",
    "\n",
    "        # plt.plot(avg_no_pulse, inh_uptake_no_pulse, linestyle=\"none\", marker=\"o\", color=\"r\", markersize=\"1\")\n",
    "        # plt.plot(avg_pulse, inh_uptake_pulse, linestyle=\"none\", marker=\"o\", color=\"k\", markersize=\"1\")\n",
    "        # plt.plot(zf_uptake_no_pulse, inh_uptake_no_pulse, linestyle=\"none\", marker=\"o\", color=\"k\", markersize=\"1\", label=\"no pulse\")\n",
    "        # plt.plot(zf_uptake_pulse, inh_uptake_pulse, linestyle=\"none\", marker=\"o\", color=\"grey\", markersize=\"1\")\n",
    "        # plt.plot([0, 3], [0, 3], linestyle=\"dashed\", color=\"k\", zorder=10, linewidth=\"1\")\n",
    "        # # plt.plot(other_plasmids_no_pulse, inh_uptake_no_pulse, linestyle=\"none\", marker=\"o\", color=\"r\")\n",
    "        # # plt.plot(other_plasmids_pulse, inh_uptake_pulse, linestyle=\"none\", marker=\"o\", color=\"k\")\n",
    "        # plt.xlabel(\"other plasmid uptake\")\n",
    "        # # plt.xlim(0,2)\n",
    "        # # plt.ylim(0, 2)\n",
    "        # # # plt.xlabel(\"ZF p1\")\n",
    "        # plt.ylabel(\"inhibitor uptake\")\n",
    "        # plt.legend()\n",
    "\n",
    "        # plt.show()\n",
    "        # plt.savefig(\"/Users/kdreyer/Desktop/200-cell_all_ts\" + str(index) + \".svg\")\n",
    "        # plt.savefig(\"/Users/kdreyer/Desktop/20_cell_ts_\" + str(index) + \".svg\")\n",
    "        plt.savefig(\"/Users/kdreyer/Desktop/20_plasmid_uptake_histogram_\" + str(index) + \".svg\")"
   ]
  },
  {
   "cell_type": "markdown",
   "metadata": {},
   "source": [
    "<!-- #### frac_pulse -->"
   ]
  },
  {
   "cell_type": "code",
   "execution_count": null,
   "metadata": {},
   "outputs": [],
   "source": [
    "results_path = \"Pulse_pop/Z_mat_20v200_comparison/frac_pulse/frac_pulse_Z20/2024-09-12_results_analysis/\"\n",
    "file_name = \"all_cell_metrics_full_pareto_front.pkl\"\n",
    "all_cell_metrics = pd.read_pickle(repo_path_sp+results_path+file_name)\n",
    "### selected solutions with high rep_rel non-pulse cells (2 topologies, 5-7|| 10-12; 13)\n",
    "idx_list = [5, 7, 10, 13] # p2 inh 13; p23 inh: 5, 7; p0 10\n",
    "\n",
    "for idx in idx_list:\n",
    "    all_cell_prom_list = all_cell_metrics[\"single_cell_prominence\"].tolist()[idx]\n",
    "    all_cell_peak_list = all_cell_metrics[\"single_cell_peaks\"].tolist()[idx]\n",
    "\n",
    "    ### avg plasmid uptake vs prominence_rel or peak_rel\n",
    "    avg_list = []\n",
    "    avg_no_pulse = []\n",
    "    avg_pulse = []\n",
    "    inh_rel_no_pulse_list = []\n",
    "    peak_no_pulse = []\n",
    "    inh_rel_pulse_list = []\n",
    "    prom_rel_pulse = []\n",
    "    for cell in range(20):\n",
    "        uptake_list = Z_200_df.iloc[cell].tolist()\n",
    "        if idx == 13:\n",
    "            uptake_list_no_p2 = deepcopy(uptake_list)[:-1]\n",
    "            uptake_list_no_p2.pop(2)\n",
    "            avg_no_inh = np.mean(uptake_list_no_p2)\n",
    "            inh_uptake = uptake_list[2]\n",
    "        elif idx == 10:\n",
    "            uptake_list_no_p0 = deepcopy(uptake_list)[:-1]\n",
    "            uptake_list_no_p0.pop(0)\n",
    "            avg_no_inh = np.mean(uptake_list_no_p0)\n",
    "            inh_uptake = uptake_list[0]\n",
    "        elif idx in [5, 7]:\n",
    "            uptake_list_no_p23 = deepcopy(uptake_list)\n",
    "            del uptake_list_no_p23[2:4]\n",
    "            avg_no_inh = np.mean(uptake_list_no_p23)\n",
    "            inh_uptake = np.mean([uptake_list[2], uptake_list[3]])\n",
    "        avg_uptake = np.mean(uptake_list)\n",
    "        avg_list.append(avg_uptake)\n",
    "        cell_prom = all_cell_prom_list[cell]\n",
    "        if cell_prom == 0:\n",
    "            avg_no_pulse.append(avg_uptake)\n",
    "            peak_no_pulse.append(all_cell_peak_list[cell])\n",
    "            inh_rel = inh_uptake/avg_no_inh\n",
    "            inh_rel_no_pulse_list.append(inh_rel)\n",
    "            # if all_cell_peak_list[cell] > 100:\n",
    "                # print(idx,\"peak_rel: \", all_cell_peak_list[cell], \" outlier plasmid uptake: \", uptake_list, uptake_list_no_p23)\n",
    "                # print(inh_rel)\n",
    "        else:\n",
    "            avg_pulse.append(avg_uptake)\n",
    "            prom_rel_pulse.append(all_cell_prom_list[cell])\n",
    "            inh_rel = inh_uptake/avg_no_inh\n",
    "            inh_rel_pulse_list.append(inh_rel)\n",
    "\n",
    "\n",
    "    #plot average plasmid uptake vs prominence for all cells\n",
    "    fig0, ax = plt.subplots(1, 1, figsize= (3, 2)) #, sharex=True)\n",
    "    ax.plot(avg_list, all_cell_prom_list, linestyle=\"none\", marker=\"o\", markersize=\"3\", color=\"k\")\n",
    "    ax.set_xlabel(\"Average plasmid uptake\")\n",
    "    ax.set_ylabel(\"Prominence_rel\")\n",
    "    ax.set_ylim(bottom=0)\n",
    "    ax.set_title(\"All Cells Average Plasmid Uptake vs. Prominence_rel\")\n",
    "    # plt.savefig(repo_path_sp+results_path+\"all_plasmid_uptake_\"+ str(idx) + \".svg\")\n",
    "\n",
    "    fig, axs = plt.subplots(2, 3, figsize= (8, 4)) #, sharex=True)\n",
    "    axs[0,0].plot(avg_no_pulse, peak_no_pulse, linestyle=\"none\", marker=\"o\", markersize=\"3\", color=\"k\")\n",
    "    axs[0,0].set_xlabel(\"Average plasmid uptake\")\n",
    "    axs[0,0].set_ylabel(\"Peak_rel\")\n",
    "    axs[0,0].set_xlim(ax.get_xlim())\n",
    "    axs[0,0].set_title(\"Non-Pulse Cells Average Plasmid Uptake vs. Peak_rel\")\n",
    "\n",
    "    axs[0,1].plot(avg_pulse, prom_rel_pulse, linestyle=\"none\", marker=\"o\", markersize=\"3\", color=sky_blue)\n",
    "    axs[0,1].set_xlabel(\"Average plasmid uptake\")\n",
    "    axs[0,1].set_ylabel(\"Prominence_rel\")\n",
    "    axs[0,1].set_xlim(ax.get_xlim())\n",
    "    axs[0,1].set_title(\"Pulse Cells Average Plasmid Uptake vs. Prominence_rel\")\n",
    "\n",
    "    axs02_2 = axs[0,2].twinx()\n",
    "    axs02_2.plot(avg_no_pulse, peak_no_pulse, linestyle=\"none\", marker=\"o\", markersize=\"3\", color=\"k\", label=\"no pulse\")\n",
    "    axs[0,2].plot(avg_pulse, prom_rel_pulse, linestyle=\"none\", marker=\"o\", markersize=\"3\", color=sky_blue, label=\"pulse\")\n",
    "    axs[0,2].set_xlabel(\"Average plasmid uptake\")\n",
    "    axs[0,2].set_ylabel(\"Prominence_rel\")\n",
    "    axs02_2.set_ylabel(\"Peak_rel\")\n",
    "    axs[0,2].set_zorder(axs02_2.get_zorder()+1)\n",
    "    axs[0,2].patch.set_visible(False)\n",
    "    axs[0,2].spines[['right']].set_visible(True)\n",
    "    axs[0,2].set_title(\"Average Plasmid Uptake vs. Prominence_rel or Peak_rel\")\n",
    "    axs[0,2].legend()\n",
    "\n",
    "    axs[1,0].plot(inh_rel_no_pulse_list, peak_no_pulse, linestyle=\"none\", marker=\"o\", markersize=\"3\", color=\"k\")\n",
    "    axs[1,0].set_xlabel(\"Relative synTF-R plasmid uptake\")\n",
    "    axs[1,0].set_ylabel(\"Peak_rel\")\n",
    "    axs[1,0].set_xlim(0, 2)\n",
    "    axs[1,0].set_title(\"Non-Pulse Cells Relative synTF-R Plasmid Uptake vs. Peak_rel\")\n",
    "\n",
    "    axs[1,1].plot(inh_rel_pulse_list, prom_rel_pulse, linestyle=\"none\", marker=\"o\", markersize=\"3\", color=sky_blue)\n",
    "    axs[1,1].set_xlabel(\"Relative synTF-R plasmid uptake\")\n",
    "    axs[1,1].set_ylabel(\"Prominence_rel\")\n",
    "    axs[1,1].set_xlim(0, 2)\n",
    "    axs[1,1].set_title(\"Pulse Cells Relative synTF-R Plasmid Uptake vs. Prominence_rel\")\n",
    "\n",
    "    axs12_2 = axs[1,2].twinx()\n",
    "    axs12_2.plot(inh_rel_no_pulse_list, peak_no_pulse, linestyle=\"none\", marker=\"o\", markersize=\"3\", color=\"k\", label=\"no pulse\")\n",
    "    axs[1,2].plot(inh_rel_pulse_list, prom_rel_pulse, linestyle=\"none\", marker=\"o\", markersize=\"3\", color=sky_blue, label=\"pulse\")\n",
    "    axs[1,2].set_xlabel(\"Relative synTF-R plasmid uptake\")\n",
    "    axs[1,2].set_ylabel(\"Prominence_rel\")\n",
    "    axs12_2.set_ylabel(\"Peak_rel\")\n",
    "    axs[1,2].set_zorder(axs12_2.get_zorder()+1)\n",
    "    axs[1,2].patch.set_visible(False)\n",
    "    axs[1,2].spines[['right']].set_visible(True)\n",
    "    axs[1,2].set_xlim(0, 2)\n",
    "    axs[1,2].set_title(\"Relative synTF-R Plasmid Uptake vs. Prominence_rel or Peak_rel\")\n",
    "    # axs[1,2].legend()\n",
    "    axs12_2.legend()\n",
    "\n",
    "    # plt.show()\n",
    "    plt.savefig(repo_path_sp+results_path+\"plasmid_uptake_plots_zoomed_\"+ str(idx) + \".svg\")"
   ]
  },
  {
   "cell_type": "markdown",
   "metadata": {},
   "source": [
    "#### Arithmetic mean ZF1/2 experiment"
   ]
  },
  {
   "cell_type": "code",
   "execution_count": 37,
   "metadata": {},
   "outputs": [
    {
     "data": {
      "text/plain": [
       "'['"
      ]
     },
     "metadata": {},
     "output_type": "display_data"
    }
   ],
   "source": [
    "path_pulses = \"Pulse_pop/Experiment_synTF1&2/pulse_conditions_exp.pkl\"\n",
    "path_save = repo_path_sp + \"Pulse_pop/Experiment_synTF1&2/\"\n",
    "\n",
    "all_cell_results_df20 = pd.read_pickle(repo_path_sp+path_pulses)\n",
    "display(all_cell_results_df20[\"single_cell_prominence\"][0][0])\n",
    "# for index, row in all_cell_results_df.iterrows():\n",
    "#     print(row[\"Topology\"].in_dict)\n"
   ]
  },
  {
   "cell_type": "code",
   "execution_count": null,
   "metadata": {},
   "outputs": [],
   "source": [
    "for index, row in all_cell_results_df20.iterrows():\n",
    "    all_cell_prom_list = eval(row[\"single_cell_prominence\"])\n",
    "    all_cell_peak_list = eval(row[\"single_cell_peaks\"])\n",
    "\n",
    "    # fig, axs = plt.subplots(3, 2, figsize= (6, 6), sharex=True)\n",
    "    avg_list = []\n",
    "    avg_no_pulse = []\n",
    "    avg_pulse = []\n",
    "\n",
    "    inh_rel_no_pulse_list = []\n",
    "    peak_no_pulse = []\n",
    "\n",
    "    inh_rel_pulse_list = []\n",
    "    prom_rel_pulse = []\n",
    "    for cell in range(20):\n",
    "        uptake_list = Z_20_df.iloc[cell].tolist()\n",
    "        uptake_list_no_p0 = deepcopy(uptake_list)[:-1]\n",
    "        uptake_list_no_p0.pop(0)\n",
    "        avg_no_inh = np.mean(uptake_list_no_p0)\n",
    "        inh_uptake = uptake_list[0]\n",
    "        avg_uptake = np.mean(uptake_list)\n",
    "        avg_list.append(avg_uptake)\n",
    "        cell_prom = all_cell_prom_list[cell]\n",
    "        if cell_prom == 0:\n",
    "            avg_no_pulse.append(avg_uptake)\n",
    "            peak_no_pulse.append(all_cell_peak_list[cell])\n",
    "            inh_rel = inh_uptake/avg_no_inh\n",
    "            inh_rel_no_pulse_list.append(inh_rel)\n",
    "        else:\n",
    "            avg_pulse.append(avg_uptake)\n",
    "            prom_rel_pulse.append(all_cell_prom_list[cell])\n",
    "            inh_rel = inh_uptake/avg_no_inh\n",
    "            inh_rel_pulse_list.append(inh_rel)\n",
    "                   #plot average plasmid uptake vs prominence for all cells\n",
    "    fig0, ax = plt.subplots(1, 1, figsize= (3, 2)) #, sharex=True)\n",
    "    ax.plot(avg_list, all_cell_prom_list, linestyle=\"none\", marker=\"o\", markersize=\"3\", color=\"k\")\n",
    "    ax.set_xlabel(\"Average plasmid uptake\")\n",
    "    ax.set_ylabel(\"Prominence_rel\")\n",
    "    ax.set_ylim(bottom=0)\n",
    "    ax.set_title(\"All Cells Average Plasmid Uptake vs. Prominence_rel\")\n",
    "    # plt.savefig(path_save+\"all_plasmid_uptake_\"+ str(index) + \".svg\")\n",
    "\n",
    "    fig, axs = plt.subplots(2, 3, figsize= (8, 4)) #, sharex=True)\n",
    "    axs[0,0].plot(avg_no_pulse, peak_no_pulse, linestyle=\"none\", marker=\"o\", markersize=\"3\", color=\"k\")\n",
    "    axs[0,0].set_xlabel(\"Average plasmid uptake\")\n",
    "    axs[0,0].set_ylabel(\"Peak_rel\")\n",
    "    axs[0,0].set_xlim(ax.get_xlim())\n",
    "    axs[0,0].set_title(\"Non-Pulse Cells Average Plasmid Uptake vs. Peak_rel\")\n",
    "\n",
    "    axs[0,1].plot(avg_pulse, prom_rel_pulse, linestyle=\"none\", marker=\"o\", markersize=\"3\", color=sky_blue)\n",
    "    axs[0,1].set_xlabel(\"Average plasmid uptake\")\n",
    "    axs[0,1].set_ylabel(\"Prominence_rel\")\n",
    "    axs[0,1].set_xlim(ax.get_xlim())\n",
    "    axs[0,1].set_title(\"Pulse Cells Average Plasmid Uptake vs. Prominence_rel\")\n",
    "\n",
    "    axs02_2 = axs[0,2].twinx()\n",
    "    axs02_2.plot(avg_no_pulse, peak_no_pulse, linestyle=\"none\", marker=\"o\", markersize=\"3\", color=\"k\", label=\"no pulse\")\n",
    "    axs[0,2].plot(avg_pulse, prom_rel_pulse, linestyle=\"none\", marker=\"o\", markersize=\"3\", color=sky_blue, label=\"pulse\")\n",
    "    axs[0,2].set_xlabel(\"Average plasmid uptake\")\n",
    "    axs[0,2].set_ylabel(\"Prominence_rel\")\n",
    "    axs02_2.set_ylabel(\"Peak_rel\")\n",
    "    axs[0,2].set_zorder(axs02_2.get_zorder()+1)\n",
    "    axs[0,2].patch.set_visible(False)\n",
    "    axs[0,2].spines[['right']].set_visible(True)\n",
    "    axs[0,2].set_title(\"Average Plasmid Uptake vs. Prominence_rel or Peak_rel\")\n",
    "    axs[0,2].legend()\n",
    "\n",
    "    axs[1,0].plot(inh_rel_no_pulse_list, peak_no_pulse, linestyle=\"none\", marker=\"o\", markersize=\"3\", color=\"k\")\n",
    "    axs[1,0].set_xlabel(\"Relative synTF-R plasmid uptake\")\n",
    "    axs[1,0].set_ylabel(\"Peak_rel\")\n",
    "    axs[1,0].set_xlim(0, 2)\n",
    "    axs[1,0].set_title(\"Non-Pulse Cells Relative synTF-R Plasmid Uptake vs. Peak_rel\")\n",
    "\n",
    "    axs[1,1].plot(inh_rel_pulse_list, prom_rel_pulse, linestyle=\"none\", marker=\"o\", markersize=\"3\", color=sky_blue)\n",
    "    axs[1,1].set_xlabel(\"Relative synTF-R plasmid uptake\")\n",
    "    axs[1,1].set_ylabel(\"Prominence_rel\")\n",
    "    axs[1,1].set_xlim(0, 2)\n",
    "    axs[1,1].set_title(\"Pulse Cells Relative synTF-R Plasmid Uptake vs. Prominence_rel\")\n",
    "\n",
    "    axs12_2 = axs[1,2].twinx()\n",
    "    axs12_2.plot(inh_rel_no_pulse_list, peak_no_pulse, linestyle=\"none\", marker=\"o\", markersize=\"3\", color=\"k\", label=\"no pulse\")\n",
    "    axs[1,2].plot(inh_rel_pulse_list, prom_rel_pulse, linestyle=\"none\", marker=\"o\", markersize=\"3\", color=sky_blue, label=\"pulse\")\n",
    "    axs[1,2].set_xlabel(\"Relative synTF-R plasmid uptake\")\n",
    "    axs[1,2].set_ylabel(\"Prominence_rel\")\n",
    "    axs12_2.set_ylabel(\"Peak_rel\")\n",
    "    axs[1,2].set_zorder(axs12_2.get_zorder()+1)\n",
    "    axs[1,2].patch.set_visible(False)\n",
    "    axs[1,2].spines[['right']].set_visible(True)\n",
    "    axs[1,2].set_xlim(0, 2)\n",
    "    axs[1,2].set_title(\"Relative synTF-R Plasmid Uptake vs. Prominence_rel or Peak_rel\")\n",
    "    # axs[1,2].legend()\n",
    "    axs12_2.legend()\n",
    "\n",
    "    plt.show()\n",
    "    # plt.savefig(path_save+\"plasmid_uptake_plots_zoomed_\"+ str(index) + \".svg\")"
   ]
  },
  {
   "cell_type": "code",
   "execution_count": null,
   "metadata": {},
   "outputs": [],
   "source": []
  }
 ],
 "metadata": {
  "kernelspec": {
   "display_name": "GCAD_GA",
   "language": "python",
   "name": "python3"
  },
  "language_info": {
   "codemirror_mode": {
    "name": "ipython",
    "version": 3
   },
   "file_extension": ".py",
   "mimetype": "text/x-python",
   "name": "python",
   "nbconvert_exporter": "python",
   "pygments_lexer": "ipython3",
   "version": "3.10.15"
  }
 },
 "nbformat": 4,
 "nbformat_minor": 2
}
