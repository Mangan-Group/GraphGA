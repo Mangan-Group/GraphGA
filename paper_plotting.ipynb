{
 "cells": [
  {
   "cell_type": "code",
   "execution_count": 1,
   "metadata": {},
   "outputs": [],
   "source": [
    "import numpy as np\n",
    "import pickle\n",
    "import pandas as pd\n",
    "import seaborn as sns\n",
    "# %matplotlib qt \n",
    "import matplotlib.pyplot as plt\n",
    "import matplotlib as mpl\n",
    "from brokenaxes import brokenaxes\n",
    "from load_files_pop import Z_20, Z_200\n",
    "from plot_search_results import (\n",
    "    plot_hypervolumes_set,\n",
    "    plot_pareto_front,\n",
    "    plot_pareto_front3D,\n",
    "    plot_1D_obj_scatter,\n",
    "    plot_1D_obj_confidence_interval,\n",
    "    plot_2D_obj_confidence_interval,\n",
    "    plot_obj_progression_set\n",
    ")\n",
    "from run_seed_comparisons import run_seed_results_comparisons\n",
    "from pulse_generator_problem import PulseGenerator\n",
    "\n",
    "plt.style.use('/Users/kdreyer/Documents/Github/GraphGA/paper.mplstyle.py')\n",
    "\n",
    "amp_blue = [i/255 for i in [102, 153, 204]]\n",
    "amp_green = [i/255 for i in [17, 119, 51]]\n",
    "# amp_pink = [i/255 for i in [204, 102, 119]]\n",
    "amp_dark_blue = [(i/255) for i in [51, 34, 136]] # previously pulse_blue\n",
    "amp_dark_pink = [i/255 for i in [170, 68, 153]]\n",
    "amp_yellow = [i/255 for i in [153, 153, 51]]\n",
    "amp_maroon = [i/255 for i in [102, 17, 0]]\n",
    "\n",
    "# blue, green, dark blue, dark pink, yellow, maroon\n",
    "colors_amp = [amp_blue, amp_green, amp_dark_blue, amp_dark_pink, amp_yellow, amp_maroon]\n",
    "grey_ = [(i/255) for i in [150, 150, 150]]\n",
    "# grey_2 = [(i/255) for i in [127, 127, 127]]\n",
    "grey_2 = [(i/255) for i in [100, 100, 100]]\n",
    "grey_3 = [(i/255) for i in [50, 50, 50]]\n",
    "\n",
    "pulse_teal = [(i/255) for i in [68, 170, 153]]\n",
    "pulse_pink = [(i/255) for i in [136, 34, 85]]\n",
    "# pulse_blue = [(i/255) for i in [51, 34, 136]]\n",
    "pulse_light_pink = [i/255 for i in [204, 102, 119]] # previously amp_pink\n",
    "pulse_light_blue = [(i/255) for i in [136, 204, 238]]\n",
    "colors_pulse_single = [pulse_teal, pulse_pink, pulse_light_pink, pulse_light_blue]\n",
    "\n",
    "combinatorial_yellow = [(i/255) for i in [221, 204, 119]]\n",
    "\n",
    "Z_200_df = pd.DataFrame(data = Z_200, columns = [\"plasmid_\" + str(i) for i in range(9)])\n",
    "Z_200_df = Z_200_df.drop(labels=[\"plasmid_\" + str(i) for i in range(5,9)], axis=1)\n",
    "Z_200_df[\"average\"] = np.mean(Z_200_df, axis=1)\n",
    "\n"
   ]
  },
  {
   "cell_type": "markdown",
   "metadata": {},
   "source": [
    "## Figure 2: Amplifier"
   ]
  },
  {
   "cell_type": "markdown",
   "metadata": {},
   "source": [
    "### (b) Single cell model GA ON_rel progression "
   ]
  },
  {
   "cell_type": "code",
   "execution_count": null,
   "metadata": {},
   "outputs": [],
   "source": [
    "path_amplifier_single = \"/Users/kdreyer/Library/CloudStorage/OneDrive-NorthwesternUniversity/KatieD_LL/GCAD_Collab/Selected_GA_results_paper/Amplifier_single_cell/Original_hyperparams_vary_dose/\"\n",
    "results_runs_single = \"Amplifier_single_cell_vary_dose_original_hp_seed_\"\n",
    "# run_seed_results_comparisons(path_amplifier_single, results_runs_single, 1, [\"ON_rel\"], 50, 0)"
   ]
  },
  {
   "cell_type": "markdown",
   "metadata": {},
   "source": [
    "### (c) Population model GA ON_rel progression"
   ]
  },
  {
   "cell_type": "code",
   "execution_count": null,
   "metadata": {},
   "outputs": [],
   "source": [
    "path_amplifier_pop = \"/Users/kdreyer/Library/CloudStorage/OneDrive-NorthwesternUniversity/KatieD_LL/GCAD_Collab/Selected_GA_results_paper/Amplifier_pop/Original_hyperparams_vary_dose/\"\n",
    "results_runs_pop = \"Amplifier_pop_vary_dose_original_hp_seed_\"\n",
    "# run_seed_results_comparisons(path_amplifier_pop, results_runs_pop, 1, [\"ON_rel\"], 50, 0)"
   ]
  },
  {
   "cell_type": "markdown",
   "metadata": {},
   "source": [
    "### (d) Population model GA search space and CI"
   ]
  },
  {
   "cell_type": "code",
   "execution_count": null,
   "metadata": {},
   "outputs": [],
   "source": [
    "def plot_1D_CI_labeled(\n",
    "        results_path: str,\n",
    "):\n",
    "    \n",
    "    labeled_CI_circuits = pd.read_csv(results_path+\"labeled_CI_circuits.csv\")\n",
    "    labled_CI_circuit_variants = pd.read_csv(results_path+\"labeled_CI_circuit_variants.csv\")\n",
    "    opt_objs = labeled_CI_circuits.drop(list(\n",
    "        labeled_CI_circuits.filter(regex=\"topology\")\n",
    "        ), axis=1)\n",
    "    opt_objs = opt_objs.drop(list(\n",
    "        labeled_CI_circuits.filter(regex=\"doses\")\n",
    "        ), axis=1)\n",
    "    opt_objs = opt_objs.drop(list(\n",
    "        labeled_CI_circuits.filter(regex=\"Unnamed: 0\")\n",
    "        ), axis=1)\n",
    "    opt_variant_objs = labled_CI_circuit_variants.drop(list(\n",
    "        labled_CI_circuit_variants.filter(regex=\"topology\")\n",
    "        ), axis=1)\n",
    "    opt_variant_objs = opt_variant_objs.drop(list(\n",
    "        labled_CI_circuit_variants.filter(regex=\"doses\")\n",
    "        ), axis=1)\n",
    "    opt_variant_objs = opt_variant_objs.drop(list(\n",
    "        labled_CI_circuit_variants.filter(regex=\"Unnamed: 0\")\n",
    "        ), axis=1)\n",
    "    opt_objs_T = opt_objs.transpose()\n",
    "    opt_objs_T[\"opt_topo\"] = opt_objs_T.index\n",
    "    opt_variant_objs_T = opt_variant_objs.transpose()\n",
    "    opt_variant_objs_T[\"opt_topo\"] = opt_variant_objs_T.index\n",
    "\n",
    "    opt_objs_plot = pd.melt(frame=opt_objs_T,\n",
    "                            id_vars=\"opt_topo\",\n",
    "                            var_name=\"column_name\",\n",
    "                            value_name=\"ON_rel\")\n",
    "    opt_objs_plot.dropna(inplace=True)\n",
    "    opt_variant_objs_plot = pd.melt(frame=opt_variant_objs_T,\n",
    "                            id_vars=\"opt_topo\",\n",
    "                            var_name=\"column_name\",\n",
    "                            value_name=\"ON_rel\")\n",
    "    opt_variant_objs_plot.dropna(inplace=True)\n",
    "    x_vals = [0]*len(opt_objs_plot)\n",
    "    np.random.seed(0)\n",
    "    jittered_x = x_vals + np.random.rand(\n",
    "        len(x_vals))\n",
    "    opt_objs_plot[\"jittered_x\"] = jittered_x\n",
    "\n",
    "    x_vals_var = [0]*len(opt_variant_objs_plot)\n",
    "    jittered_x_var = x_vals_var + np.random.rand(\n",
    "        len(x_vals_var))\n",
    "    opt_variant_objs_plot[\"jittered_x\"] = jittered_x_var\n",
    "\n",
    "    fig, ax = plt.subplots(1, 1, figsize=(2, 1.75))\n",
    "    sns.scatterplot(data= opt_objs_plot, x=\"jittered_x\", y=\"ON_rel\", ax=ax, hue=\"opt_topo\", palette=colors_amp, s=15, legend=False)\n",
    "    sns.scatterplot(data= opt_variant_objs_plot, x=\"jittered_x\", y=\"ON_rel\", ax=ax, hue=\"opt_topo\", palette=[colors_amp[2], colors_amp[5]], marker= \"+\", s=20, legend=False)\n",
    "    lower_bound = [63.11786016]*len(opt_objs_plot)\n",
    "    upper_bound = [63.50911412131601]*len(opt_objs_plot)\n",
    "    jittered_x.sort()\n",
    "    ax.fill_between(jittered_x, lower_bound, upper_bound, alpha=0.15, color=\"grey\", linewidth=0.1, zorder=3)\n",
    "    ax.set_xticks([])\n",
    "    ax.set_yticks([63.1, 63.2, 63.3, 63.4, 63.5])\n",
    "    ax.set_ylim(bottom=63.1)\n",
    "    ax.set_xlabel(\"\")\n",
    "    # plt.show()\n",
    "    plt.savefig(results_path+\"labeled_circuits_in_CI_v2.svg\", bbox_inches=\"tight\")\n"
   ]
  },
  {
   "cell_type": "code",
   "execution_count": null,
   "metadata": {},
   "outputs": [],
   "source": [
    "path = \"/Users/kdreyer/Library/CloudStorage/OneDrive-NorthwesternUniversity/KatieD_LL/GCAD_Collab/Selected_GA_results_paper/Amplifier_pop/Original_hyperparams_vary_dose/Amplifier_pop_vary_dose_original_hp_seed_0/\"\n",
    "results_analysis = \"2024-08-23_results_analysis_full_CI/\"\n",
    "\n",
    "# plot_1D_CI_labeled(path+results_analysis)"
   ]
  },
  {
   "cell_type": "code",
   "execution_count": null,
   "metadata": {},
   "outputs": [],
   "source": [
    "path_amp_pop_results = path_amplifier_pop + \"Amplifier_pop_vary_dose_original_hp_seed_0/\"\n",
    "path_Z_sampling = \"Z_matrix_sampling/selected_high_ON_rel/\"\n",
    "Z_CI_fname= \"Z_matrix_sampling_for_CI.pkl\"\n",
    "CI_Z_sampling = pd.read_pickle(path_amp_pop_results+path_Z_sampling+Z_CI_fname)\n",
    "ON_rel_max = 63.50911412131601\n",
    "CI_stderr = max(CI_Z_sampling[\"ON_rel_std_error\"])\n",
    "\n",
    "# plot_1D_obj_confidence_interval(path_amp_pop_results, path_amp_pop_results+path_Z_sampling+\"CI_paper.svg\", CI_stderr, [\"ON_rel\"], y_lim_bottom=0.0)"
   ]
  },
  {
   "cell_type": "markdown",
   "metadata": {},
   "source": [
    "### (f) experimental data"
   ]
  },
  {
   "cell_type": "code",
   "execution_count": null,
   "metadata": {},
   "outputs": [],
   "source": [
    "x_labels = [1, 2, 3, 4]\n",
    "ON_rel_design = [62.706, 63.304, 36.275, 35.727]\n",
    "ON_rel_test = [18.263, 18.475, 10.604, 10.523]\n",
    "ON_rel_exp = [2.943, 2.456, 7.522, 6.928]\n",
    "ON_rel_exp_stderr = [0.459, 0.383, 1.182, 1.301]"
   ]
  },
  {
   "cell_type": "code",
   "execution_count": null,
   "metadata": {},
   "outputs": [],
   "source": [
    "experimental_data_path = \"/Users/kdreyer/Library/CloudStorage/OneDrive-NorthwesternUniversity/KatieD_LL/GCAD_Collab/Experimental_data_&_planning/\"\n",
    "fig, ax = plt.subplots(1, 1, figsize=(2.25, 1.75), sharex=True, sharey=True)\n",
    "xticks = []\n",
    "for i in range(len(ON_rel_design)):\n",
    "    ax.bar(i-0.25, ON_rel_design[i], color=grey_, width=0.225, align=\"center\", label=\"design\")\n",
    "    ax.bar(i, ON_rel_test[i], color=grey_2, width=0.225, align=\"center\", label=\"test\")\n",
    "    ax.bar(i+0.25, ON_rel_exp[i], color=grey_3, width=0.225, align=\"center\", label=\"exp\")\n",
    "    (_, caps1, _) = ax.errorbar(i+0.25, ON_rel_exp[i], ON_rel_exp_stderr[i], color=\"k\", capsize=1.5, elinewidth=0.5)\n",
    "    for cap in caps1:\n",
    "        cap.set_markeredgewidth(0.5)\n",
    "\n",
    "    xticks.append(i)\n",
    "ax.set_xticks(xticks)\n",
    "ax.set_xticklabels([\"1\", \"2\", \"3\", \"4\"])\n",
    "ax.set_xlabel(\"Amplifier topology\")\n",
    "ax.set_ylabel(\"ON_rel\")\n",
    "# plt.legend()\n",
    "# plt.show()\n",
    "# plt.savefig(experimental_data_path+\"amplifier_experiment.svg\")"
   ]
  },
  {
   "cell_type": "markdown",
   "metadata": {},
   "source": [
    "## Supplementary Figure 1: Amplifier GA search space vs. combinatorial search"
   ]
  },
  {
   "cell_type": "code",
   "execution_count": null,
   "metadata": {},
   "outputs": [],
   "source": [
    "path_amplifier_single = \"/Users/kdreyer/Library/CloudStorage/OneDrive-NorthwesternUniversity/KatieD_LL/GCAD_Collab/Selected_GA_results_paper/Amplifier_single_cell/Original_hyperparams_vary_dose/Amplifier_single_cell_vary_dose_original_hp_seed_0/\"\n",
    "fname_GA_single = \"all_unique_obj.pkl\"\n",
    "path_amp_combinatorial = \"/Users/kdreyer/Library/CloudStorage/OneDrive-NorthwesternUniversity/KatieD_LL/GCAD_Collab/Selected_GA_results_paper/Combinatorial_search/ON_rel_dsred0.pkl\"\n",
    "\n",
    "with open(path_amplifier_single+fname_GA_single, \"rb\") as fid:\n",
    "    amp_GA_single = pickle.load(fid)\n",
    "with open(path_amp_combinatorial, \"rb\") as fid:\n",
    "    amp_combinatorial = pickle.load(fid)\n",
    "amp_combinatorial = abs(amp_combinatorial)\n",
    "amp_combinatorial.sort()\n",
    "\n",
    "# plot_1D_obj_scatter(path_amplifier_single+\"GA_search_space_paper_v2.svg\", abs(amp_GA_single), [\"ON_rel\"])"
   ]
  },
  {
   "cell_type": "markdown",
   "metadata": {},
   "source": [
    "## ***Supplementary Figure 2: Percentage unique topologies explored for Amplifier and Signal Conditioner relative to combinatorial search"
   ]
  },
  {
   "cell_type": "code",
   "execution_count": null,
   "metadata": {},
   "outputs": [],
   "source": []
  },
  {
   "cell_type": "markdown",
   "metadata": {},
   "source": [
    "## Supplementary Figure 3: Amplifier 20 vs 200-cell model ON_rel for single cell results"
   ]
  },
  {
   "cell_type": "code",
   "execution_count": null,
   "metadata": {},
   "outputs": [],
   "source": [
    "path_amplifier_single = \"/Users/kdreyer/Library/CloudStorage/OneDrive-NorthwesternUniversity/KatieD_LL/GCAD_Collab/Selected_GA_results_paper/Amplifier_single_cell/Original_hyperparams_vary_dose/Amplifier_single_cell_vary_dose_original_hp_seed_0/\"\n",
    "path_high_obj = path_amplifier_single + \"pop20v200_comparison_high/pop_model_comparisons.csv\"\n",
    "path_mid_obj = path_amplifier_single + \"pop20v200_comparison_mid-range/pop_model_comparisons.csv\"\n",
    "path_low_obj = path_amplifier_single + \"pop20v200_comparison_low/pop_model_comparisons.csv\"\n",
    "\n",
    "high_obj = pd.read_csv(path_high_obj)\n",
    "mid_obj = pd.read_csv(path_mid_obj)\n",
    "low_obj = pd.read_csv(path_low_obj)\n",
    "\n",
    "all_objs = pd.concat([high_obj, mid_obj, low_obj])\n",
    "all_objs.drop([\"Unnamed: 0\"], inplace=True, axis=1)"
   ]
  },
  {
   "cell_type": "code",
   "execution_count": null,
   "metadata": {},
   "outputs": [],
   "source": [
    "fig, ax = plt.subplots(1, 1, figsize=(2.6, 2.6)) #(1.7, 1.7)\n",
    "ax.plot(all_objs[\"20_cell\"], all_objs[\"200_cell\"], linestyle=\"none\", marker=\"o\", markersize=\"2\", color=\"k\") #markersize=\"1.5\"\n",
    "ax.plot([0, 70], [0, 70], linestyle=\"dashed\", color=\"k\")\n",
    "ax.set_xlabel(\"20-cell objective (ON_rel,avg)\")\n",
    "ax.set_ylabel(\"200-cell objective (ON_rel,avg)\")\n",
    "ax.set_xlim(left=0)\n",
    "ax.set_ylim(bottom=0)\n",
    "ax.set_box_aspect(1)\n",
    "ax.set_xticks([0, 20, 40, 60])\n",
    "ax.set_yticks([0, 20, 40, 60])\n",
    "# plt.show()\n",
    "# plt.savefig(path_amplifier_single+\"20v200_parity_paper_v2.svg\", bbox_inches=\"tight\")"
   ]
  },
  {
   "cell_type": "markdown",
   "metadata": {},
   "source": [
    "## Supplementary Figure 4: Amplifier 20 vs 200-cell model ON_rel for 20-cell GA results"
   ]
  },
  {
   "cell_type": "markdown",
   "metadata": {},
   "source": [
    "### CI objectives comparison"
   ]
  },
  {
   "cell_type": "code",
   "execution_count": null,
   "metadata": {},
   "outputs": [],
   "source": [
    "def plot_CI_comparison(\n",
    "        figure_path: str,\n",
    "        objs_20: list,\n",
    "        CI_max_20: float,\n",
    "        CI_max_200: float\n",
    "):\n",
    "\n",
    "    np.random.seed(0)\n",
    "    x_vals = [1]*len(objs_20)\n",
    "    jittered_x = x_vals + 0.1*np.random.rand(\n",
    "        len(x_vals))\n",
    "    lower_bound_20 = [max(objs_20)-CI_max_20]*(len(objs_20))#+2)\n",
    "    upper_bound_20 = [max(objs_20)]*(len(objs_20))#+2)\n",
    "    lower_bound_200 = [max(objs_20)-CI_max_200]*(len(objs_20))#+2)\n",
    "    upper_bound_200 = [max(objs_20)]*(len(objs_20))#+2)\n",
    "\n",
    "    mpl.rcParams[\"figure.autolayout\"] = False\n",
    "    fig = plt.figure(figsize= (2.5, 3)) #(1.65, 1.95)\n",
    "    bax = brokenaxes(ylims=((0, 0.025), (63.05, 63.55)), hspace=0.1)\n",
    "    bax.plot(jittered_x, objs_20, linestyle=\"None\",\n",
    "             marker=\"o\", markersize=2.5, color=\"black\", zorder=0)\n",
    "    x_CI_fill = jittered_x #np.append(jittered_x, [0.995, 1.105])\n",
    "    x_CI_fill.sort()\n",
    "    bax.fill_between(x_CI_fill, lower_bound_20, upper_bound_20, alpha=0.15, color=\"grey\", zorder=2,\n",
    "                    linewidth=0.25)\n",
    "    bax.fill_between(x_CI_fill, lower_bound_200, upper_bound_200, alpha=0.15, color=\"k\", zorder=3,\n",
    "                linewidth=0.25)\n",
    "    # bax.set_xticklabels([])\n",
    "    # bax.set_xlim([0.995, 1.105])\n",
    "    bax.axs[0].set_xticks([])\n",
    "    bax.axs[1].set_xticks([])\n",
    "    bax.set_ylabel(\"ON_rel\")\n",
    "    # bax.set_ylim(bottom=0)\n",
    "    bax.axs[1].set_yticks([0])\n",
    "    bax.axs[0].set_yticks([63.1, 63.2, 63.3, 63.4, 63.5])\n",
    "    # plt.show()\n",
    "    plt.savefig(figure_path, bbox_inches=\"tight\")"
   ]
  },
  {
   "cell_type": "code",
   "execution_count": null,
   "metadata": {},
   "outputs": [],
   "source": [
    "path_amp_pop = \"/Users/kdreyer/Library/CloudStorage/OneDrive-NorthwesternUniversity/KatieD_LL/GCAD_Collab/Selected_GA_results_paper/Amplifier_pop/Original_hyperparams_vary_dose/Amplifier_pop_vary_dose_original_hp_seed_0/\"\n",
    "path_objs_20 = \"2024-08-23_results_analysis_full_CI/selected_results_high_ON_rel.csv\"\n",
    "objs_20 = pd.read_csv(path_amp_pop+path_objs_20)[\"ON_rel\"]\n",
    "CI_stderr_20 = 0.39125398706065023\n",
    "CI_stderr_200 = 0.17084631168330153\n",
    "# plot_CI_comparison(path_amp_pop+\"CI_comparison_paper_v2.svg\", objs_20, CI_stderr_20, CI_stderr_200)"
   ]
  },
  {
   "cell_type": "markdown",
   "metadata": {},
   "source": [
    "### all objectives parity"
   ]
  },
  {
   "cell_type": "code",
   "execution_count": null,
   "metadata": {},
   "outputs": [],
   "source": [
    "path_amp_CI = \"/Users/kdreyer/Library/CloudStorage/OneDrive-NorthwesternUniversity/KatieD_LL/GCAD_Collab/Selected_GA_results_paper/Amplifier_pop/Original_hyperparams_vary_dose/Amplifier_pop_vary_dose_original_hp_seed_0/pop200_comparison_CI/\"\n",
    "CI_fname = \"pop_model_comparisons.csv\"\n",
    "ON_rel_comparison = pd.read_csv(path_amp_CI+CI_fname)\n",
    "ON_rel_comparison.drop([\"Unnamed: 0\", \"2000_cell\"], axis=1, inplace=True)\n",
    "# plot_CI_comparison(path_amp_CI+\"CI_comparison_paper.svg\", ON_rel_comparison[\"20_cell\"].tolist(), ON_rel_comparison[\"200_cell\"].tolist(), CI_stderr)"
   ]
  },
  {
   "cell_type": "code",
   "execution_count": null,
   "metadata": {},
   "outputs": [],
   "source": [
    "path_amp_mid = \"/Users/kdreyer/Library/CloudStorage/OneDrive-NorthwesternUniversity/KatieD_LL/GCAD_Collab/Selected_GA_results_paper/Amplifier_pop/Original_hyperparams_vary_dose/Amplifier_pop_vary_dose_original_hp_seed_0/pop200_comparison_mid-range/pop_model_comparisons.csv\"\n",
    "path_amp_low = \"/Users/kdreyer/Library/CloudStorage/OneDrive-NorthwesternUniversity/KatieD_LL/GCAD_Collab/Selected_GA_results_paper/Amplifier_pop/Original_hyperparams_vary_dose/Amplifier_pop_vary_dose_original_hp_seed_0/pop200_comparison_low/pop_model_comparisons.csv\"\n",
    "\n",
    "ON_rel_mid = pd.read_csv(path_amp_mid)\n",
    "ON_rel_mid.drop([\"Unnamed: 0\"], axis=1, inplace=True)\n",
    "\n",
    "ON_rel_low = pd.read_csv(path_amp_low)\n",
    "ON_rel_low.drop([\"Unnamed: 0\"], axis=1, inplace=True)\n",
    "\n",
    "ON_rel_all = pd.concat([ON_rel_comparison, ON_rel_mid, ON_rel_low])"
   ]
  },
  {
   "cell_type": "code",
   "execution_count": null,
   "metadata": {},
   "outputs": [],
   "source": [
    "path_amp_save = \"/Users/kdreyer/Library/CloudStorage/OneDrive-NorthwesternUniversity/KatieD_LL/GCAD_Collab/Selected_GA_results_paper/Amplifier_pop/Original_hyperparams_vary_dose/Amplifier_pop_vary_dose_original_hp_seed_0/\"\n",
    "\n",
    "fig, ax = plt.subplots(1, 1, figsize=(2.6, 2.6)) #(1.7, 1.7)\n",
    "ax.plot(ON_rel_all[\"20_cell\"], ON_rel_all[\"200_cell\"], linestyle=\"none\", marker=\"o\", markersize=\"2\", color=\"k\") # markersize=\"1.5\"\n",
    "ax.plot([0, 70], [0, 70], linestyle=\"dashed\", color=\"k\")\n",
    "ax.set_xlabel(\"20-cell objective (ON_rel)\")\n",
    "ax.set_ylabel(\"200-cell objective (ON_rel)\")\n",
    "ax.set_xlim(left=0)\n",
    "ax.set_ylim(bottom=0)\n",
    "ax.set_box_aspect(1)\n",
    "ax.set_xticks([0, 20, 40, 60])\n",
    "ax.set_yticks([0, 20, 40, 60])\n",
    "# plt.show()\n",
    "# plt.savefig(path_amp_save+\"20v200_parity_paper_v2.svg\", bbox_inches=\"tight\")"
   ]
  },
  {
   "cell_type": "markdown",
   "metadata": {},
   "source": [
    "## Supplementary Figure 6: pEnd characterization using reference case dox dose-response"
   ]
  },
  {
   "cell_type": "code",
   "execution_count": null,
   "metadata": {},
   "outputs": [],
   "source": [
    "dox = [0, 5.011872336272722, 7.943282347242816, 0.3981071705534972, 0.6309573444801932, \n",
    "       1, 1.5848931924611136, 2.511886432, 3.9810717055349722, 6.309573444801933, 10,\n",
    "       15.848931924611133, 25.118864315095795, 39.810717055349734, 63.09573444801933, 100]\n",
    "MEFLs = [447479.8795885249, 23255976.946826715, 70840848.77692752, 509626.6853615729, \n",
    "        1160274.9714673548, 626188.1239869102, 1654115.8666059247, 3626468.111563251, \n",
    "        13799420.880309809, 33792679.02607624, 105681140.21534804, 147324624.77849075, \n",
    "        182036575.77164078, 143984870.35957584, 213604017.49083412, 224513083.06387034]\n",
    "MEFLs_scaled = [i/1E8 for i in MEFLs]\n",
    "MEFLs_stderr = [42426.735446439736, 3024524.7966865567, 9523827.893799337, 20120.29130572459, \n",
    "                579507.2788822807, 55732.67235114641, 78942.46945357564, 350612.8806741071, \n",
    "                2350324.4521878795, 6006171.734513734, 5474839.214213582, 2934320.8583848705, \n",
    "                7533260.075501128, 6727375.724475208, 6262844.7219046205, 6302605.568264454]\n",
    "MEFLs_stderr_scaled = [i/1E8 for i in MEFLs_stderr]\n",
    "\n",
    "fig, ax = plt.subplots(1, 1, figsize=(3, 3)) #(2.25, 2.25)\n",
    "(_, caps, _) = ax.errorbar(dox[:11], y=MEFLs_scaled[:11], yerr=MEFLs_stderr_scaled[:11], color=grey_, linestyle=\"none\", marker=\"o\", markersize=\"2.5\", ecolor=\"k\", elinewidth=0.5, capsize=1.5, zorder=2)\n",
    "ax.plot(dox[6:8], MEFLs_scaled[6:8], color=\"k\", linestyle=\"none\", marker=\"o\", markersize=\"2.5\", zorder=5)\n",
    "ax.set_xscale(\"symlog\")\n",
    "ax.set_xlim(left=0)\n",
    "ax.set_xlabel(\"Dox concentration (ng/mL)\")\n",
    "ax.set_ylim(bottom=0)\n",
    "ax.set_yticks([0, 0.5, 1])\n",
    "ax.set_ylabel(\"Reporter expression (x10^8 MEFLs)\")\n",
    "\n",
    "for cap in caps:\n",
    "        cap.set_markeredgewidth(0.5)\n",
    "\n",
    "# plt.show()\n",
    "# plt.savefig(\"/Users/kdreyer/Desktop/dox_dose-response_ref.svg\")"
   ]
  },
  {
   "cell_type": "markdown",
   "metadata": {},
   "source": [
    "## Figure 3: Signal conditioner"
   ]
  },
  {
   "cell_type": "markdown",
   "metadata": {},
   "source": [
    "### (b) Single cell initial hyperparameter pareto front"
   ]
  },
  {
   "cell_type": "code",
   "execution_count": null,
   "metadata": {},
   "outputs": [],
   "source": [
    "path_sigcond_single = \"/Users/kdreyer/Library/CloudStorage/OneDrive-NorthwesternUniversity/KatieD_LL/GCAD_Collab/Selected_GA_results_paper/Signal_conditioner_single_cell/synTF-R-DsR/Amplifier_optimized_hyperparams/run4_ngen10000/\"\n",
    "selected_seed_single = \"2025-02-07_Signal_cond_single_DsRED_amp_hps_ngen10000_seed_1/\"\n",
    "pareto_obj_df = pd.read_pickle(path_sigcond_single+selected_seed_single+\"final_objectives_df.pkl\")\n",
    "# plot_pareto_front(path_sigcond_single+selected_seed_single+\"pareto_front_paper.svg\", pareto_obj_df, [\"ON_rel\", \"FI_rel\"], False)"
   ]
  },
  {
   "cell_type": "markdown",
   "metadata": {},
   "source": [
    "### (b) Single cell initial hyperparameter hypervolume set"
   ]
  },
  {
   "cell_type": "code",
   "execution_count": null,
   "metadata": {},
   "outputs": [],
   "source": [
    "path_sigcond_single = \"/Users/kdreyer/Library/CloudStorage/OneDrive-NorthwesternUniversity/KatieD_LL/GCAD_Collab/Selected_GA_results_paper/Signal_conditioner_single_cell/synTF-R-DsR/Amplifier_optimized_hyperparams/run4_ngen10000/\"\n",
    "results_runs_single = \"2025-02-07_Signal_cond_single_DsRED_amp_hps_ngen10000_seed_\"\n",
    "# run_seed_results_comparisons(path_sigcond_single, results_runs_single, 2, [\"ON_rel\", \"FI_rel\"], 10000, 1)"
   ]
  },
  {
   "cell_type": "markdown",
   "metadata": {},
   "source": [
    "### (d) Single cell optimized hyperparameter pareto front"
   ]
  },
  {
   "cell_type": "code",
   "execution_count": null,
   "metadata": {},
   "outputs": [],
   "source": [
    "path_sigcond_single_opt = \"/Users/kdreyer/Library/CloudStorage/OneDrive-NorthwesternUniversity/KatieD_LL/GCAD_Collab/Selected_GA_results_paper/Signal_conditioner_single_cell/synTF-R-DsR/Optimized_hyperparams_fixed_pop_max_hv_ngen50/run8_ngen10000_0/\"\n",
    "selected_seed_single_opt = \"2025-01-14_Signal_cond_single_DsRED_opt_hps0_ngen10000_seed_3/\"\n",
    "pareto_obj_df = pd.read_pickle(path_sigcond_single_opt+selected_seed_single_opt+\"final_objectives_df.pkl\")\n",
    "# plot_pareto_front(path_sigcond_single_opt+selected_seed_single_opt+\"pareto_front_paper.svg\", pareto_obj_df, [\"ON_rel\", \"FI_rel\"], False)"
   ]
  },
  {
   "cell_type": "markdown",
   "metadata": {},
   "source": [
    "### (d) Single cell optimized hyperparameter hypervolume set"
   ]
  },
  {
   "cell_type": "code",
   "execution_count": null,
   "metadata": {},
   "outputs": [],
   "source": [
    "path_sigcond_single_opt = \"/Users/kdreyer/Library/CloudStorage/OneDrive-NorthwesternUniversity/KatieD_LL/GCAD_Collab/Selected_GA_results_paper/Signal_conditioner_single_cell/synTF-R-DsR/Optimized_hyperparams_fixed_pop_max_hv_ngen50/run8_ngen10000_0/\"\n",
    "results_runs_single_opt = \"2025-01-14_Signal_cond_single_DsRED_opt_hps0_ngen10000_seed_\"\n",
    "# run_seed_results_comparisons(path_sigcond_single_opt, results_runs_single_opt, 2, [\"ON_rel\", \"FI_rel\"], 10000, 3)"
   ]
  },
  {
   "cell_type": "markdown",
   "metadata": {},
   "source": [
    "## Supplementary Figure 7: Signal Conditioner original hyperparameter solutions comparison for different hypervolumes"
   ]
  },
  {
   "cell_type": "code",
   "execution_count": null,
   "metadata": {},
   "outputs": [],
   "source": [
    "def plot_pareto_comparison(\n",
    "        figure_path: str, \n",
    "        obj_df1: pd.DataFrame,\n",
    "        obj_df2: pd.DataFrame,\n",
    "        obj_labels: list,\n",
    "):\n",
    "        fig, ax = plt.subplots(1, 1, figsize= (3, 3)) #(1.955, 1.955)\n",
    "        sns.scatterplot(data=obj_df1, x= obj_df1[obj_labels[0]],\n",
    "                        y= obj_df1[obj_labels[1]], \n",
    "                        color=grey_, ax=ax, s=9, linewidth=0.05, zorder=2, #s=3\n",
    "                        edgecolor=\"k\")\n",
    "        \n",
    "        sns.scatterplot(data=obj_df2, x= obj_df2[obj_labels[0]],\n",
    "                        y= obj_df2[obj_labels[1]], \n",
    "                        color=\"black\", ax=ax, s=9, linewidth=0.05) #s=3\n",
    "\n",
    "        ax.set_xlabel(obj_labels[0])\n",
    "        ax.set_ylabel(obj_labels[1])\n",
    "        ax.set_xticks([0, 20, 40, 60])\n",
    "        ax.set_xlim(left=0)\n",
    "        ax.set_ylim(bottom=0, top=1.75)\n",
    "        plt.yticks([0, 0.5, 1.0, 1.5])\n",
    "        ax.set_box_aspect(1)\n",
    "        # plt.show()\n",
    "        plt.savefig(figure_path, bbox_inches=\"tight\")"
   ]
  },
  {
   "cell_type": "code",
   "execution_count": null,
   "metadata": {},
   "outputs": [],
   "source": [
    "path_sigcond_single = \"/Users/kdreyer/Library/CloudStorage/OneDrive-NorthwesternUniversity/KatieD_LL/GCAD_Collab/Selected_GA_results_paper/Signal_conditioner_single_cell/synTF-R-DsR/Amplifier_optimized_hyperparams/run4_ngen10000/\"\n",
    "selected_seed_single = \"2025-02-07_Signal_cond_single_DsRED_amp_hps_ngen10000_seed_1/\"\n",
    "\n",
    "with open(path_sigcond_single+selected_seed_single+\"top_objs_all.pkl\", \"rb\") as fid:\n",
    "    top_objs_all = pickle.load(fid)\n",
    "top_objs_last_10gens = top_objs_all[-10:]\n",
    "\n",
    "top_objs_9990 = pd.DataFrame(top_objs_last_10gens[-10], columns=[\"ON_rel\", \"FI_rel\"])\n",
    "top_objs_9996 = pd.DataFrame(top_objs_last_10gens[-4], columns=[\"ON_rel\", \"FI_rel\"])\n",
    "\n",
    "# plot_pareto_comparison(path_sigcond_single+selected_seed_single+\"pareto_gen9990v9996_v2.svg\", abs(top_objs_9990), abs(top_objs_9996), [\"ON_rel\", \"FI_rel\"])\n"
   ]
  },
  {
   "cell_type": "markdown",
   "metadata": {},
   "source": [
    "## Supplementary Figure 8: Signal Conditioner initial hyperparameters with GA population size 200 and ratio 0.25 hypervolume set"
   ]
  },
  {
   "cell_type": "code",
   "execution_count": 2,
   "metadata": {},
   "outputs": [
    {
     "data": {
      "image/png": "[encoded data removed]",
      "text/plain": [
       "<Figure size 200x200 with 1 Axes>"
      ]
     },
     "metadata": {},
     "output_type": "display_data"
    },
    {
     "data": {
      "image/png": "[encoded data removed]",
      "text/plain": [
       "<Figure size 200x200 with 1 Axes>"
      ]
     },
     "metadata": {},
     "output_type": "display_data"
    },
    {
     "data": {
      "image/png": "[encoded data removed]",
      "text/plain": [
       "<Figure size 300x300 with 3 Axes>"
      ]
     },
     "metadata": {},
     "output_type": "display_data"
    },
    {
     "data": {
      "image/png": "[encoded data removed]",
      "text/plain": [
       "<Figure size 300x300 with 1 Axes>"
      ]
     },
     "metadata": {},
     "output_type": "display_data"
    }
   ],
   "source": [
    "path_sigcond_single_opt = \"/Users/kdreyer/Library/CloudStorage/OneDrive-NorthwesternUniversity/KatieD_LL/GCAD_Collab/Selected_GA_results_paper/Signal_conditioner_single_cell/synTF-R-DsR/Amplifier_optimized_hyperparams/run5_ngen10000_npop200/\"\n",
    "results_runs_single_opt = \"2025-03-10_Signal_cond_single_DsRED_amp_hps_200_ngen10000_seed_\"\n",
    "run_seed_results_comparisons(path_sigcond_single_opt, results_runs_single_opt, 2, [\"ON_rel\", \"FI_rel\"], 10000, 4)"
   ]
  },
  {
   "cell_type": "markdown",
   "metadata": {},
   "source": [
    "## Supplementary Figure 9: Signal Conditioner GA search space vs. combinatorial search"
   ]
  },
  {
   "cell_type": "code",
   "execution_count": null,
   "metadata": {},
   "outputs": [],
   "source": [
    "def plot_pareto_comparison(\n",
    "        figure_path: str, \n",
    "        obj_df1: pd.DataFrame,\n",
    "        obj_df2: pd.DataFrame,\n",
    "        obj_labels: list,\n",
    "):\n",
    "        fig, ax = plt.subplots(1, 1, figsize= (3, 3)) #(1.955, 1.955)\n",
    "        sns.scatterplot(data=obj_df1, x= obj_df1[obj_labels[0]],\n",
    "                        y= obj_df1[obj_labels[1]], \n",
    "                        # color=combinatorial_yellow, ax=ax, s=9, linewidth=0.05, #s=3\n",
    "                        # edgecolor=\"k\")\n",
    "                        color=grey_, ax=ax, s=9, linewidth=0.05) #s=3\n",
    "        \n",
    "        sns.scatterplot(data=obj_df2, x= obj_df2[obj_labels[0]],\n",
    "                        y= obj_df2[obj_labels[1]], \n",
    "                        color=\"black\", ax=ax, s=9, linewidth=0.05, zorder=2) #s=3\n",
    "\n",
    "        ax.set_xlabel(obj_labels[0])\n",
    "        ax.set_ylabel(obj_labels[1])\n",
    "        # ax.set_xticks([0, 20, 40, 60]) # pulse pareto comparison\n",
    "        ax.set_xticks([0, 40, 80, 120]) # pulse search space\n",
    "        ax.set_xlim(left=0)\n",
    "        ax.set_ylim(bottom=0)\n",
    "        ax.set_yticks([0, 10, 20, 30]) # pulse search space / pareto comparison\n",
    "        # ax.set_ylim(bottom=0, top=1.75) #signal conditioner\n",
    "        # ax.set_yticks([0, 0.5, 1.0, 1.5]) #signal conditioner\n",
    "        ax.set_box_aspect(1)\n",
    "        # plt.show()\n",
    "        plt.savefig(figure_path, bbox_inches=\"tight\")"
   ]
  },
  {
   "cell_type": "code",
   "execution_count": null,
   "metadata": {},
   "outputs": [],
   "source": [
    "path_sc_combinatorial = \"/Users/kdreyer/Library/CloudStorage/OneDrive-NorthwesternUniversity/KatieD_LL/GCAD_Collab/Selected_GA_results_paper/Combinatorial_search/sig_cond_all_obj_dsred1.pkl\"\n",
    "path_sc_combo_pareto = \"/Users/kdreyer/Library/CloudStorage/OneDrive-NorthwesternUniversity/KatieD_LL/GCAD_Collab/Selected_GA_results_paper/Combinatorial_search/sig_cond_pareto_dsred1.pkl\"\n",
    "path_sc_GA_single = \"/Users/kdreyer/Library/CloudStorage/OneDrive-NorthwesternUniversity/KatieD_LL/GCAD_Collab/Selected_GA_results_paper/Signal_conditioner_single_cell/synTF-R-DsR/Optimized_hyperparams_fixed_pop_max_hv_ngen50/run8_ngen10000_0/2025-01-14_Signal_cond_single_DsRED_opt_hps0_ngen10000_seed_3/\"\n",
    "fname_GA_pareto = \"final_objectives_df.pkl\"\n",
    "fname_GA_unique = \"all_unique_obj.pkl\"\n",
    "\n",
    "with open(path_sc_combinatorial, \"rb\") as fid:\n",
    "    sc_combinatorial = pickle.load(fid)\n",
    "sc_all_objs_df = pd.DataFrame(abs(sc_combinatorial), columns=[\"ON_rel\", \"FI_rel\"])\n",
    "\n",
    "with open(path_sc_combo_pareto, \"rb\") as fid:\n",
    "    sc_combo_pareto = pickle.load(fid)\n",
    "sc_pareto_objs_df = pd.DataFrame(abs(sc_combo_pareto), columns=[\"ON_rel\", \"FI_rel\"])\n",
    "\n",
    "with open(path_sc_GA_single+fname_GA_unique, \"rb\") as fid:\n",
    "    unique_objs = pickle.load(fid)\n",
    "unique_objs = abs(unique_objs)\n",
    "unique_objs_df = pd.DataFrame(unique_objs, columns=[\"ON_rel\", \"FI_rel\"])\n",
    "\n",
    "\n",
    "GA_objs = pd.read_pickle(path_sc_GA_single+fname_GA_pareto)\n",
    "GA_objs.drop(\"type\", axis=1, inplace=True)\n",
    "GA_objs = (abs(GA_objs))\n",
    "GA_objs_sorted = GA_objs.sort_values(by=\"FI_rel\")\n",
    "\n",
    "# plot_pareto_comparison(path_sc_GA_single+\"GA_search_space_paper_v2.svg\", unique_objs_df, GA_objs, [\"ON_rel\", \"FI_rel\"])\n",
    "# plot_pareto_comparison(path_sc_GA_single+\"pareto_comparison_paper_v2.svg\", sc_pareto_objs_df, GA_objs, [\"ON_rel\", \"FI_rel\"])"
   ]
  },
  {
   "cell_type": "markdown",
   "metadata": {},
   "source": [
    "## Supplementary Figure 10: Signal conditioner 20 vs 200-cell model ON_rel and FI_rel for single cell results"
   ]
  },
  {
   "cell_type": "code",
   "execution_count": null,
   "metadata": {},
   "outputs": [],
   "source": [
    "path_signal_cond_single = \"/Users/kdreyer/Library/CloudStorage/OneDrive-NorthwesternUniversity/KatieD_LL/GCAD_Collab/Selected_GA_results_paper/Signal_conditioner_single_cell/synTF-R-DsR/Optimized_hyperparams_fixed_pop_max_hv_ngen50/run4_ngen120/2024-10-04_Signal_cond_single_DsRED_opt_hps_run4_seed_3/\"\n",
    "path_high_obj = path_signal_cond_single + \"pop20v200_comparison_pareto/pop_model_comparisons.csv\"\n",
    "path_mid_obj = path_signal_cond_single + \"pop20v200_comparison_mid-range/pop_model_comparisons.csv\"\n",
    "path_low_obj = path_signal_cond_single + \"pop20v200_comparison_low/pop_model_comparisons.csv\"\n",
    "\n",
    "high_obj = pd.read_csv(path_high_obj)\n",
    "mid_obj = pd.read_csv(path_mid_obj)\n",
    "low_obj = pd.read_csv(path_low_obj)\n",
    "\n",
    "all_objs = pd.concat([high_obj, mid_obj, low_obj])\n",
    "all_objs.drop([\"Unnamed: 0\"], inplace=True, axis=1)\n",
    "# display(all_objs)"
   ]
  },
  {
   "cell_type": "code",
   "execution_count": null,
   "metadata": {},
   "outputs": [],
   "source": [
    "### ON_rel parity ###\n",
    "fig, ax = plt.subplots(1, 1, figsize=(2.6, 2.6)) # 2.0, 2.0\n",
    "ax.plot(all_objs[\"20_cell_ON_rel\"], all_objs[\"200_cell_ON_rel\"], linestyle=\"none\", marker=\"o\", markersize=\"2\", color=\"k\") #markersize=\"1.5\"\n",
    "ax.plot([0, 70], [0, 70], linestyle=\"dashed\", color=\"k\")\n",
    "ax.set_xlabel(\"20-cell objective (ON_rel)\")\n",
    "ax.set_ylabel(\"200-cell objective (ON_rel)\")\n",
    "ax.set_xlim(left=0)\n",
    "ax.set_ylim(bottom=0)\n",
    "ax.set_box_aspect(1)\n",
    "ax.set_xticks([0, 20, 40, 60])\n",
    "ax.set_yticks([0, 20, 40, 60])\n",
    "# plt.show()\n",
    "plt.savefig(path_signal_cond_single+\"20v200_ON_rel_parity_paper_v2.svg\", bbox_inches=\"tight\")\n",
    "\n",
    "### FI_rel parity ###\n",
    "fig, ax = plt.subplots(1, 1, figsize=(2.6, 2.6)) # 2.0, 2.0\n",
    "ax.plot(all_objs[\"20_cell_FI_rel\"], all_objs[\"200_cell_FI_rel\"], linestyle=\"none\", marker=\"o\", markersize=\"2\", color=\"k\") #markersize=\"1.5\"\n",
    "ax.plot([0, 1], [0, 1], linestyle=\"dashed\", color=\"k\")\n",
    "ax.set_xlabel(\"20-cell objective (FI_rel)\")\n",
    "ax.set_ylabel(\"200-cell objective (FI_rel)\")\n",
    "ax.set_xlim(left=0)\n",
    "ax.set_ylim(bottom=0)\n",
    "ax.set_box_aspect(1)\n",
    "ax.set_xticks([0, 0.5, 1])\n",
    "ax.set_yticks([0, 0.5, 1])\n",
    "# plt.show()\n",
    "plt.savefig(path_signal_cond_single+\"20v200_FI_rel_parity_paper_v2.svg\", bbox_inches=\"tight\")"
   ]
  },
  {
   "cell_type": "markdown",
   "metadata": {},
   "source": [
    "## Supplementary Figure 11: signal conditioner population model"
   ]
  },
  {
   "cell_type": "markdown",
   "metadata": {},
   "source": [
    "### (a) 20-cell model with single cell opt params pareto front"
   ]
  },
  {
   "cell_type": "code",
   "execution_count": null,
   "metadata": {},
   "outputs": [],
   "source": [
    "path_sigcond_pop_opt = \"/Users/kdreyer/Library/CloudStorage/OneDrive-NorthwesternUniversity/KatieD_LL/GCAD_Collab/Selected_GA_results_paper/Signal_conditioner_pop/synTF-R-DsR/Single_cell_model_opt_hyperparams_max_hv/run5_ngen130/\"\n",
    "selected_seed_pop_opt = \"2024-10-04_Signal_cond_pop_DsRED_single_opt_hp_run5_seed_2/\"\n",
    "pareto_obj_df = pd.read_pickle(path_sigcond_pop_opt+selected_seed_pop_opt+\"final_objectives_df.pkl\")\n",
    "# plot_pareto_front(path_sigcond_pop_opt+selected_seed_pop_opt+\"pareto_front_paper_v2.svg\", pareto_obj_df, [\"ON_rel\", \"FI_rel\"], False)"
   ]
  },
  {
   "cell_type": "markdown",
   "metadata": {},
   "source": [
    "### (b) 20-cell model single cell opt params hypervolume set"
   ]
  },
  {
   "cell_type": "code",
   "execution_count": null,
   "metadata": {},
   "outputs": [],
   "source": [
    "path_sigcond_pop_opt = \"/Users/kdreyer/Library/CloudStorage/OneDrive-NorthwesternUniversity/KatieD_LL/GCAD_Collab/Selected_GA_results_paper/Signal_conditioner_pop/synTF-R-DsR/Single_cell_model_opt_hyperparams_max_hv/run5_ngen130/\"\n",
    "results_runs_pop_opt = \"2024-10-04_Signal_cond_pop_DsRED_single_opt_hp_run5_seed_\"\n",
    "# run_seed_results_comparisons(path_sigcond_pop_opt, results_runs_pop_opt, 2, [\"ON_rel\", \"FI_rel\"], 130, 2)"
   ]
  },
  {
   "cell_type": "markdown",
   "metadata": {},
   "source": [
    "## Figure 4 Pulse generator"
   ]
  },
  {
   "cell_type": "markdown",
   "metadata": {},
   "source": [
    "### (b) Single cell optimized hyperparameter hypervolume set"
   ]
  },
  {
   "cell_type": "code",
   "execution_count": null,
   "metadata": {},
   "outputs": [],
   "source": [
    "path_pulse_single_opt = \"/Users/kdreyer/Library/CloudStorage/OneDrive-NorthwesternUniversity/KatieD_LL/GCAD_Collab/Selected_GA_results_paper/Pulse_single_cell/Optimized_hyperparams/t_pulse_fixed_pop_max_hv/run2_ngen10000\"\n",
    "results_runs = \"2025-03-13_Pulse_single_DsRED_t_pulse_opt_hps_ngen10000_seed_\"\n",
    "\n",
    "#plot hypervolume set for first 100 gens\n",
    "hvs_list = []\n",
    "for seed in range(10):\n",
    "    with open(path_pulse_single_opt+results_runs+str(seed)+\"/hypervolumes.pkl\", \"rb\") as fid:\n",
    "        hvs = pickle.load(fid)\n",
    "    hvs_100 = hvs[:100]\n",
    "    hvs_list.append(hvs_100)\n",
    "\n",
    "hypervolumes_vs_combo = \"all_hvs100_vs_combo_paper.svg\"\n",
    "# plot_hypervolumes_set_vs_combo(path_pulse+hypervolumes_vs_combo,\n",
    "#                                 100, hvs_list, 2892.284,\n",
    "#                                 6, y_lower_lim=0)"
   ]
  },
  {
   "cell_type": "markdown",
   "metadata": {},
   "source": [
    "### (b) Single cell labeled pareto front"
   ]
  },
  {
   "cell_type": "code",
   "execution_count": null,
   "metadata": {},
   "outputs": [],
   "source": [
    "def plot_pareto_labeled(\n",
    "        results_path: str,\n",
    "):\n",
    "    labeled_CI_circuits = pd.read_csv(results_path+\"labeled_pareto_circuits.csv\")\n",
    "    labled_CI_circuit_variants = pd.read_csv(results_path+\"labeled_pareto_circuit_variants.csv\")\n",
    "    \n",
    "    # display(labeled_CI_circuits)\n",
    "    opt0 = labeled_CI_circuits[[\"opt_0_t_pulse\", \"opt_0_prom_rel\"]]\n",
    "    opt1 = labeled_CI_circuits[[\"opt_1_t_pulse\", \"opt_1_prom_rel\"]]\n",
    "    opt2 = labeled_CI_circuits[[\"opt_2_t_pulse\", \"opt_2_prom_rel\"]]\n",
    "    opt3 = labeled_CI_circuits[[\"opt_3_t_pulse\", \"opt_3_prom_rel\"]]\n",
    "\n",
    "    # opt0_var = labled_CI_circuit_variants[[\"opt_0_t_pulse\", \"opt_0_prom_rel\"]]\n",
    "    opt1_var = labled_CI_circuit_variants[[\"opt_1_var_t_pulse\", \"opt_1_var_prom_rel\"]]\n",
    "    opt2_var = labled_CI_circuit_variants[[\"opt_2_var_t_pulse\", \"opt_2_var_prom_rel\"]]\n",
    "\n",
    "\n",
    "    fig, ax = plt.subplots(1, 1, figsize=(1.955, 1.955))\n",
    "    sns.scatterplot(data= opt0, x=\"opt_0_t_pulse\", y=\"opt_0_prom_rel\", ax=ax, color=colors_pulse_single[0], s=10, legend=False)\n",
    "    sns.scatterplot(data= opt1, x=\"opt_1_t_pulse\", y=\"opt_1_prom_rel\", ax=ax, color=colors_pulse_single[1], s=10, legend=False)\n",
    "    sns.scatterplot(data= opt2, x=\"opt_2_t_pulse\", y=\"opt_2_prom_rel\", ax=ax, color=colors_pulse_single[2], s=10, legend=False)\n",
    "    sns.scatterplot(data= opt3, x=\"opt_3_t_pulse\", y=\"opt_3_prom_rel\", ax=ax, color=colors_pulse_single[3], s=10, legend=False)\n",
    "\n",
    "    \n",
    "    sns.scatterplot(data= opt1_var, x=\"opt_1_var_t_pulse\", y=\"opt_1_var_prom_rel\", ax=ax, color=colors_pulse_single[1], s=10, legend=False)\n",
    "    sns.scatterplot(data= opt2_var, x=\"opt_2_var_t_pulse\", y=\"opt_2_var_prom_rel\", ax=ax, color=colors_pulse_single[2], s=10, legend=False)\n",
    "\n",
    "    ax.set_ylim(bottom=0)\n",
    "    ax.set_xlim(left=0)\n",
    "    ax.set_box_aspect(1)\n",
    "#     plt.show()\n",
    "    plt.savefig(results_path+\"labeled_circuits_pareto_v2.svg\", bbox_inches=\"tight\")"
   ]
  },
  {
   "cell_type": "code",
   "execution_count": null,
   "metadata": {},
   "outputs": [],
   "source": [
    "path_pulse = \"/Users/kdreyer/Library/CloudStorage/OneDrive-NorthwesternUniversity/KatieD_LL/GCAD_Collab/Selected_GA_results_paper/Pulse_single_cell/Optimized_hyperparams/t_pulse_fixed_pop_max_hv/run2_ngen10000/2025-03-13_Pulse_single_DsRED_t_pulse_opt_hps_ngen100_seed_6/2025-03-24_results_analysis/\"\n",
    "\n",
    "# plot_pareto_labeled(path_pulse)"
   ]
  },
  {
   "cell_type": "markdown",
   "metadata": {},
   "source": [
    "### (c) 20-cell vs 200-cell single cell pulses comparison/analysis"
   ]
  },
  {
   "cell_type": "markdown",
   "metadata": {},
   "source": [
    "#### Parity plot 20-cell vs. 200-cell prom_rel for single cell opt pulses"
   ]
  },
  {
   "cell_type": "code",
   "execution_count": null,
   "metadata": {},
   "outputs": [],
   "source": [
    "from pulse_generator_problem import PulseGenerator\n",
    "all_cell_200 = pd.read_pickle(\"/Users/kdreyer/Documents/Google_drive_documents/GCAD/pulse_single_plasmid_uptake_200/200_cell_all_cell_results_df_opt.pkl\")\n",
    "all_cell_20 = pd.read_pickle(\"/Users/kdreyer/Documents/Google_drive_documents/GCAD/pulse_single_plasmid_uptake_200/20_cell_all_cell_results_df_opt.pkl\")\n",
    "pulse_20 = PulseGenerator(promo_node=\"P1\", dose_specs=[5, 75, 5], max_part=2, inhibitor=True, \n",
    "                            DsRed_inhibitor=True, num_dict={}, n_gen=None, probability_crossover=None, \n",
    "                            probability_mutation=None, mutate_dose=True, pop=True, num_processes=8, \n",
    "                            max_time=126, single_cell_tracking=True)"
   ]
  },
  {
   "cell_type": "code",
   "execution_count": null,
   "metadata": {},
   "outputs": [],
   "source": [
    "all_prom_rel_20 = []\n",
    "all_prom_rel_200 = []\n",
    "\n",
    "for index, row in all_cell_20.iterrows():\n",
    "    rep_rel_mean20 = all_cell_20.at[index, \"Rep_rel time series mean\"]\n",
    "\n",
    "    peak_rel_20 = pulse_20.calc_peak_rel(rep_rel_mean20)\n",
    "    prom_rel_20 = pulse_20.calc_prominence_rel(rep_rel_mean20, peak_rel_20)\n",
    "    all_prom_rel_20.append(prom_rel_20)\n",
    "\n",
    "    rep_rel_mean200 = all_cell_200.at[index, \"Rep_rel time series mean\"]\n",
    "\n",
    "    peak_rel_200 = pulse_20.calc_peak_rel(rep_rel_mean200)\n",
    "    prom_rel_200 = pulse_20.calc_prominence_rel(rep_rel_mean200, peak_rel_200)\n",
    "    all_prom_rel_200.append(prom_rel_200)"
   ]
  },
  {
   "cell_type": "code",
   "execution_count": null,
   "metadata": {},
   "outputs": [],
   "source": [
    "fig, ax = plt.subplots(1, 1, figsize=(1.65, 1.65))\n",
    "ax.plot([abs(i) for i in all_prom_rel_20], [abs(i) for i in all_prom_rel_200], linestyle=\"none\", marker=\"o\", markersize=\"2\", color=\"k\")\n",
    "ax.plot([0, 6], [0, 6], linestyle=\"dashed\", color=\"k\")\n",
    "ax.set_xlabel(\"20 cell prom_rel\")\n",
    "ax.set_ylabel(\"200 cell prom_rel\")\n",
    "ax.set_xlim(left=0)\n",
    "ax.set_ylim(bottom=0)\n",
    "ax.set_box_aspect(1)\n",
    "ax.set_xticks([0, 2, 4, 6])\n",
    "\n",
    "plt.show()\n",
    "# plt.savefig(\"/Users/kdreyer/Desktop/pulse_20vs200_parity.svg\", bbox_inches=\"tight\")"
   ]
  },
  {
   "cell_type": "markdown",
   "metadata": {},
   "source": [
    "#### 200-cell all cell time series"
   ]
  },
  {
   "cell_type": "code",
   "execution_count": null,
   "metadata": {},
   "outputs": [],
   "source": [
    "all_cell_ts_12 = all_cell_200.at[12, \"Rep_rel time series for each cell\"]\n",
    "ts_mean_12 = all_cell_200.at[12, \"Rep_rel time series mean\"]\n",
    "\n",
    "all_cell_ts_21 = all_cell_200.at[21, \"Rep_rel time series for each cell\"]\n",
    "topo_21 = all_cell_200.at[21, \"Topology\"]\n",
    "\n",
    "\n",
    "fig, ax = plt.subplots(1, 1, figsize=(1.71, 1.71))\n",
    "for cell in range(200):\n",
    "    if max(all_cell_ts_21[cell]) > 150:\n",
    "        color_ = \"k\"\n",
    "        linestyle_ = \"dashed\"\n",
    "        zorder_ = 2\n",
    "    elif all_cell_200.at[21, \"single_cell_prominence\"][cell] > 0:\n",
    "        color_ = \"grey\"\n",
    "        linestyle_ = \"solid\"\n",
    "        zorder_= 100\n",
    "    else:\n",
    "        color_ = \"k\"\n",
    "        linestyle_ = \"solid\"\n",
    "        zorder_=1\n",
    "\n",
    "    ax.plot(np.arange(0, 127, 1), all_cell_ts_21[cell], color=color_, linestyle=linestyle_, zorder=zorder_)\n",
    "ax.set_ylim([0, 400])\n",
    "# ax.set_yticks([0, 100, 200, 300, 400])\n",
    "ax.set_xlim([0, 42])\n",
    "ax.set_xticks([0, 10, 20, 30, 40])\n",
    "ax.set_xlabel(\"Time (h)\")\n",
    "ax.set_ylabel(\"Reporter_rel\")\n",
    "ax.set_box_aspect(1)\n",
    "# plt.show()\n",
    "# plt.savefig(\"/Users/kdreyer/Desktop/200_cell_ts_21_paper.svg\", bbox_inches=\"tight\")"
   ]
  },
  {
   "cell_type": "markdown",
   "metadata": {},
   "source": [
    "#### 200-cell plasmid uptake distributions- pulse vs. non-pulse"
   ]
  },
  {
   "cell_type": "code",
   "execution_count": null,
   "metadata": {},
   "outputs": [],
   "source": [
    "Z_200_df = pd.DataFrame(data = Z_200, columns = [\"plasmid_\" + str(i) for i in range(9)])\n",
    "Z_200_df = Z_200_df.drop(labels=[\"plasmid_\" + str(i) for i in range(5,9)], axis=1)\n",
    "\n",
    "\n",
    "all_cell_200 = pd.read_pickle(\"/Users/kdreyer/Desktop/GCAD/pulse_single_plasmid_uptake_200/200_cell_all_cell_results_df_opt.pkl\")\n",
    "all_cell_20 = pd.read_pickle(\"/Users/kdreyer/Desktop/GCAD/pulse_single_plasmid_uptake_200/20_cell_all_cell_results_df_opt.pkl\")\n",
    "\n",
    "pulse_20 = PulseGenerator(promo_node=\"P1\", dose_specs=[5, 75, 5], max_part=2, inhibitor=True, \n",
    "                            DsRed_inhibitor=True, num_dict={}, n_gen=None, probability_crossover=None, \n",
    "                            probability_mutation=None, mutate_dose=True, pop=True, num_processes=8, \n",
    "                            max_time=126, single_cell_tracking=True)\n",
    "\n",
    "\n",
    "for index, row in all_cell_200.iterrows():\n",
    "    all_cell200_prom_list = row[\"single_cell_prominence\"]\n",
    "    all_cell200_peak_list = row[\"single_cell_peaks\"]\n",
    "    topo = row[\"Topology\"]\n",
    "\n",
    "    rep_rel_mean20 = all_cell_20.at[index, \"Rep_rel time series mean\"]\n",
    "    peak_rel_20 = pulse_20.calc_peak_rel(rep_rel_mean20)\n",
    "    prom_rel_20 = pulse_20.calc_prominence_rel(rep_rel_mean20, peak_rel_20)\n",
    "\n",
    "    rep_rel_mean200 = row[\"Rep_rel time series mean\"]\n",
    "    peak_rel_200 = pulse_20.calc_peak_rel(rep_rel_mean200)\n",
    "    prom_rel_200 = pulse_20.calc_prominence_rel(rep_rel_mean200, peak_rel_200)\n",
    "\n",
    "    avg_no_pulse = []\n",
    "    avg_pulse = []\n",
    "    avg_list = []\n",
    "\n",
    "\n",
    "    if prom_rel_20 > 0 and prom_rel_200 == 0:\n",
    "        print(index)\n",
    "\n",
    "        fig, ax = plt.subplots(1, 1, figsize=(1.75, 1.75))\n",
    "        for cell in range(200):\n",
    "            uptake_list = Z_200_df.iloc[cell].tolist()[:-1]\n",
    "            cell_prom = all_cell200_prom_list[cell]\n",
    "            avg_uptake = np.mean(uptake_list)\n",
    "\n",
    "            if cell_prom == 0:\n",
    "                avg_no_pulse.append(avg_uptake)\n",
    "                if all_cell200_peak_list[cell] > 300:\n",
    "                    print(index, all_cell200_peak_list[cell], avg_uptake)\n",
    "            else:\n",
    "                avg_pulse.append(avg_uptake)\n",
    "\n",
    "        import matplotlib as mpl\n",
    "        mpl.rcParams['hatch.linewidth'] = 0.25\n",
    "        ax.hist(avg_pulse, bins=20, color=\"grey\", density=True, label=\"pulse\")\n",
    "        ax.hist(avg_no_pulse, bins=20, color=\"k\", density=True, label=\"non-pulse\")\n",
    "        # ax.hist(avg_no_pulse, bins=20, color=\"white\", density=True, label=\"non-pulse\",\n",
    "        # linewidth=0.5, edgecolor='black', hatch=\"--\", zorder=10)\n",
    "        ax.set_xlabel(\"average plasmid uptake\")\n",
    "        ax.set_ylabel(\"probability density\")\n",
    "        ax.set_xlim(left=0)\n",
    "        # ax.set_xticks([0, 2, 4])\n",
    "        ax.legend()\n",
    "\n",
    "    #     plt.show()\n",
    "    #     # plt.savefig(\"/Users/kdreyer/Desktop/200-cell_all_ts\" + str(index) + \".svg\")\n",
    "    #     # plt.savefig(\"/Users/kdreyer/Desktop/200_cell_histogram_\" + str(index) + \"_paper.svg\")"
   ]
  },
  {
   "cell_type": "markdown",
   "metadata": {},
   "source": [
    "#### 200-cell avg activator uptake vs. repressor uptake"
   ]
  },
  {
   "cell_type": "code",
   "execution_count": null,
   "metadata": {},
   "outputs": [],
   "source": [
    "all_cell_200 = pd.read_pickle(\"/Users/kdreyer/Desktop/pulse_single_plasmid_uptake_200/200_cell_all_cell_results_df_opt.pkl\")\n",
    "all_cell_20 = pd.read_pickle(\"/Users/kdreyer/Desktop/pulse_single_plasmid_uptake_200/20_cell_all_cell_results_df_opt.pkl\")\n",
    "\n",
    "pulse_20 = PulseGenerator(promo_node=\"P1\", dose_specs=[5, 75, 5], max_part=2, inhibitor=True, \n",
    "                            DsRed_inhibitor=True, num_dict={}, n_gen=None, probability_crossover=None, \n",
    "                            probability_mutation=None, mutate_dose=True, pop=True, num_processes=8, \n",
    "                            max_time=126, single_cell_tracking=True)\n",
    "\n",
    "\n",
    "for index, row in all_cell_200.iterrows():\n",
    "    all_cell200_prom_list = row[\"single_cell_prominence\"]\n",
    "    all_cell200_peak_list = row[\"single_cell_peaks\"]\n",
    "\n",
    "    rep_rel_mean20 = all_cell_20.at[index, \"Rep_rel time series mean\"]\n",
    "\n",
    "    peak_rel_20 = pulse_20.calc_peak_rel(rep_rel_mean20)\n",
    "    prom_rel_20 = pulse_20.calc_prominence_rel(rep_rel_mean20, peak_rel_20)\n",
    "\n",
    "    rep_rel_mean200 = row[\"Rep_rel time series mean\"]\n",
    "\n",
    "    peak_rel_200 = pulse_20.calc_peak_rel(rep_rel_mean200)\n",
    "    prom_rel_200 = pulse_20.calc_prominence_rel(rep_rel_mean200, peak_rel_200)\n",
    "\n",
    "    peak_no_pulse = []\n",
    "    prom_rel_pulse = []\n",
    "    prom_rel_all = []\n",
    "    inh_uptake_pulse = []\n",
    "    inh_uptake_no_pulse = []\n",
    "    zf_uptake_pulse = []\n",
    "    zf_uptake_no_pulse = []\n",
    "\n",
    "\n",
    "    if prom_rel_20 > 0 and prom_rel_200 == 0:\n",
    "        print(index)\n",
    "        if index in [17, 18, 24, 27, 34, 35]:\n",
    "            inh_plasmid = 0\n",
    "            zf_plasmid = [1, 2] \n",
    "        else:\n",
    "            inh_plasmid = 2\n",
    "            zf_plasmid = [0, 1]\n",
    "\n",
    "        for cell in range(200):\n",
    "            uptake_list = Z_200_df.iloc[cell].tolist()[:-1]\n",
    "            cell_prom = all_cell200_prom_list[cell]\n",
    "            inh_uptake = uptake_list[inh_plasmid]\n",
    "            zf_uptake = np.mean([uptake_list[zf_plasmid[0]], uptake_list[zf_plasmid[1]]])\n",
    "            cell_prom = all_cell200_prom_list[cell]\n",
    "\n",
    "            if cell_prom == 0:\n",
    "                zf_uptake_no_pulse.append(zf_uptake)\n",
    "                inh_uptake_no_pulse.append(inh_uptake)\n",
    "\n",
    "            else:\n",
    "                zf_uptake_pulse.append(zf_uptake)\n",
    "                inh_uptake_pulse.append(inh_uptake)\n",
    "\n",
    "\n",
    "        fig, ax = plt.subplots(1, 1, figsize=(1.25, 1.25))\n",
    "        ax.plot([0, 5], [0, 5], linestyle=\"dashed\", color=\"k\", zorder=10)#, linewidth=\"0.5\")\n",
    "        ax.plot(zf_uptake_no_pulse, inh_uptake_no_pulse, linestyle=\"none\", marker=\"o\", color=\"k\", markersize=\"1\")\n",
    "        ax.plot(zf_uptake_pulse, inh_uptake_pulse, linestyle=\"none\", marker=\"o\", color=\"grey\", markersize=\"1\")\n",
    "        ax.set_xlabel(\"activator plasmid uptake\")\n",
    "        ax.set_xlim(0,5.1)\n",
    "        ax.set_ylim(0, 5)\n",
    "        ax.set_xticks([0, 1, 2, 3, 4, 5])\n",
    "        ax.set_ylabel(\"inhibitor uptake\")\n",
    "        # plt.legend()\n",
    "\n",
    "        # plt.show()\n",
    "        # plt.savefig(\"/Users/kdreyer/Desktop/200-cell_zfvsrepressor_plasmid_\" + str(index) + \"_paper.svg\", bbox_inches=\"tight\")"
   ]
  },
  {
   "cell_type": "markdown",
   "metadata": {},
   "source": [
    "### (d) frac pulse pareto fronts 20-cell vs. 200-cell models"
   ]
  },
  {
   "cell_type": "markdown",
   "metadata": {},
   "source": [
    "#### 20-cell frac_pulse pareto labeled"
   ]
  },
  {
   "cell_type": "code",
   "execution_count": null,
   "metadata": {},
   "outputs": [],
   "source": [
    "def plot_pareto_labeled_frac_p_Z1Z2(\n",
    "        results_path: str,\n",
    "        path_ZF1_2\n",
    "):\n",
    "    pareto_ZF1_2 = pd.read_pickle(path_ZF1_2+\"final_objectives_df.pkl\")\n",
    "    labeled_CI_circuits = pd.read_csv(results_path+\"labeled_CI_circuits.csv\")\n",
    "    labled_CI_circuit_variants = pd.read_csv(results_path+\"labeled_CI_circuit_variants.csv\")\n",
    "    \n",
    "    # display(labeled_CI_circuits)\n",
    "    opt0 = labeled_CI_circuits[[\"opt_0_frac_pulse\", \"opt_0_t_pulse\", \"opt_0_prom_rel\"]]\n",
    "    opt1 = labeled_CI_circuits[[\"opt_1_frac_pulse\", \"opt_1_t_pulse\", \"opt_1_prom_rel\"]]\n",
    "    opt2 = labeled_CI_circuits[[\"opt_2_frac_pulse\", \"opt_2_t_pulse\", \"opt_2_prom_rel\"]]\n",
    "    opt3 = labeled_CI_circuits[[\"opt_3_frac_pulse\", \"opt_3_t_pulse\", \"opt_3_prom_rel\"]]\n",
    "    # display(opt0[\"opt_0_prom_rel\"])\n",
    "\n",
    "    opt0_var = labled_CI_circuit_variants[[\"opt_0_var_frac_pulse\", \"opt_0_var_t_pulse\", \"opt_0_var_prom_rel\"]]\n",
    "    opt1_var = labled_CI_circuit_variants[[\"opt_1_var_frac_pulse\", \"opt_1_var_t_pulse\", \"opt_1_var_prom_rel\"]]\n",
    "    opt2_var = labled_CI_circuit_variants[[\"opt_2_var_frac_pulse\", \"opt_2_var_t_pulse\", \"opt_2_var_prom_rel\"]]\n",
    "    opt3_var = labled_CI_circuit_variants[[\"opt_3_var_frac_pulse\", \"opt_3_var_t_pulse\", \"opt_3_var_prom_rel\"]]\n",
    "\n",
    "    fig = plt.figure(figsize= (1.955, 1.955))\n",
    "    # fig = plt.figure(figsize= (5, 5))\n",
    "    ax = fig.add_subplot(projection='3d')\n",
    "    ax.scatter(\n",
    "    xs=opt0[\"opt_0_frac_pulse\"], ys=opt0[\"opt_0_t_pulse\"],\n",
    "    zs=opt0[\"opt_0_prom_rel\"], color=colors_pulse_single[0],\n",
    "    s=5#, zorder=1\n",
    "    )\n",
    "\n",
    "    ax.scatter(\n",
    "    xs=opt1[\"opt_1_frac_pulse\"], ys=opt1[\"opt_1_t_pulse\"],\n",
    "    zs=opt1[\"opt_1_prom_rel\"], color=colors_pulse_single[1],\n",
    "    s=5#, zorder=2\n",
    "    )\n",
    "\n",
    "    ax.scatter(\n",
    "    xs=opt2[\"opt_2_frac_pulse\"], ys=opt2[\"opt_2_t_pulse\"],\n",
    "    zs=opt2[\"opt_2_prom_rel\"], color=colors_pulse_single[2],\n",
    "    s=5#, zorder=3\n",
    "    )\n",
    "\n",
    "    ax.scatter(\n",
    "    xs=opt3[\"opt_3_frac_pulse\"], ys=opt3[\"opt_3_t_pulse\"],\n",
    "    zs=opt3[\"opt_3_prom_rel\"], color=colors_pulse_single[3],\n",
    "    s=5#, zorder=3\n",
    "    )\n",
    "\n",
    "    ax.scatter(\n",
    "    xs=opt0_var[\"opt_0_var_frac_pulse\"], ys=opt0_var[\"opt_0_var_t_pulse\"],\n",
    "    zs=opt0_var[\"opt_0_var_prom_rel\"], color=colors_pulse_single[0],\n",
    "    s=5#, zorder=1\n",
    "    )\n",
    "\n",
    "    ax.scatter(\n",
    "    xs=opt1_var[\"opt_1_var_frac_pulse\"], ys=opt1_var[\"opt_1_var_t_pulse\"],\n",
    "    zs=opt1_var[\"opt_1_var_prom_rel\"], color=colors_pulse_single[1],\n",
    "    s=5#, zorder=2\n",
    "    )\n",
    "\n",
    "    ax.scatter(\n",
    "    xs=opt2_var[\"opt_2_var_frac_pulse\"], ys=opt2_var[\"opt_2_var_t_pulse\"],\n",
    "    zs=opt2_var[\"opt_2_var_prom_rel\"], color=colors_pulse_single[2],\n",
    "    s=5#, zorder=3\n",
    "    )\n",
    "\n",
    "    ax.scatter(\n",
    "    xs=opt3_var[\"opt_3_var_frac_pulse\"], ys=opt3_var[\"opt_3_var_t_pulse\"],\n",
    "    zs=opt3_var[\"opt_3_var_prom_rel\"], color=colors_pulse_single[3],\n",
    "    s=5#, zorder=10\n",
    "    )\n",
    "\n",
    "    ax.scatter(\n",
    "    xs=abs(pareto_ZF1_2[\"frac_pulse\"]), ys=abs(pareto_ZF1_2[\"t_pulse\"]),\n",
    "    zs=abs(pareto_ZF1_2[\"prominence_rel\"]), color=\"grey\",\n",
    "    s=5, zorder=0\n",
    "    )\n",
    "\n",
    "    ax.view_init(elev=10, azim=-115)\n",
    "    ax.set_xlabel(\"frac_pulse\")\n",
    "    ax.set_ylabel(\"t_pulse\")\n",
    "    ax.set_zlabel(\"prom_rel\")\n",
    "    ax.set_zticks([0, 50, 100, 150])\n",
    "\n",
    "    ax.set_ylim(bottom=0)\n",
    "    ax.set_xlim(left=0)\n",
    "    # ax.set_xlabel(\"\")\n",
    "    # plt.show()\n",
    "    plt.savefig(results_path+\"labeled_circuits_pareto_ZF1_2_v5.svg\", bbox_inches=\"tight\")"
   ]
  },
  {
   "cell_type": "code",
   "execution_count": null,
   "metadata": {},
   "outputs": [],
   "source": [
    "path_pulse = \"/Users/kdreyer/Documents/Github/GraphGA/GA_results/Pulse_seed_pop_DsRED_inhibitor/frac_pulse/2024-10-13_Pulse_pop_DsRED_3obj_frac_pulse_ngen50_seed_0/\"\n",
    "path_ZF1_2 = \"/Users/kdreyer/Documents/Github/GraphGA/GA_results/Pulse_seed_pop_DsRED_inhibitor/ZF1_ZF2_only/2024-10-13_Pulse_pop_DsRED_3obj_frac_pulse_Z1_Z2_ngen50_seed_0/\"\n",
    "# plot_pareto_labeled_frac_p_Z1Z2(path_pulse, path_ZF1_2)"
   ]
  },
  {
   "cell_type": "code",
   "execution_count": null,
   "metadata": {},
   "outputs": [],
   "source": []
  },
  {
   "cell_type": "markdown",
   "metadata": {},
   "source": [
    "#### 200-cell frac_pulse pareto labeled"
   ]
  },
  {
   "cell_type": "code",
   "execution_count": null,
   "metadata": {},
   "outputs": [],
   "source": [
    "def plot_pareto_labeled_frac_p(\n",
    "        results_path: str,\n",
    "):\n",
    "    labeled_CI_circuits = pd.read_csv(results_path+\"labeled_CI_circuits.csv\")\n",
    "    labled_CI_circuit_variants = pd.read_csv(results_path+\"labeled_CI_circuit_variants.csv\")\n",
    "    \n",
    "    # display(labeled_CI_circuits)\n",
    "    opt0 = labeled_CI_circuits[[\"opt_0_frac_pulse\", \"opt_0_t_pulse\", \"opt_0_prom_rel\"]]\n",
    "    opt1 = labeled_CI_circuits[[\"opt_1_frac_pulse\", \"opt_1_t_pulse\", \"opt_1_prom_rel\"]]\n",
    "    opt2 = labeled_CI_circuits[[\"opt_2_frac_pulse\", \"opt_2_t_pulse\", \"opt_2_prom_rel\"]]\n",
    "    opt3 = labeled_CI_circuits[[\"opt_3_frac_pulse\", \"opt_3_t_pulse\", \"opt_3_prom_rel\"]]\n",
    "\n",
    "\n",
    "\n",
    "    # opt0_var = labled_CI_circuit_variants[[\"opt_0_var_frac_pulse\", \"opt_0_var_t_pulse\", \"opt_0_var_prom_rel\"]]\n",
    "    opt1_var = labled_CI_circuit_variants[[\"opt_1_var_frac_pulse\", \"opt_1_var_t_pulse\", \"opt_1_var_prom_rel\"]]\n",
    "    opt2_var = labled_CI_circuit_variants[[\"opt_2_var_frac_pulse\", \"opt_2_var_t_pulse\", \"opt_2_var_prom_rel\"]]\n",
    "    opt3_var = labled_CI_circuit_variants[[\"opt_3_var_frac_pulse\", \"opt_3_var_t_pulse\", \"opt_3_var_prom_rel\"]]\n",
    "\n",
    "    fig = plt.figure(figsize= (1.955, 1.955))\n",
    "    ax = fig.add_subplot(projection='3d')\n",
    "    ax.scatter(\n",
    "    xs=opt0[\"opt_0_frac_pulse\"], ys=opt0[\"opt_0_t_pulse\"],\n",
    "    zs=opt0[\"opt_0_prom_rel\"], color=colors_pulse_single[0],\n",
    "    s=5\n",
    "    )\n",
    "\n",
    "    ax.scatter(\n",
    "    xs=opt1[\"opt_1_frac_pulse\"], ys=opt1[\"opt_1_t_pulse\"],\n",
    "    zs=opt1[\"opt_1_prom_rel\"], color=colors_pulse_single[1],\n",
    "    s=5\n",
    "    )\n",
    "\n",
    "    ax.scatter(\n",
    "    xs=opt2[\"opt_2_frac_pulse\"], ys=opt2[\"opt_2_t_pulse\"],\n",
    "    zs=opt2[\"opt_2_prom_rel\"], color=colors_pulse_single[2],\n",
    "    s=5\n",
    "    )\n",
    "\n",
    "    ax.scatter(\n",
    "    xs=opt3[\"opt_3_frac_pulse\"], ys=opt3[\"opt_3_t_pulse\"],\n",
    "    zs=opt3[\"opt_3_prom_rel\"], color=colors_pulse_single[3],\n",
    "    s=5\n",
    "    )\n",
    "\n",
    "    ax.scatter(\n",
    "    xs=opt1_var[\"opt_1_var_frac_pulse\"], ys=opt1_var[\"opt_1_var_t_pulse\"],\n",
    "    zs=opt1_var[\"opt_1_var_prom_rel\"], color=colors_pulse_single[1],\n",
    "    s=5\n",
    "    )\n",
    "\n",
    "    ax.scatter(\n",
    "    xs=opt2_var[\"opt_2_var_frac_pulse\"], ys=opt2_var[\"opt_2_var_t_pulse\"],\n",
    "    zs=opt2_var[\"opt_2_var_prom_rel\"], color=colors_pulse_single[2],\n",
    "    s=5\n",
    "    )\n",
    "\n",
    "    ax.scatter(\n",
    "    xs=opt3_var[\"opt_3_var_frac_pulse\"], ys=opt3_var[\"opt_3_var_t_pulse\"],\n",
    "    zs=opt3_var[\"opt_3_var_prom_rel\"], color=colors_pulse_single[3],\n",
    "    s=5\n",
    "    )\n",
    "\n",
    "    ax.view_init(elev=10, azim=-115)\n",
    "    ax.set_xlabel(\"frac_pulse\")\n",
    "    ax.set_ylabel(\"t_pulse\")\n",
    "    ax.set_zlabel(\"prom_rel\")\n",
    "    ax.set_zticks([0, 50, 100, 150])\n",
    "    ax.set_yticks([0, 20, 40, 60])\n",
    "\n",
    "    ax.set_ylim(bottom=0)\n",
    "    ax.set_xlim(left=0)\n",
    "    # ax.set_xlabel(\"\")\n",
    "    # plt.show()\n",
    "    plt.savefig(results_path+\"labeled_circuits_in_CI_v4.svg\", bbox_inches=\"tight\")"
   ]
  },
  {
   "cell_type": "code",
   "execution_count": null,
   "metadata": {},
   "outputs": [],
   "source": [
    "path_pulse = \"/Users/kdreyer/Documents/Github/GraphGA/GA_results/Pulse_seed_pop_DsRED_inhibitor/frac_pulse/Pulse_pop_DsRED_inhibitor_3obj_frac_pulse_pop200_ngen100/2024-10-13_Pulse_pop_DsRED_inhibitor_3obj_frac_pulse_pop200_ngen100/2024-10-13_results_analysis/\"\n",
    "# plot_pareto_labeled_frac_p(path_pulse)"
   ]
  },
  {
   "cell_type": "markdown",
   "metadata": {},
   "source": [
    "### (e) frac pulse 200-cell plasmid uptake distributions- pulse vs. non-pulse"
   ]
  },
  {
   "cell_type": "code",
   "execution_count": null,
   "metadata": {},
   "outputs": [],
   "source": [
    "from pulse_generator_problem import PulseGenerator\n",
    "from load_files_pop import Z_200\n",
    "\n",
    "Z_200_df = pd.DataFrame(data = Z_200, columns = [\"plasmid_\" + str(i) for i in range(9)])\n",
    "Z_200_df = Z_200_df.drop(labels=[\"plasmid_\" + str(i) for i in range(5,9)], axis=1)\n",
    "\n",
    "# frac_pulse in the range 0.4-0.5\n",
    "all_cell_200_04_05 = pd.read_pickle(\"/Users/kdreyer/Documents/Github/GraphGA/GA_results/Pulse_seed_pop_DsRED_inhibitor/frac_pulse/Pulse_pop_DsRED_inhibitor_3obj_frac_pulse_pop200_ngen100/2024-10-13_Pulse_pop_DsRED_inhibitor_3obj_frac_pulse_pop200_ngen100/2024-10-13_results_analysis/all_cell_metrics_04_05.pkl\")\n",
    "\n",
    "pulse_200 = PulseGenerator(promo_node=\"P1\", dose_specs=[5, 75, 5], max_part=2, inhibitor=True, \n",
    "                            DsRed_inhibitor=True, num_dict={}, n_gen=None, probability_crossover=None, \n",
    "                            probability_mutation=None, mutate_dose=True, pop=True, num_processes=8, \n",
    "                            max_time=126, single_cell_tracking=True)\n",
    "\n",
    "for index, row in all_cell_200_04_05.iterrows():\n",
    "    all_cell200_prom_list = row[\"single_cell_prominence\"]\n",
    "    all_cell200_peak_list = row[\"single_cell_peaks\"]\n",
    "\n",
    "\n",
    "    avg_no_pulse = []\n",
    "    avg_pulse = []\n",
    "    avg_list = []\n",
    "\n",
    "\n",
    "    for cell in range(200):\n",
    "        uptake_list = Z_200_df.iloc[cell].tolist()[:-1]\n",
    "        cell_prom = all_cell200_prom_list[cell]\n",
    "        avg_uptake = np.mean(uptake_list)\n",
    "\n",
    "        if cell_prom == 0:\n",
    "            avg_no_pulse.append(avg_uptake)\n",
    "\n",
    "        else:\n",
    "            avg_pulse.append(avg_uptake)\n",
    "\n",
    "    # print(sorted(avg_no_pulse)[-7:])\n",
    "    fig, ax = plt.subplots(1, 1, figsize=(1.7, 1.7))\n",
    "    import matplotlib as mpl\n",
    "    ax.hist(avg_pulse, bins=20, color=\"grey\", density=True, label=\"pulse\")\n",
    "    ax.hist(avg_no_pulse, bins=20, color=\"k\", density=True, label=\"non-pulse\")\n",
    "    ax.set_xlabel(\"average plasmid uptake\")\n",
    "    ax.set_ylabel(\"probability density\")\n",
    "    ax.set_xlim(left=0)\n",
    "    ax.legend()\n",
    "\n",
    "    plt.show()\n",
    "    # plt.close()\n",
    "    # plt.savefig(\"/Users/kdreyer/Desktop/200_cell_histogram_04_05_\" + str(index) + \"_paper.svg\")"
   ]
  },
  {
   "cell_type": "markdown",
   "metadata": {},
   "source": [
    "### (f) 20 cell model ZF1 and 2 only full GA search space"
   ]
  },
  {
   "cell_type": "code",
   "execution_count": null,
   "metadata": {},
   "outputs": [],
   "source": [
    "path_pulse = \"/Users/kdreyer/Documents/Github/GraphGA/GA_results/Pulse_seed_pop_DsRED_inhibitor/frac_pulse/2024-10-13_Pulse_pop_DsRED_3obj_frac_pulse_ngen50_seed_0/\"\n",
    "path_ZF1_2 = \"/Users/kdreyer/Documents/Github/GraphGA/GA_results/Pulse_seed_pop_DsRED_inhibitor/ZF1_ZF2_only/2024-10-13_Pulse_pop_DsRED_3obj_frac_pulse_Z1_Z2_ngen50_seed_0/\"\n",
    "obj_df = pd.read_pickle(path_ZF1_2+\"final_objectives_df.pkl\")\n",
    "# obj_arr = pd.read_pickle(path_ZF1_2+\"all_objectives.pkl\")\n",
    "# obj_df = pd.DataFrame(data=obj_arr, columns=[\"frac_pulse\", \"t_pulse\", \"prominence_rel\"])\n",
    "plot_pareto_front3D(path_ZF1_2+\"pareto_paper_labeled_v2.svg\", obj_df, [\"frac_pulse\", \"t_pulse\", \"prominence_rel\"], types=False)"
   ]
  },
  {
   "cell_type": "markdown",
   "metadata": {},
   "source": [
    "### (g) 200-cell model ZF1/ZF2 pulse polynomial fits"
   ]
  },
  {
   "cell_type": "code",
   "execution_count": null,
   "metadata": {},
   "outputs": [],
   "source": [
    "def filter_uptake_condition(all_cell_ts_prediction, Z_mat, percentile):\n",
    "\n",
    "    plasmid_uptake_list = Z_mat[\"average\"].tolist()\n",
    "    plasmid_uptake_arr = np.array(plasmid_uptake_list)\n",
    "    max_uptake = max(Z_mat[\"average\"])\n",
    "    threshold_frac = percentile/100\n",
    "    uptake_min = max_uptake*threshold_frac\n",
    "    idx_uptake_included = np.where(plasmid_uptake_arr >= uptake_min)[0]\n",
    "\n",
    "    threshold_cell_ts = [all_cell_ts_prediction[i] for i in idx_uptake_included]\n",
    "\n",
    "    return threshold_cell_ts"
   ]
  },
  {
   "cell_type": "code",
   "execution_count": null,
   "metadata": {},
   "outputs": [],
   "source": [
    "def filter_uptake_all(conditions, all_cell_ts_prediction_df, Z_mat, percentile):\n",
    "\n",
    "    all_cell_ts_sub_df = all_cell_ts_prediction_df.loc[conditions]\n",
    "    threshold_cell_ts_list = []\n",
    "    for i in range(len(conditions)):\n",
    "        all_cell_ts = all_cell_ts_prediction_df[\"Rep_rel time series for each cell\"][i]\n",
    "        threshold_cell_ts = filter_uptake_condition(all_cell_ts, Z_mat, percentile)\n",
    "        threshold_cell_ts_list.append(threshold_cell_ts)\n",
    "    \n",
    "    all_cell_ts_sub_df[\"threshold_cell_ts_\"+str(percentile)+\"_pct\"] = threshold_cell_ts_list\n",
    "\n",
    "    return all_cell_ts_sub_df\n"
   ]
  },
  {
   "cell_type": "code",
   "execution_count": null,
   "metadata": {},
   "outputs": [],
   "source": [
    "def fit_spline_condition(filtered_cell_ts):\n",
    "\n",
    "    time_points = np.arange(0, 47, 1)\n",
    "    pulse_rel_all_cells = []\n",
    "    for i in range(len(filtered_cell_ts)):\n",
    "        pulse_rep_rel = filtered_cell_ts[i]\n",
    "        rep_rel_t_exp = [pulse_rep_rel[t] for t in time_points]\n",
    "        pulse_rel_all_cells.append(rep_rel_t_exp)\n",
    "    pulse_rel_t_exp_df = pd.DataFrame(pulse_rel_all_cells, columns = time_points)\n",
    "    pulse_rel_t_exp_df_T = pulse_rel_t_exp_df.transpose().copy()\n",
    "    pulse_rel_t_exp_df_T[\"Time (h)\"] = pulse_rel_t_exp_df_T.index\n",
    "    pulse_rel_t_exp_df_T_plot = pd.melt(frame=pulse_rel_t_exp_df_T,\n",
    "                                      id_vars=\"Time (h)\",\n",
    "                                      var_name=\"column_name\",\n",
    "                                      value_name=\"Rep_rel\")\n",
    "    pulse_rel_t_exp_df_T_plot_sorted = pulse_rel_t_exp_df_T_plot.sort_values(\"Time (h)\")\n",
    "    spline_condition = np.polyfit(pulse_rel_t_exp_df_T_plot_sorted[\"Time (h)\"].tolist(), pulse_rel_t_exp_df_T_plot_sorted[\"Rep_rel\"].tolist(), deg=2)\n",
    "    poly_spline = np.poly1d(spline_condition)\n",
    "    spline_derivative = poly_spline.deriv()\n",
    "    \n",
    "    times = np.arange(0, 47, 0.1)\n",
    "    spline_eval = poly_spline(times)\n",
    "    derivative_eval = spline_derivative(times)\n",
    "\n",
    "    return spline_eval, derivative_eval, pulse_rel_t_exp_df_T_plot"
   ]
  },
  {
   "cell_type": "code",
   "execution_count": null,
   "metadata": {},
   "outputs": [],
   "source": [
    "def fit_spline_experiment(\n",
    "        path_save,\n",
    "        conditions,\n",
    "        percentile,\n",
    "        filtered_cell_ts_prediction_df,\n",
    "):\n",
    "\n",
    "    spline_eval_list = []\n",
    "    derivative_eval_list = []\n",
    "    df_condition_pulse_rel_list = []\n",
    "    for condition in conditions:\n",
    "        condition = filtered_cell_ts_prediction_df.loc[condition]\n",
    "        condition_filtered_ts = condition[[\"threshold_cell_ts_\"+str(percentile)+\"_pct\"]].tolist()[0]\n",
    "        spline_eval, derivative_eval, pulse_rel_t_exp_df_T_plot = fit_spline_condition(condition_filtered_ts)\n",
    "        spline_eval_list.append(spline_eval)\n",
    "        derivative_eval_list.append(derivative_eval)\n",
    "        df_condition_pulse_rel_list.append(pulse_rel_t_exp_df_T_plot)\n",
    "\n",
    "    fname_spline = \"spline_eval_list.pkl\"\n",
    "    with open(path_save+fname_spline, \"wb\") as fid:\n",
    "        pickle.dump(spline_eval_list, fid)\n",
    "\n",
    "    fname_deriv = \"derivative_eval_list.pkl\"\n",
    "    with open(path_save+fname_deriv, \"wb\") as fid:\n",
    "        pickle.dump(derivative_eval_list, fid)\n",
    "\n",
    "    return spline_eval_list, derivative_eval_list, df_condition_pulse_rel_list\n"
   ]
  },
  {
   "cell_type": "code",
   "execution_count": null,
   "metadata": {},
   "outputs": [],
   "source": [
    "def plot_spline_and_deriv_condition(\n",
    "      figure_path,\n",
    "      spline_eval,\n",
    "      deriv_eval,\n",
    "      spline_eval_all_cells,\n",
    "      deriv_eval_all_cells,\n",
    "      condition,\n",
    "):\n",
    "\n",
    "   fig1, ax1 = plt.subplots(1, 1, figsize=(1.75, 1.75))\n",
    "   times = np.arange(0, 47, 0.1)\n",
    "   ax1.plot(times, spline_eval, color=\"k\", label=\"subpop\")\n",
    "   ax1.plot(times, spline_eval_all_cells, color=\"grey\", label=\"fullpop\")\n",
    "   ax1.set_xlim(left=0)\n",
    "   ax1.set_ylim(bottom=0)\n",
    "   ax1.set_xticks([0, 20, 40])\n",
    "   ax1.set_xlabel(\"time (h)\")\n",
    "   ax1.set_ylabel(\"Rep_rel fit\")\n",
    "   ax1.set_title(condition)\n",
    "   ax1.set_box_aspect(1)\n",
    "   plt.legend()\n",
    "   # plt.show()\n",
    "   plt.savefig(figure_path+\"prediction_spline_\"+str(condition)+\"_paper.svg\")\n",
    "\n",
    "   fig2, ax2 = plt.subplots(1, 1, figsize=(1.75, 1.75))\n",
    "   ax2.plot(times, deriv_eval, color=\"k\", label=\"subpop\")\n",
    "   ax2.plot(times, deriv_eval_all_cells, color=\"grey\", label=\"fullpop\")\n",
    "   ax2.set_xlim(left=0)\n",
    "   ax2.set_ylim([-0.5, 0.5])\n",
    "   ax2.set_xticks([0, 20, 40])\n",
    "   ax2.set_yticks([-0.5, 0, 0.5])\n",
    "   ax2.set_xlabel(\"time (h)\")\n",
    "   ax2.set_ylabel(\"Rep_rel fit deriv (hr-1)\")\n",
    "   ax2.set_title(condition)\n",
    "   plt.legend()\n",
    "   ax2.set_box_aspect(1)\n",
    "   # plt.show()\n",
    "   plt.savefig(figure_path+\"prediction_deriv_\"+str(condition)+\"_paper.svg\")"
   ]
  },
  {
   "cell_type": "code",
   "execution_count": null,
   "metadata": {},
   "outputs": [],
   "source": [
    "def plot_spline_and_deriv_exp(figure_path, conditions, spline_eval_list, deriv_eval_list):\n",
    "\n",
    "    path_all_cells = \"/Users/kdreyer/Library/CloudStorage/OneDrive-NorthwesternUniversity/KatieD_LL/GCAD_Collab/Selected_GA_results_paper/Pulse_pop/Experiment_synTF1&2/for_paper/all_cells_deg2/\"\n",
    "    with open(path_all_cells+\"spline_eval_list.pkl\", \"rb\") as fid:\n",
    "        spline_eval_all_cells = pickle.load(fid)\n",
    "\n",
    "    with open(path_all_cells+\"derivative_eval_list.pkl\", \"rb\") as fid:\n",
    "        deriv_eval_all_cells = pickle.load(fid)\n",
    "\n",
    "    for i, condition in enumerate(conditions):\n",
    "        plot_spline_and_deriv_condition(figure_path, spline_eval_list[i], deriv_eval_list[i],\n",
    "                              spline_eval_all_cells[i], deriv_eval_all_cells[i],\n",
    "                              condition)"
   ]
  },
  {
   "cell_type": "code",
   "execution_count": null,
   "metadata": {},
   "outputs": [],
   "source": [
    "def run_spline_fitting(path_save, conditions, all_cell_ts_prediction_df, Z_mat, percentile):\n",
    "\n",
    "    all_cell_ts_prediction_df = filter_uptake_all(conditions, all_cell_ts_prediction_df,\n",
    "                                                  Z_mat, percentile)\n",
    "    (spline_eval_list, derivative_eval_list,\n",
    "     df_condition_pulse_rel_list) = fit_spline_experiment(path_save, conditions,\n",
    "                                                          percentile, all_cell_ts_prediction_df)\n",
    "    plot_spline_and_deriv_exp(path_save, conditions, spline_eval_list, derivative_eval_list)"
   ]
  },
  {
   "cell_type": "code",
   "execution_count": null,
   "metadata": {},
   "outputs": [],
   "source": [
    "repo_path = \"/Users/kdreyer/Library/CloudStorage/OneDrive-NorthwesternUniversity/KatieD_LL/GCAD_Collab/Selected_GA_results_paper/\"\n",
    "pulse_exp = \"Pulse_pop/Experiment_synTF1&2/for_paper/\"\n",
    "all_cell_exp_200 = pd.read_pickle(repo_path+pulse_exp+\"200-cell_all_cells_exp.pkl\")\n",
    "\n",
    "# run_spline_fitting(repo_path+pulse_exp+\"filtered_70pct_deg2/\", [\"pulse1\", \"pulse3\", \"pulse4\", \"pulse5\", \"reference\"], all_cell_exp_200, Z_200_df, 70)"
   ]
  },
  {
   "cell_type": "markdown",
   "metadata": {},
   "source": [
    "## Supplementary Figure 12: Pulse GA search space vs. combinatorial search"
   ]
  },
  {
   "cell_type": "code",
   "execution_count": null,
   "metadata": {},
   "outputs": [],
   "source": [
    "path_pulse_combo_pareto = \"/Users/kdreyer/Library/CloudStorage/OneDrive-NorthwesternUniversity/KatieD_LL/GCAD_Collab/Selected_GA_results_paper/Combinatorial_search/pulse_tpulse_pareto_dsred1_final.pkl\"\n",
    "path_pulse_GA_single = \"/Users/kdreyer/Library/CloudStorage/OneDrive-NorthwesternUniversity/KatieD_LL/GCAD_Collab/Selected_GA_results_paper/Pulse_single_cell/Optimized_hyperparams/t_pulse_fixed_pop_max_hv/run2_ngen10000/2025-03-13_Pulse_single_DsRED_t_pulse_opt_hps_ngen100_seed_6/\" \n",
    "fname_GA_pareto = \"final_objectives_df.pkl\"\n",
    "fname_GA_unique = \"all_unique_objs_100.pkl\"\n",
    "\n",
    "\n",
    "with open(path_pulse_combo_pareto, \"rb\") as fid:\n",
    "    pulse_combo_pareto = pickle.load(fid)\n",
    "pulse_pareto_objs_df = pd.DataFrame(abs(pulse_combo_pareto), columns=[\"t_pulse\", \"prominence_rel\"])\n",
    "\n",
    "with open(path_pulse_GA_single+fname_GA_unique, \"rb\") as fid:\n",
    "    unique_objs = pickle.load(fid)\n",
    "unique_objs = abs(unique_objs)\n",
    "unique_objs_df = pd.DataFrame(unique_objs, columns=[\"t_pulse\", \"prominence_rel\"])\n",
    "\n",
    "GA_objs = pd.read_pickle(path_pulse_GA_single+fname_GA_pareto)\n",
    "GA_objs = abs(GA_objs)\n",
    "\n",
    "# plot_pareto_comparison(path_pulse_GA_single+\"GA_search_space_paper_v2.svg\", unique_objs_df, GA_objs, [\"t_pulse\", \"prominence_rel\"])\n",
    "# plot_pareto_comparison(path_pulse_GA_single+\"pareto_comparison_paper_v2.svg\", pulse_pareto_objs_df, GA_objs, [\"t_pulse\", \"prominence_rel\"])"
   ]
  },
  {
   "cell_type": "markdown",
   "metadata": {},
   "source": [
    "## Supplementary Figure 13: Pulse experimental plasmid uptake threshold for pulse behavior"
   ]
  },
  {
   "cell_type": "code",
   "execution_count": null,
   "metadata": {},
   "outputs": [],
   "source": [
    "Z_200_df = pd.DataFrame(data = Z_200, columns = [\"plasmid_\" + str(i) for i in range(9)])\n",
    "Z_200_df = Z_200_df.drop(labels=[\"plasmid_\" + str(i) for i in range(5,9)], axis=1)\n",
    "Z_200_df[\"average\"] = np.mean(Z_200_df, axis=1)\n",
    "\n",
    "path = \"/Users/kdreyer/Library/CloudStorage/OneDrive-NorthwesternUniversity/KatieD_LL/GCAD_Collab/Selected_GA_results_paper/Pulse_pop/Experiment_synTF1&2/200_cell_all_cell_results_df.pkl\"\n",
    "pulse_exp_200 = pd.read_pickle(path)\n",
    "all_cell_prom_list = pulse_exp_200[\"single_cell_prominence\"].tolist()[4]\n",
    "\n",
    "percentile = np.arange(10, 100, 10).tolist()\n",
    "percentile_fractions = [round(i/100, 2) for i in percentile]\n",
    "\n",
    "plasmid_uptake_list = Z_200_df[\"average\"].tolist()\n",
    "plasmid_uptake_arr = np.array(plasmid_uptake_list)\n",
    "max_uptake = max(Z_200_df[\"average\"])\n",
    "threshold_percent = 70\n",
    "percent_pulse_cells_list = []\n",
    "for percent in percentile_fractions:\n",
    "    print(percent, \": \")\n",
    "    uptake_min = max_uptake*percent\n",
    "    print(\"threshold: \", uptake_min)\n",
    "    idx_uptake_included = np.where(plasmid_uptake_arr >= uptake_min)[0]\n",
    "    print(\"cells included: \", idx_uptake_included)\n",
    "    uptake_included = plasmid_uptake_arr[idx_uptake_included]\n",
    "    prom_included = [all_cell_prom_list[i] for i in idx_uptake_included]\n",
    "    # print(\"prom_rel cells included: \", prom_included)\n",
    "    pulse_cell_prom = [prom for prom in prom_included if prom > 0]\n",
    "    percent_pulse_cells = (len(pulse_cell_prom)/len(prom_included))*100\n",
    "    print(\"percent pulse cells\", percent_pulse_cells, \"%\")\n",
    "    percent_pulse_cells_list.append(percent_pulse_cells)\n",
    "fig, ax = plt.subplots(1, 1, figsize=(3.0, 3.0)) #(2.25, 2.25)\n",
    "\n",
    "ax.plot(percentile, percent_pulse_cells_list, color=\"k\")\n",
    "ax.axvline(x=threshold_percent, ymax=150, color=\"k\",linestyle=\"dashed\", label=\"selected threshold\")\n",
    "ax.set_xlabel(\"pct avg plasmid uptake\")\n",
    "ax.set_xticks([0, 20, 40, 60, 80])\n",
    "ax.set_ylabel(\"% cells with a pulse\")\n",
    "ax.set_ylim(bottom=0)\n",
    "ax.set_yticks([0, 20, 40, 60, 80, 100])\n",
    "ax.set_box_aspect(1)\n",
    "# plt.show()\n",
    "plt.savefig(\"/Users/kdreyer/Desktop/200_cell_plasmid_pct_paper_v2.svg\")"
   ]
  },
  {
   "cell_type": "markdown",
   "metadata": {},
   "source": [
    "## **Supplementary Figure 15"
   ]
  },
  {
   "cell_type": "markdown",
   "metadata": {},
   "source": [
    "## **Supplementary Figure 16"
   ]
  },
  {
   "cell_type": "markdown",
   "metadata": {},
   "source": [
    "## **Supplementary Figure 17"
   ]
  }
 ],
 "metadata": {
  "kernelspec": {
   "display_name": "GCAD_GA",
   "language": "python",
   "name": "python3"
  },
  "language_info": {
   "codemirror_mode": {
    "name": "ipython",
    "version": 3
   },
   "file_extension": ".py",
   "mimetype": "text/x-python",
   "name": "python",
   "nbconvert_exporter": "python",
   "pygments_lexer": "ipython3",
   "version": "3.10.15"
  }
 },
 "nbformat": 4,
 "nbformat_minor": 2
}
