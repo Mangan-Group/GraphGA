{
 "cells": [
  {
   "cell_type": "code",
   "execution_count": 52,
   "metadata": {},
   "outputs": [],
   "source": [
    "import numpy as np\n",
    "import pickle\n",
    "import pandas as pd\n",
    "import seaborn as sns\n",
    "# %matplotlib qt \n",
    "import matplotlib.pyplot as plt\n",
    "import matplotlib as mpl\n",
    "from brokenaxes import brokenaxes\n",
    "from plot_search_results import (\n",
    "    plot_hypervolumes_set,\n",
    "    plot_pareto_front,\n",
    "    plot_pareto_front3D,\n",
    "    plot_1D_obj_scatter,\n",
    "    plot_1D_obj_confidence_interval,\n",
    "    plot_2D_obj_confidence_interval,\n",
    "    plot_obj_progression_set\n",
    ")\n",
    "# from run_seed_comparisons import run_seed_results_comparisons\n",
    "\n",
    "plt.style.use('/Users/kdreyer/Documents/Github/GraphGA/paper.mplstyle.py')\n",
    "# orange_ = [i/255 for i in [230, 159, 0]]\n",
    "# sky_blue = [i/255 for i in [86, 180, 233]]\n",
    "# pink_ = [i/255 for i in [204, 121, 167]]\n",
    "# bluish_green = [i/255 for i in [0, 158, 115]]\n",
    "# vermillion = [i/255 for i in [213, 94, 0]]\n",
    "# yellow_ = [i/255 for i in [240, 228, 66]]\n",
    "# blue_ = [i/255 for i in [0, 114, 178]]\n",
    "amp_blue = [i/255 for i in [102, 153, 204]]\n",
    "amp_green = [i/255 for i in [17, 119, 51]]\n",
    "amp_pink = [i/255 for i in [204, 102, 119]]\n",
    "amp_dark_pink = [i/255 for i in [170, 68, 153]]\n",
    "amp_yellow = [i/255 for i in [153, 153, 51]]\n",
    "amp_maroon = [i/255 for i in [102, 17, 0]]\n",
    "\n",
    "# colors = [orange_, sky_blue, pink_, bluish_green, vermillion, yellow_, blue_]\n",
    "\n",
    "# blue, green, pink, dark pink, yellow, maroon\n",
    "colors_amp = [amp_blue, amp_green, amp_pink, amp_dark_pink, amp_yellow, amp_maroon]\n",
    "grey_ = [(i/255) for i in [150, 150, 150]]\n",
    "# grey_2 = [(i/255) for i in [127, 127, 127]]\n",
    "grey_2 = [(i/255) for i in [100, 100, 100]]\n",
    "grey_3 = [(i/255) for i in [50, 50, 50]]\n",
    "\n",
    "pulse_teal = [(i/255) for i in [68, 170, 153]]\n",
    "pulse_pink = [(i/255) for i in [136, 34, 85]]\n",
    "pulse_blue = [(i/255) for i in [51, 34, 136]]\n",
    "pulse_light_blue = [(i/255) for i in [136, 204, 238]]\n",
    "colors_pulse_single = [pulse_teal, pulse_pink, pulse_blue, pulse_light_blue]\n",
    "\n",
    "combinatorial_yellow = [(i/255) for i in [221, 204, 119]]\n",
    "\n"
   ]
  },
  {
   "cell_type": "markdown",
   "metadata": {},
   "source": [
    "## Figure 2: Amplifier"
   ]
  },
  {
   "cell_type": "markdown",
   "metadata": {},
   "source": [
    "### (b) Single cell model GA ON_rel progression "
   ]
  },
  {
   "cell_type": "code",
   "execution_count": 2,
   "metadata": {},
   "outputs": [],
   "source": [
    "path_amplifier_single = \"/Users/kdreyer/Library/CloudStorage/OneDrive-NorthwesternUniversity/KatieD_LL/GCAD_Collab/Selected_GA_results_paper/Amplifier_single_cell/Original_hyperparams_vary_dose/\"\n",
    "results_runs_single = \"Amplifier_single_cell_vary_dose_original_hp_seed_\"\n",
    "# run_seed_results_comparisons(path_amplifier_single, results_runs_single, 1, [\"ON_rel\"], 50)"
   ]
  },
  {
   "cell_type": "markdown",
   "metadata": {},
   "source": [
    "### (c) Population model GA ON_rel progression"
   ]
  },
  {
   "cell_type": "code",
   "execution_count": 24,
   "metadata": {},
   "outputs": [],
   "source": [
    "path_amplifier_pop = \"/Users/kdreyer/Library/CloudStorage/OneDrive-NorthwesternUniversity/KatieD_LL/GCAD_Collab/Selected_GA_results_paper/Amplifier_pop/Original_hyperparams_vary_dose/\"\n",
    "results_runs_pop = \"Amplifier_pop_vary_dose_original_hp_seed_\"\n",
    "# run_seed_results_comparisons(path_amplifier_pop, results_runs_pop, 1, [\"ON_rel\"], 50)"
   ]
  },
  {
   "cell_type": "markdown",
   "metadata": {},
   "source": [
    "### (d) Population model GA search space and CI"
   ]
  },
  {
   "cell_type": "code",
   "execution_count": 25,
   "metadata": {},
   "outputs": [],
   "source": [
    "def plot_1D_CI_labeled(\n",
    "        results_path: str,\n",
    "        figure_path: str,\n",
    "):\n",
    "    labeled_CI_circuits = pd.read_csv(results_path+\"labeled_CI_circuits.csv\")\n",
    "    labled_CI_circuit_variants = pd.read_csv(results_path+\"labeled_CI_circuit_variants.csv\")\n",
    "    opt_objs = labeled_CI_circuits.drop(list(\n",
    "        labeled_CI_circuits.filter(regex=\"topology\")\n",
    "        ), axis=1)\n",
    "    opt_objs = opt_objs.drop(list(\n",
    "        labeled_CI_circuits.filter(regex=\"doses\")\n",
    "        ), axis=1)\n",
    "    opt_objs = opt_objs.drop(list(\n",
    "        labeled_CI_circuits.filter(regex=\"Unnamed: 0\")\n",
    "        ), axis=1)\n",
    "    # display(opt_objs)\n",
    "    # display(opt_circuits_df_nonan)\n",
    "    opt_variant_objs = labled_CI_circuit_variants.drop(list(\n",
    "        labled_CI_circuit_variants.filter(regex=\"topology\")\n",
    "        ), axis=1)\n",
    "    opt_variant_objs = opt_variant_objs.drop(list(\n",
    "        labled_CI_circuit_variants.filter(regex=\"doses\")\n",
    "        ), axis=1)\n",
    "    opt_variant_objs = opt_variant_objs.drop(list(\n",
    "        labled_CI_circuit_variants.filter(regex=\"Unnamed: 0\")\n",
    "        ), axis=1)\n",
    "    # display(opt_variant_objs)\n",
    "    opt_objs_T = opt_objs.transpose()\n",
    "    opt_objs_T[\"opt_topo\"] = opt_objs_T.index\n",
    "    # display(opt_objs_T)\n",
    "    opt_variant_objs_T = opt_variant_objs.transpose()\n",
    "    opt_variant_objs_T[\"opt_topo\"] = opt_variant_objs_T.index\n",
    "\n",
    "    opt_objs_plot = pd.melt(frame=opt_objs_T,\n",
    "                            id_vars=\"opt_topo\",\n",
    "                            var_name=\"column_name\",\n",
    "                            value_name=\"ON_rel\")\n",
    "    opt_objs_plot.dropna(inplace=True)\n",
    "    opt_variant_objs_plot = pd.melt(frame=opt_variant_objs_T,\n",
    "                            id_vars=\"opt_topo\",\n",
    "                            var_name=\"column_name\",\n",
    "                            value_name=\"ON_rel\")\n",
    "    opt_variant_objs_plot.dropna(inplace=True)\n",
    "    x_vals = [0]*len(opt_objs_plot)\n",
    "    # print(len(x_vals))\n",
    "    np.random.seed(0)\n",
    "    jittered_x = x_vals + np.random.rand(\n",
    "        len(x_vals))\n",
    "    opt_objs_plot[\"jittered_x\"] = jittered_x\n",
    "\n",
    "    x_vals_var = [0]*len(opt_variant_objs_plot)\n",
    "    jittered_x_var = x_vals_var + np.random.rand(\n",
    "        len(x_vals_var))\n",
    "    opt_variant_objs_plot[\"jittered_x\"] = jittered_x_var\n",
    "\n",
    "    fig, ax = plt.subplots(1, 1, figsize=(2, 1.75))\n",
    "    sns.scatterplot(data= opt_objs_plot, x=\"jittered_x\", y=\"ON_rel\", ax=ax, hue=\"opt_topo\", palette=colors_amp, s=15, legend=False)\n",
    "    sns.scatterplot(data= opt_variant_objs_plot, x=\"jittered_x\", y=\"ON_rel\", ax=ax, hue=\"opt_topo\", palette=[colors_amp[2], colors_amp[5]], marker= \"+\", s=20, legend=False)\n",
    "    lower_bound = [63.11786016]*len(opt_objs_plot)\n",
    "    upper_bound = [63.50911412131601]*len(opt_objs_plot)\n",
    "    jittered_x.sort()\n",
    "    ax.fill_between(jittered_x, lower_bound, upper_bound, alpha=0.15, color=\"grey\", linewidth=0.1, zorder=3)\n",
    "    ax.set_xticks([])\n",
    "    ax.set_yticks([63.1, 63.2, 63.3, 63.4, 63.5])\n",
    "    ax.set_ylim(bottom=63.1)\n",
    "    ax.set_xlabel(\"\")\n",
    "    # plt.show()\n",
    "    plt.savefig(results_path+\"labeled_circuits_in_CI.svg\", bbox_inches=\"tight\")\n"
   ]
  },
  {
   "cell_type": "code",
   "execution_count": 26,
   "metadata": {},
   "outputs": [],
   "source": [
    "path = \"/Users/kdreyer/Library/CloudStorage/OneDrive-NorthwesternUniversity/KatieD_LL/GCAD_Collab/Selected_GA_results_paper/Amplifier_pop/Original_hyperparams_vary_dose/Amplifier_pop_vary_dose_original_hp_seed_0/\"\n",
    "results_analysis = \"2024-08-23_results_analysis_full_CI/\"\n",
    "\n",
    "# plot_1D_CI_labeled(path+results_analysis, \"\")"
   ]
  },
  {
   "cell_type": "code",
   "execution_count": 40,
   "metadata": {},
   "outputs": [
    {
     "name": "stdout",
     "output_type": "stream",
     "text": [
      "63.90036808045788 63.11786016217414\n"
     ]
    }
   ],
   "source": [
    "path_amp_pop_results = path_amplifier_pop + \"Amplifier_pop_vary_dose_original_hp_seed_0/\"\n",
    "path_Z_sampling = \"Z_matrix_sampling/selected_high_ON_rel/\"\n",
    "Z_CI_fname= \"Z_matrix_sampling_for_CI.pkl\"\n",
    "CI_Z_sampling = pd.read_pickle(path_amp_pop_results+path_Z_sampling+Z_CI_fname)\n",
    "# display(CI_Z_sampling)\n",
    "ON_rel_max = 63.50911412131601\n",
    "CI_stderr = max(CI_Z_sampling[\"ON_rel_std_error\"])\n",
    "CI_plus = 63.50911412131601 + CI_stderr\n",
    "CI_minus = 63.50911412131601 - CI_stderr\n",
    "CI_range = CI_plus - CI_minus\n",
    "print(CI_plus, CI_minus)\n",
    "\n",
    "# plot_1D_obj_confidence_interval(path_amp_pop_results, path_amp_pop_results+path_Z_sampling+\"CI_paper.svg\", CI_stderr, [\"ON_rel\"], y_lim_bottom=0.0)"
   ]
  },
  {
   "cell_type": "markdown",
   "metadata": {},
   "source": [
    "### (f) experimental data"
   ]
  },
  {
   "cell_type": "code",
   "execution_count": 30,
   "metadata": {},
   "outputs": [],
   "source": [
    "x_labels = [1, 2, 3, 4]\n",
    "ON_rel_design = [62.706, 63.304, 36.275, 35.727]\n",
    "ON_rel_test = [18.263, 18.475, 10.604, 10.523]\n",
    "ON_rel_exp = [2.943, 2.456, 7.522, 6.928]\n",
    "ON_rel_exp_stderr = [0.459, 0.383, 1.182, 1.301]"
   ]
  },
  {
   "cell_type": "code",
   "execution_count": null,
   "metadata": {},
   "outputs": [],
   "source": [
    "experimental_data_path = \"/Users/kdreyer/Library/CloudStorage/OneDrive-NorthwesternUniversity/KatieD_LL/GCAD_Collab/Experimental_data_&_planning/\"\n",
    "fig, ax = plt.subplots(1, 1, figsize=(2.25, 1.75), sharex=True, sharey=True)\n",
    "xticks = []\n",
    "for i in range(len(ON_rel_design)):\n",
    "    ax.bar(i-0.25, ON_rel_design[i], color=grey_, width=0.225, align=\"center\", label=\"design\")\n",
    "    ax.bar(i, ON_rel_test[i], color=grey_2, width=0.225, align=\"center\", label=\"test\")\n",
    "    ax.bar(i+0.25, ON_rel_exp[i], color=grey_3, width=0.225, align=\"center\", label=\"exp\")\n",
    "    (_, caps1, _) = ax.errorbar(i+0.25, ON_rel_exp[i], ON_rel_exp_stderr[i], color=\"k\", capsize=1.5, elinewidth=0.5)\n",
    "    for cap in caps1:\n",
    "        cap.set_markeredgewidth(0.5)\n",
    "\n",
    "    xticks.append(i)\n",
    "ax.set_xticks(xticks)\n",
    "ax.set_xticklabels([\"1\", \"2\", \"3\", \"4\"])\n",
    "ax.set_xlabel(\"Amplifier topology\")\n",
    "ax.set_ylabel(\"ON_rel\")\n",
    "# plt.legend()\n",
    "# plt.show()\n",
    "# plt.savefig(experimental_data_path+\"amplifier_experiment.svg\")"
   ]
  },
  {
   "cell_type": "markdown",
   "metadata": {},
   "source": [
    "## Supplementary Figure 1: Amplifier GA search space vs. combinatorial search"
   ]
  },
  {
   "cell_type": "code",
   "execution_count": null,
   "metadata": {},
   "outputs": [],
   "source": [
    "path_amplifier_single = \"/Users/kdreyer/Library/CloudStorage/OneDrive-NorthwesternUniversity/KatieD_LL/GCAD_Collab/Selected_GA_results_paper/Amplifier_single_cell/Original_hyperparams_vary_dose/Amplifier_single_cell_vary_dose_original_hp_seed_0/\"\n",
    "fname_GA_single = \"all_unique_obj.pkl\"\n",
    "path_amp_combinatorial = \"/Users/kdreyer/Library/CloudStorage/OneDrive-NorthwesternUniversity/KatieD_LL/GCAD_Collab/Selected_GA_results_paper/Combinatorial_search/ON_rel_dsred0.pkl\"\n",
    "\n",
    "with open(path_amplifier_single+fname_GA_single, \"rb\") as fid:\n",
    "    amp_GA_single = pickle.load(fid)\n",
    "with open(path_amp_combinatorial, \"rb\") as fid:\n",
    "    amp_combinatorial = pickle.load(fid)\n",
    "amp_combinatorial = abs(amp_combinatorial)\n",
    "amp_combinatorial.sort()\n",
    "# print(amp_GA_single)\n",
    "# print(amp_combinatorial)\n",
    "# plot_1D_obj_scatter(path_amplifier_single+\"GA_search_space_paper.svg\", abs(amp_GA_single), [\"ON_rel\"], y_lower_lim=0.0)\n",
    "# plot_1D_obj_scatter(path_amplifier_single+\"combinatorial_search_paper.svg\", abs(amp_combinatorial), [\"ON_rel\"], y_lower_lim=0.0)\n"
   ]
  },
  {
   "cell_type": "markdown",
   "metadata": {},
   "source": [
    "## Supplementary Figure 2: Amplifier 20 vs 200-cell model ON_rel for single cell results"
   ]
  },
  {
   "cell_type": "code",
   "execution_count": 115,
   "metadata": {},
   "outputs": [],
   "source": [
    "path_amplifier_single = \"/Users/kdreyer/Library/CloudStorage/OneDrive-NorthwesternUniversity/KatieD_LL/GCAD_Collab/Selected_GA_results_paper/Amplifier_single_cell/Original_hyperparams_vary_dose/Amplifier_single_cell_vary_dose_original_hp_seed_0/\"\n",
    "path_high_obj = path_amplifier_single + \"pop20v200_comparison_high/pop_model_comparisons.csv\"\n",
    "path_mid_obj = path_amplifier_single + \"pop20v200_comparison_mid-range/pop_model_comparisons.csv\"\n",
    "path_low_obj = path_amplifier_single + \"pop20v200_comparison_low/pop_model_comparisons.csv\"\n",
    "\n",
    "high_obj = pd.read_csv(path_high_obj)\n",
    "mid_obj = pd.read_csv(path_mid_obj)\n",
    "low_obj = pd.read_csv(path_low_obj)\n",
    "\n",
    "all_objs = pd.concat([high_obj, mid_obj, low_obj])\n",
    "all_objs.drop([\"Unnamed: 0\"], inplace=True, axis=1)\n",
    "# display(all_objs)"
   ]
  },
  {
   "cell_type": "code",
   "execution_count": 123,
   "metadata": {},
   "outputs": [
    {
     "data": {
      "image/png": "[encoded data removed]",
      "text/plain": [
       "<Figure size 170x170 with 1 Axes>"
      ]
     },
     "metadata": {},
     "output_type": "display_data"
    }
   ],
   "source": [
    "fig, ax = plt.subplots(1, 1, figsize=(1.7, 1.7))\n",
    "ax.plot(all_objs[\"20_cell\"], all_objs[\"200_cell\"], linestyle=\"none\", marker=\"o\", markersize=\"1.5\", color=\"k\")\n",
    "ax.plot([0, 70], [0, 70], linestyle=\"dashed\", color=\"k\")\n",
    "ax.set_xlabel(\"20-cell objective (ON_rel)\")\n",
    "ax.set_ylabel(\"200-cell objective (ON_rel)\")\n",
    "ax.set_xlim(left=0)\n",
    "ax.set_ylim(bottom=0)\n",
    "ax.set_box_aspect(1)\n",
    "ax.set_xticks([0, 20, 40, 60])\n",
    "ax.set_yticks([0, 20, 40, 60])\n",
    "# plt.show()\n",
    "# plt.savefig(path_amplifier_single+\"20v200_parity_paper.svg\", bbox_inches=\"tight\")"
   ]
  },
  {
   "cell_type": "markdown",
   "metadata": {},
   "source": [
    "## Supplementary Figure 3: Amplifier 20 vs 200-cell model ON_rel for 20-cell GA esults"
   ]
  },
  {
   "cell_type": "markdown",
   "metadata": {},
   "source": [
    "### CI objectives comparison"
   ]
  },
  {
   "cell_type": "code",
   "execution_count": 107,
   "metadata": {},
   "outputs": [],
   "source": [
    "def plot_CI_comparison(\n",
    "        figure_path: str,\n",
    "        objs_20: list,\n",
    "        objs_200: list,\n",
    "        CI_max: float\n",
    "):\n",
    "\n",
    "    np.random.seed(0)\n",
    "    x_vals = [1]*len(objs_20)\n",
    "    jittered_x = x_vals + 0.1*np.random.rand(\n",
    "        len(x_vals))\n",
    "    lower_bound = [max(objs_20)-CI_max]*(len(objs_20)+2)\n",
    "    upper_bound = [max(objs_20)+CI_max]*(len(objs_20)+2)\n",
    "\n",
    "    mpl.rcParams[\"figure.autolayout\"] = False\n",
    "    fig = plt.figure(figsize= (2.0, 1.75))\n",
    "    bax = brokenaxes(ylims=((0, 0.1), (62.9, 64)), hspace=0.1)\n",
    "    bax.plot(jittered_x, objs_20, linestyle=\"None\",\n",
    "             marker=\"o\", markersize=1, color=\"black\", zorder=0)\n",
    "    bax.plot(jittered_x, objs_200, linestyle=\"None\",\n",
    "             marker=\"o\", markersize=1, color=grey_, zorder=1)\n",
    "    x_CI_fill = np.append(jittered_x, [0.995, 1.105])\n",
    "    x_CI_fill.sort()\n",
    "    bax.fill_between(x_CI_fill, lower_bound, upper_bound, alpha=0.15, color=\"grey\", zorder=2,\n",
    "                    linewidth=0.25)\n",
    "    # bax.set_xticklabels([])\n",
    "    bax.set_xlim([0.995, 1.105])\n",
    "    bax.axs[0].set_xticks([])\n",
    "    bax.axs[1].set_xticks([])\n",
    "    bax.set_ylabel(\"ON_rel\")\n",
    "    # bax.set_ylim(bottom=0)\n",
    "    bax.axs[1].set_yticks([0])\n",
    "    bax.axs[0].set_yticks([63.0, 63.5, 64])\n",
    "    # plt.show()\n",
    "    plt.savefig(figure_path, bbox_inches=\"tight\")"
   ]
  },
  {
   "cell_type": "code",
   "execution_count": null,
   "metadata": {},
   "outputs": [],
   "source": [
    "path_amp_CI = \"/Users/kdreyer/Library/CloudStorage/OneDrive-NorthwesternUniversity/KatieD_LL/GCAD_Collab/Selected_GA_results_paper/Amplifier_pop/Original_hyperparams_vary_dose/Amplifier_pop_vary_dose_original_hp_seed_0/pop200_comparison_CI/\"\n",
    "CI_fname = \"pop_model_comparisons.csv\"\n",
    "ON_rel_comparison = pd.read_csv(path_amp_CI+CI_fname)\n",
    "ON_rel_comparison.drop([\"Unnamed: 0\", \"2000_cell\"], axis=1, inplace=True)\n",
    "# plot_CI_comparison(path_amp_CI+\"CI_comparison_paper.svg\", ON_rel_comparison[\"20_cell\"].tolist(), ON_rel_comparison[\"200_cell\"].tolist(), CI_stderr)"
   ]
  },
  {
   "cell_type": "markdown",
   "metadata": {},
   "source": [
    "### all objectives parity"
   ]
  },
  {
   "cell_type": "code",
   "execution_count": null,
   "metadata": {},
   "outputs": [],
   "source": [
    "path_amp_mid = \"/Users/kdreyer/Library/CloudStorage/OneDrive-NorthwesternUniversity/KatieD_LL/GCAD_Collab/Selected_GA_results_paper/Amplifier_pop/Original_hyperparams_vary_dose/Amplifier_pop_vary_dose_original_hp_seed_0/pop200_comparison_mid-range/pop_model_comparisons.csv\"\n",
    "path_amp_low = \"/Users/kdreyer/Library/CloudStorage/OneDrive-NorthwesternUniversity/KatieD_LL/GCAD_Collab/Selected_GA_results_paper/Amplifier_pop/Original_hyperparams_vary_dose/Amplifier_pop_vary_dose_original_hp_seed_0/pop200_comparison_low/pop_model_comparisons.csv\"\n",
    "\n",
    "ON_rel_mid = pd.read_csv(path_amp_mid)\n",
    "ON_rel_mid.drop([\"Unnamed: 0\"], axis=1, inplace=True)\n",
    "\n",
    "ON_rel_low = pd.read_csv(path_amp_low)\n",
    "ON_rel_low.drop([\"Unnamed: 0\"], axis=1, inplace=True)\n",
    "\n",
    "ON_rel_all = pd.concat([ON_rel_comparison, ON_rel_mid, ON_rel_low])"
   ]
  },
  {
   "cell_type": "code",
   "execution_count": null,
   "metadata": {},
   "outputs": [],
   "source": [
    "path_amp_save = \"/Users/kdreyer/Library/CloudStorage/OneDrive-NorthwesternUniversity/KatieD_LL/GCAD_Collab/Selected_GA_results_paper/Amplifier_pop/Original_hyperparams_vary_dose/Amplifier_pop_vary_dose_original_hp_seed_0/\"\n",
    "\n",
    "fig, ax = plt.subplots(1, 1, figsize=(1.7, 1.7))\n",
    "ax.plot(ON_rel_all[\"20_cell\"], ON_rel_all[\"200_cell\"], linestyle=\"none\", marker=\"o\", markersize=\"1.5\", color=\"k\")\n",
    "ax.plot([0, 70], [0, 70], linestyle=\"dashed\", color=\"k\")\n",
    "ax.set_xlabel(\"20-cell objective (ON_rel)\")\n",
    "ax.set_ylabel(\"200-cell objective (ON_rel)\")\n",
    "ax.set_xlim(left=0)\n",
    "ax.set_ylim(bottom=0)\n",
    "ax.set_box_aspect(1)\n",
    "ax.set_xticks([0, 20, 40, 60])\n",
    "ax.set_yticks([0, 20, 40, 60])\n",
    "# plt.show()\n",
    "# plt.savefig(path_amp_save+\"20v200_parity_paper.svg\", bbox_inches=\"tight\")"
   ]
  },
  {
   "cell_type": "markdown",
   "metadata": {},
   "source": [
    "## Figure 3: Signal conditioner"
   ]
  },
  {
   "cell_type": "markdown",
   "metadata": {},
   "source": [
    "### (b) Single cell original hyperparameter pareto front"
   ]
  },
  {
   "cell_type": "code",
   "execution_count": null,
   "metadata": {},
   "outputs": [],
   "source": [
    "path_sigcond_single = \"/Users/kdreyer/Library/CloudStorage/OneDrive-NorthwesternUniversity/KatieD_LL/GCAD_Collab/Selected_GA_results_paper/Signal_conditioner_single_cell/synTF-R-DsR/Original_hyperparams/run4_ngen120/\"\n",
    "selected_seed_single = \"2024-10-04_Signal_cond_single_DsRED_original_hps_ngen120_seed_5/\"\n",
    "pareto_obj_df = pd.read_pickle(path_sigcond_single+selected_seed_single+\"final_objectives_df.pkl\")\n",
    "# plot_pareto_front(path_sigcond_single+selected_seed_single+\"pareto_front_paper.svg\", pareto_obj_df, [\"ON_rel\", \"FI_rel\"], False)"
   ]
  },
  {
   "cell_type": "markdown",
   "metadata": {},
   "source": [
    "### (b) Single cell original hyperparameter hypervolume set"
   ]
  },
  {
   "cell_type": "code",
   "execution_count": null,
   "metadata": {},
   "outputs": [],
   "source": [
    "path_sigcond_single = \"/Users/kdreyer/Library/CloudStorage/OneDrive-NorthwesternUniversity/KatieD_LL/GCAD_Collab/Selected_GA_results_paper/Signal_conditioner_single_cell/synTF-R-DsR/Original_hyperparams/run4_ngen120/\"\n",
    "results_runs_single = \"2024-10-04_Signal_cond_single_DsRED_original_hps_ngen120_seed_\"\n",
    "# run_seed_results_comparisons(path_sigcond_single, results_runs_single, 2, [\"ON_rel\", \"FI_rel\"], 120, 5)"
   ]
  },
  {
   "cell_type": "markdown",
   "metadata": {},
   "source": [
    "### (d) Single cell optimized hyperparameter pareto front"
   ]
  },
  {
   "cell_type": "code",
   "execution_count": null,
   "metadata": {},
   "outputs": [],
   "source": [
    "path_sigcond_single_opt = \"/Users/kdreyer/Library/CloudStorage/OneDrive-NorthwesternUniversity/KatieD_LL/GCAD_Collab/Selected_GA_results_paper/Signal_conditioner_single_cell/synTF-R-DsR/Optimized_hyperparams_fixed_pop_max_hv/run4_ngen120/\"\n",
    "selected_seed_single_opt = \"2024-10-04_Signal_cond_single_DsRED_opt_hps_run4_seed_3/\"\n",
    "pareto_obj_df = pd.read_pickle(path_sigcond_single_opt+selected_seed_single_opt+\"final_objectives_df.pkl\")\n",
    "# plot_pareto_front(path_sigcond_single_opt+selected_seed_single_opt+\"pareto_front_paper.svg\", pareto_obj_df, [\"ON_rel\", \"FI_rel\"], False)"
   ]
  },
  {
   "cell_type": "markdown",
   "metadata": {},
   "source": [
    "### (d) Single cell optimized hyperparameter hypervolume set"
   ]
  },
  {
   "cell_type": "code",
   "execution_count": null,
   "metadata": {},
   "outputs": [],
   "source": [
    "path_sigcond_single_opt = \"/Users/kdreyer/Library/CloudStorage/OneDrive-NorthwesternUniversity/KatieD_LL/GCAD_Collab/Selected_GA_results_paper/Signal_conditioner_single_cell/synTF-R-DsR/Optimized_hyperparams_fixed_pop_max_hv/run4_ngen120/\"\n",
    "results_runs_single_opt = \"2024-10-04_Signal_cond_single_DsRED_opt_hps_run4_seed_\"\n",
    "# run_seed_results_comparisons(path_sigcond_single_opt, results_runs_single_opt, 2, [\"ON_rel\", \"FI_rel\"], 120, 3)"
   ]
  },
  {
   "cell_type": "markdown",
   "metadata": {},
   "source": [
    "## Supplementary Figure 5: Signal Conditioner GA search space vs. combinatorial search"
   ]
  },
  {
   "cell_type": "code",
   "execution_count": 193,
   "metadata": {},
   "outputs": [],
   "source": [
    "def plot_pareto_comparison(\n",
    "        figure_path: str, \n",
    "        obj_df1: pd.DataFrame,\n",
    "        obj_df2: pd.DataFrame,\n",
    "        obj_labels: list,\n",
    "):\n",
    "        fig, ax = plt.subplots(1, 1, figsize= (2, 2))\n",
    "        sns.scatterplot(data=obj_df1, x= obj_df1[obj_labels[0]],\n",
    "                        y= obj_df1[obj_labels[1]], \n",
    "                        color=combinatorial_yellow, ax=ax, s=3, linewidth=0.05, zorder=2,\n",
    "                        edgecolor=\"k\")\n",
    "        \n",
    "        sns.scatterplot(data=obj_df2, x= obj_df2[obj_labels[0]],\n",
    "                        y= obj_df2[obj_labels[1]], \n",
    "                        color=\"black\", ax=ax, s=3, linewidth=0.05)\n",
    "\n",
    "        ax.set_xlabel(obj_labels[0])\n",
    "        ax.set_ylabel(obj_labels[1])\n",
    "        ax.set_xticks([0, 20, 40, 60])\n",
    "        ax.set_xlim(left=0)\n",
    "        ax.set_ylim(bottom=0)\n",
    "        ax.set_yticks([0, 0.4, 0.8, 1.2, 1.6])\n",
    "        ax.set_box_aspect(1)\n",
    "        # plt.show()\n",
    "        plt.savefig(figure_path, bbox_inches=\"tight\")"
   ]
  },
  {
   "cell_type": "code",
   "execution_count": null,
   "metadata": {},
   "outputs": [],
   "source": [
    "path_sc_combinatorial = \"/Users/kdreyer/Library/CloudStorage/OneDrive-NorthwesternUniversity/KatieD_LL/GCAD_Collab/Selected_GA_results_paper/Combinatorial_search/sig_cond_all_obj_dsred1.pkl\"\n",
    "path_sc_combo_pareto = \"/Users/kdreyer/Library/CloudStorage/OneDrive-NorthwesternUniversity/KatieD_LL/GCAD_Collab/Selected_GA_results_paper/Combinatorial_search/sig_cond_pareto_dsred1.pkl\"\n",
    "path_sc_GA_single = \"/Users/kdreyer/Library/CloudStorage/OneDrive-NorthwesternUniversity/KatieD_LL/GCAD_Collab/Selected_GA_results_paper/Signal_conditioner_single_cell/synTF-R-DsR/Optimized_hyperparams_fixed_pop_max_hv_ngen50/run4_ngen120/2024-10-04_Signal_cond_single_DsRED_opt_hps_run4_seed_3/\"\n",
    "fname_GA_pareto = \"final_objectives_df.pkl\"\n",
    "fname_GA_unique = \"all_unique_obj.pkl\"\n",
    "\n",
    "# with open(path_sc_combinatorial, \"rb\") as fid:\n",
    "#     sc_combinatorial = pickle.load(fid)\n",
    "# sc_all_objs_df = pd.DataFrame(abs(sc_combinatorial), columns=[\"ON_rel\", \"FI_rel\"])\n",
    "# display(sc_objs_df)\n",
    "# plt.plot(sc_all_objs_df[\"ON_rel\"], sc_all_objs_df[\"FI_rel\"], linestyle=\"none\", marker=\"o\", markersize=0.25)\n",
    "# plt.show()\n",
    "\n",
    "with open(path_sc_combo_pareto, \"rb\") as fid:\n",
    "    sc_combo_pareto = pickle.load(fid)\n",
    "sc_pareto_objs_df = pd.DataFrame(abs(sc_combo_pareto), columns=[\"ON_rel\", \"FI_rel\"])\n",
    "\n",
    "with open(path_sc_GA_single+fname_GA_unique, \"rb\") as fid:\n",
    "    unique_objs = pickle.load(fid)\n",
    "unique_objs = abs(unique_objs)\n",
    "unique_objs_df = pd.DataFrame(unique_objs, columns=[\"ON_rel\", \"FI_rel\"])\n",
    "\n",
    "\n",
    "GA_objs = pd.read_pickle(path_sc_GA_single+fname_GA_pareto)\n",
    "GA_objs.drop(\"type\", axis=1, inplace=True)\n",
    "# display(GA_objs)\n",
    "GA_objs = abs(GA_objs)\n",
    "\n",
    "# display(sc_pareto_objs_df)\n",
    "\n",
    "# plt.plot(GA_objs[\"ON_rel\"], GA_objs[\"FI_rel\"], linestyle=\"none\", marker=\"o\", markersize=1.5, zorder=10)\n",
    "# plt.plot(unique_objs_df[\"ON_rel\"], unique_objs_df[\"FI_rel\"], linestyle=\"none\", marker=\"o\", markersize=1.5)\n",
    "# plt.plot(sc_pareto_objs_df[\"ON_rel\"], sc_pareto_objs_df[\"FI_rel\"], linestyle=\"none\", marker=\"o\", markersize=1.5)\n",
    "\n",
    "# plot_pareto_comparison(path_sc_GA_single+\"GA_search_space_paper.svg\", unique_objs_df, GA_objs, [\"ON_rel\", \"FI_rel\"])\n",
    "plot_pareto_comparison(path_sc_GA_single+\"pareto_comparison_paper.svg\", GA_objs, sc_pareto_objs_df, [\"ON_rel\", \"FI_rel\"])"
   ]
  },
  {
   "cell_type": "markdown",
   "metadata": {},
   "source": [
    "## Supplementary Figure 6: Signal conditioner 20 vs 200-cell model ON_rel for single cell results"
   ]
  },
  {
   "cell_type": "code",
   "execution_count": null,
   "metadata": {},
   "outputs": [],
   "source": []
  },
  {
   "cell_type": "markdown",
   "metadata": {},
   "source": [
    "## Supplementary Figure 7: signal conditioner population model"
   ]
  },
  {
   "cell_type": "markdown",
   "metadata": {},
   "source": [
    "### (a) 20-cell model with single cell opt params pareto front"
   ]
  },
  {
   "cell_type": "code",
   "execution_count": null,
   "metadata": {},
   "outputs": [],
   "source": [
    "path_sigcond_pop_opt = \"/Users/kdreyer/Library/CloudStorage/OneDrive-NorthwesternUniversity/KatieD_LL/GCAD_Collab/Selected_GA_results_paper/Signal_conditioner_pop/synTF-R-DsR/Single_cell_model_opt_hyperparams_max_hv/run5_ngen130/\"\n",
    "selected_seed_pop_opt = \"2024-10-04_Signal_cond_pop_DsRED_single_opt_hp_run5_seed_2/\"\n",
    "pareto_obj_df = pd.read_pickle(path_sigcond_pop_opt+selected_seed_pop_opt+\"final_objectives_df.pkl\")\n",
    "# plot_pareto_front(path_sigcond_pop_opt+selected_seed_pop_opt+\"pareto_front_paper.svg\", pareto_obj_df, [\"ON_rel\", \"FI_rel\"], False)"
   ]
  },
  {
   "cell_type": "markdown",
   "metadata": {},
   "source": [
    "### (b) 20-cell model single cell opt params hypervolume set"
   ]
  },
  {
   "cell_type": "code",
   "execution_count": null,
   "metadata": {},
   "outputs": [],
   "source": [
    "path_sigcond_pop_opt = \"/Users/kdreyer/Library/CloudStorage/OneDrive-NorthwesternUniversity/KatieD_LL/GCAD_Collab/Selected_GA_results_paper/Signal_conditioner_pop/synTF-R-DsR/Single_cell_model_opt_hyperparams_max_hv/run5_ngen130/\"\n",
    "results_runs_pop_opt = \"2024-10-04_Signal_cond_pop_DsRED_single_opt_hp_run5_seed_\"\n",
    "# run_seed_results_comparisons(path_sigcond_pop_opt, results_runs_pop_opt, 2, [\"ON_rel\", \"FI_rel\"], 130, 2)"
   ]
  },
  {
   "cell_type": "markdown",
   "metadata": {},
   "source": [
    "## Figure 4 Pulse generator"
   ]
  },
  {
   "cell_type": "markdown",
   "metadata": {},
   "source": [
    "### (b) Single cell optimized hyperparameter pareto front"
   ]
  },
  {
   "cell_type": "code",
   "execution_count": null,
   "metadata": {},
   "outputs": [],
   "source": [
    "path_pulse_single_opt = \"/Users/kdreyer/Library/CloudStorage/OneDrive-NorthwesternUniversity/KatieD_LL/GCAD_Collab/Selected_GA_results_paper/Pulse_single_cell/Optimized_hyperparams/t_pulse/Optimized_hyperparams_fixed_pop_max_hv/2024-10-09_Pulse_single_DsRED_t_pulse_opt_hps_ngen80_seed_5/\"\n",
    "pareto_obj_df = pd.read_pickle(path_pulse_single_opt+\"final_objectives_df.pkl\")\n",
    "# display(pareto_obj_df)\n",
    "# plot_pareto_front(path_pulse_single_opt+\"pareto_front_paper.svg\", pareto_obj_df, [\"t_pulse\", \"prominence_rel\"], False)"
   ]
  },
  {
   "cell_type": "markdown",
   "metadata": {},
   "source": [
    "### (b) Single cell optimized hyperparameter hypervolume set"
   ]
  },
  {
   "cell_type": "code",
   "execution_count": null,
   "metadata": {},
   "outputs": [],
   "source": [
    "path_pulse_single_opt = \"/Users/kdreyer/Library/CloudStorage/OneDrive-NorthwesternUniversity/KatieD_LL/GCAD_Collab/Selected_GA_results_paper/Pulse_single_cell/Optimized_hyperparams/t_pulse/Optimized_hyperparams_fixed_pop_max_hv/\"\n",
    "results_runs = \"2024-10-09_Pulse_single_DsRED_t_pulse_opt_hps_ngen80_seed_\"\n",
    "# run_seed_results_comparisons(path_pulse_single_opt, results_runs, 2, [\"t_pulse\", \"prominence_rel\"], 80, 5)"
   ]
  },
  {
   "cell_type": "markdown",
   "metadata": {},
   "source": [
    "### (b) Single cell labeled pareto front"
   ]
  },
  {
   "cell_type": "code",
   "execution_count": 52,
   "metadata": {},
   "outputs": [],
   "source": [
    "def plot_pareto_labeled(\n",
    "        results_path: str,\n",
    "):\n",
    "    labeled_CI_circuits = pd.read_csv(results_path+\"labeled_CI_circuits.csv\")\n",
    "    labled_CI_circuit_variants = pd.read_csv(results_path+\"labeled_CI_circuit_variants.csv\")\n",
    "    \n",
    "    # display(labeled_CI_circuits)\n",
    "    opt0 = labeled_CI_circuits[[\"opt_0_t_pulse\", \"opt_0_prom_rel\"]]\n",
    "    opt1 = labeled_CI_circuits[[\"opt_1_t_pulse\", \"opt_1_prom_rel\"]]\n",
    "    opt2 = labeled_CI_circuits[[\"opt_2_t_pulse\", \"opt_2_prom_rel\"]]\n",
    "    # opt0_var = labled_CI_circuit_variants[[\"opt_0_t_pulse\", \"opt_0_prom_rel\"]]\n",
    "    opt1_var = labled_CI_circuit_variants[[\"opt_1_var_t_pulse\", \"opt_1_var_prom_rel\"]]\n",
    "    opt2_var = labled_CI_circuit_variants[[\"opt_2_var_t_pulse\", \"opt_2_var_prom_rel\"]]\n",
    "\n",
    "\n",
    "    fig, ax = plt.subplots(1, 1, figsize=(1.955, 1.955))\n",
    "    sns.scatterplot(data= opt0, x=\"opt_0_t_pulse\", y=\"opt_0_prom_rel\", ax=ax, color=colors_pulse_single[0], s=10, legend=False)\n",
    "    sns.scatterplot(data= opt1, x=\"opt_1_t_pulse\", y=\"opt_1_prom_rel\", ax=ax, color=colors_pulse_single[1], s=10, legend=False)\n",
    "    sns.scatterplot(data= opt2, x=\"opt_2_t_pulse\", y=\"opt_2_prom_rel\", ax=ax, color=colors_pulse_single[2], s=10, legend=False)\n",
    "    \n",
    "    sns.scatterplot(data= opt1_var, x=\"opt_1_var_t_pulse\", y=\"opt_1_var_prom_rel\", ax=ax, color=colors_pulse_single[1], s=10, legend=False)\n",
    "    sns.scatterplot(data= opt2_var, x=\"opt_2_var_t_pulse\", y=\"opt_2_var_prom_rel\", ax=ax, color=colors_pulse_single[2], s=10, legend=False)\n",
    "\n",
    "    # sns.scatterplot(data= opt_variant_objs_plot, x=\"jittered_x\", y=\"ON_rel\", ax=ax, hue=\"opt_topo\", palette=[colors_amp[2], colors_amp[5]], marker= \"+\", s=20, legend=False)\n",
    "\n",
    "    # ax.set_xticks([])\n",
    "    # ax.set_yticks([63.1, 63.2, 63.3, 63.4, 63.5])\n",
    "    ax.set_ylim(bottom=0)\n",
    "    ax.set_xlim(left=0)\n",
    "    # ax.set_xlabel(\"\")\n",
    "    # plt.show()\n",
    "    plt.savefig(results_path+\"labeled_circuits_in_CI.svg\", bbox_inches=\"tight\")"
   ]
  },
  {
   "cell_type": "code",
   "execution_count": null,
   "metadata": {},
   "outputs": [],
   "source": [
    "path_pulse = \"/Users/kdreyer/Library/CloudStorage/OneDrive-NorthwesternUniversity/KatieD_LL/GCAD_Collab/Selected_GA_results_paper/Pulse_single_cell/Optimized_hyperparams/t_pulse/Optimized_hyperparams_fixed_pop_max_hv/2024-10-09_Pulse_single_DsRED_t_pulse_opt_hps_ngen80_seed_5/2024-10-11_results_analysis/\"\n",
    "\n",
    "# plot_pareto_labeled(path_pulse)"
   ]
  },
  {
   "cell_type": "markdown",
   "metadata": {},
   "source": [
    "### Parity plot 20-cell vs. 200-cell prom_rel for single cell opt pulses"
   ]
  },
  {
   "cell_type": "code",
   "execution_count": null,
   "metadata": {},
   "outputs": [],
   "source": [
    "from pulse_generator_problem import PulseGenerator\n",
    "all_cell_200 = pd.read_pickle(\"/Users/kdreyer/Desktop/pulse_single_plasmid_uptake_200/200_cell_all_cell_results_df_opt.pkl\")\n",
    "all_cell_20 = pd.read_pickle(\"/Users/kdreyer/Desktop/pulse_single_plasmid_uptake_200/20_cell_all_cell_results_df_opt.pkl\")\n",
    "display(all_cell_20)\n",
    "pulse_20 = PulseGenerator(promo_node=\"P1\", dose_specs=[5, 75, 5], max_part=2, inhibitor=True, \n",
    "                            DsRed_inhibitor=True, num_dict={}, n_gen=None, probability_crossover=None, \n",
    "                            probability_mutation=None, mutate_dose=True, pop=True, num_processes=8, \n",
    "                            max_time=126, single_cell_tracking=True)"
   ]
  },
  {
   "cell_type": "code",
   "execution_count": 5,
   "metadata": {},
   "outputs": [],
   "source": [
    "all_prom_rel_20 = []\n",
    "all_prom_rel_200 = []\n",
    "\n",
    "for index, row in all_cell_20.iterrows():\n",
    "    rep_rel_mean20 = all_cell_20.at[index, \"Rep_rel time series mean\"]\n",
    "\n",
    "    peak_rel_20 = pulse_20.calc_peak_rel(rep_rel_mean20)\n",
    "    prom_rel_20 = pulse_20.calc_prominence_rel(rep_rel_mean20, peak_rel_20)\n",
    "    all_prom_rel_20.append(prom_rel_20)\n",
    "\n",
    "    rep_rel_mean200 = all_cell_200.at[index, \"Rep_rel time series mean\"]\n",
    "\n",
    "    peak_rel_200 = pulse_20.calc_peak_rel(rep_rel_mean200)\n",
    "    prom_rel_200 = pulse_20.calc_prominence_rel(rep_rel_mean200, peak_rel_200)\n",
    "    all_prom_rel_200.append(prom_rel_200)"
   ]
  },
  {
   "cell_type": "code",
   "execution_count": null,
   "metadata": {},
   "outputs": [],
   "source": [
    "fig, ax = plt.subplots(1, 1, figsize=(1.25, 1.25))\n",
    "ax.plot([abs(i) for i in all_prom_rel_20], [abs(i) for i in all_prom_rel_200], linestyle=\"none\", marker=\"o\", markersize=\"2\", color=\"k\")\n",
    "ax.plot([0, 6], [0, 6], linestyle=\"dashed\", color=\"k\")\n",
    "ax.set_xlabel(\"20 cell prom_rel\")\n",
    "ax.set_ylabel(\"200 cell prom_rel\")\n",
    "ax.set_xlim(left=0)\n",
    "ax.set_ylim(bottom=0)\n",
    "ax.set_box_aspect(1)\n",
    "ax.set_xticks([0, 2, 4, 6])\n",
    "# plt.show()\n",
    "# plt.savefig(\"/Users/kdreyer/Desktop/pulse_20vs200_parity.svg\", bbox_inches=\"tight\")"
   ]
  },
  {
   "cell_type": "markdown",
   "metadata": {},
   "source": [
    "#### 200-cell all cell time series"
   ]
  },
  {
   "cell_type": "code",
   "execution_count": null,
   "metadata": {},
   "outputs": [],
   "source": [
    "all_cell_ts_12 = all_cell_200.at[12, \"Rep_rel time series for each cell\"]\n",
    "ts_mean_12 = all_cell_200.at[12, \"Rep_rel time series mean\"]\n",
    "\n",
    "fig, ax = plt.subplots(1, 1, figsize=(1.25, 1.25))\n",
    "for cell in range(200):\n",
    "    if max(all_cell_ts_12[cell]) > 300:\n",
    "        color_ = \"k\"\n",
    "        linestyle_ = \"dashed\"\n",
    "        zorder_ = 2\n",
    "    elif all_cell_200.at[21, \"single_cell_prominence\"][cell] > 0:\n",
    "        color_ = \"grey\"\n",
    "        linestyle_ = \"solid\"\n",
    "        zorder_= 100\n",
    "    else:\n",
    "        color_ = \"k\"\n",
    "        linestyle_ = \"solid\"\n",
    "        zorder_=1\n",
    "\n",
    "    ax.plot(np.arange(0, 127, 1), all_cell_ts_12[cell], color=color_, linestyle=linestyle_, zorder=zorder_)\n",
    "ax.set_ylim([0, 400])\n",
    "# ax.set_yticks([0, 100, 200, 300, 400])\n",
    "ax.set_xlim([0, 42])\n",
    "ax.set_xticks([0, 10, 20, 30, 40])\n",
    "ax.set_xlabel(\"Time (h)\")\n",
    "ax.set_ylabel(\"Reporter_rel\")\n",
    "# plt.show()\n",
    "plt.savefig(\"/Users/kdreyer/Desktop/200_cell_ts_21_paper.svg\", bbox_inches=\"tight\")"
   ]
  },
  {
   "cell_type": "markdown",
   "metadata": {},
   "source": [
    "#### 200-cell plasmid uptake distributions- pulse vs. non-pulse"
   ]
  },
  {
   "cell_type": "code",
   "execution_count": null,
   "metadata": {},
   "outputs": [],
   "source": [
    "from pulse_generator_problem import PulseGenerator\n",
    "from load_files_pop import Z_200\n",
    "\n",
    "Z_200_df = pd.DataFrame(data = Z_200, columns = [\"plasmid_\" + str(i) for i in range(9)])\n",
    "Z_200_df = Z_200_df.drop(labels=[\"plasmid_\" + str(i) for i in range(5,9)], axis=1)\n",
    "\n",
    "\n",
    "all_cell_200 = pd.read_pickle(\"/Users/kdreyer/Desktop/pulse_single_plasmid_uptake_200/200_cell_all_cell_results_df_opt.pkl\")\n",
    "all_cell_20 = pd.read_pickle(\"/Users/kdreyer/Desktop/pulse_single_plasmid_uptake_200/20_cell_all_cell_results_df_opt.pkl\")\n",
    "\n",
    "pulse_20 = PulseGenerator(promo_node=\"P1\", dose_specs=[5, 75, 5], max_part=2, inhibitor=True, \n",
    "                            DsRed_inhibitor=True, num_dict={}, n_gen=None, probability_crossover=None, \n",
    "                            probability_mutation=None, mutate_dose=True, pop=True, num_processes=8, \n",
    "                            max_time=126, single_cell_tracking=True)\n",
    "\n",
    "# display(all_cell_200)\n",
    "# display(Z_200_df)\n",
    "for index, row in all_cell_200.iterrows():\n",
    "    all_cell200_prom_list = row[\"single_cell_prominence\"]\n",
    "    all_cell200_peak_list = row[\"single_cell_peaks\"]\n",
    "\n",
    "    rep_rel_mean20 = all_cell_20.at[index, \"Rep_rel time series mean\"]\n",
    "\n",
    "    peak_rel_20 = pulse_20.calc_peak_rel(rep_rel_mean20)\n",
    "    prom_rel_20 = pulse_20.calc_prominence_rel(rep_rel_mean20, peak_rel_20)\n",
    "\n",
    "\n",
    "    rep_rel_mean200 = row[\"Rep_rel time series mean\"]\n",
    "\n",
    "    peak_rel_200 = pulse_20.calc_peak_rel(rep_rel_mean200)\n",
    "    prom_rel_200 = pulse_20.calc_prominence_rel(rep_rel_mean200, peak_rel_200)\n",
    "\n",
    "    avg_no_pulse = []\n",
    "    avg_pulse = []\n",
    "    other_plasmids_pulse = []\n",
    "    other_plasmids_no_pulse = []\n",
    "    # peak_no_pulse = []\n",
    "    # prom_rel_pulse = []\n",
    "    # prom_rel_all = []\n",
    "    avg_list = []\n",
    "    inh_uptake_pulse = []\n",
    "    inh_uptake_no_pulse = []\n",
    "\n",
    "\n",
    "    if prom_rel_20 > 0 and prom_rel_200 == 0:\n",
    "        print(index)\n",
    "        if index in [17, 18, 24, 27, 34, 35]:\n",
    "\n",
    "            inh_plasmid = 0\n",
    "            zf_plasmid = [1, 2] \n",
    "            other_plasmids = [1, 2, 3]\n",
    "        else:\n",
    "            inh_plasmid = 2\n",
    "            zf_plasmid = [0, 1]\n",
    "            other_plasmids = [0, 1, 3]\n",
    "\n",
    "        fig, ax = plt.subplots(1, 1, figsize=(1.25, 1.25))\n",
    "        for cell in range(200):\n",
    "            uptake_list = Z_200_df.iloc[cell].tolist()[:-1]\n",
    "            cell_prom = all_cell200_prom_list[cell]\n",
    "            avg_uptake = np.mean(uptake_list)\n",
    "\n",
    "            if cell_prom == 0:\n",
    "            #     zf_uptake_no_pulse.append(zf_uptake)\n",
    "                # inh_uptake_no_pulse.append(inh_uptake)\n",
    "                # other_plasmids_no_pulse.append(other_plasmids_uptake)\n",
    "                avg_no_pulse.append(avg_uptake)\n",
    "                # if avg_uptake >3 and index == 24:\n",
    "                #     print(index, avg_uptake, all_cell200_peak_list[cell])\n",
    "                if all_cell200_peak_list[cell] > 300:\n",
    "                    print(index, all_cell200_peak_list[cell], avg_uptake)#, inh_uptake, other_plasmids_uptake)\n",
    "\n",
    "            else:\n",
    "            #     zf_uptake_pulse.append(zf_uptake)\n",
    "            #     inh_uptake_pulse.append(inh_uptake)\n",
    "                avg_pulse.append(avg_uptake)\n",
    "            #     other_plasmids_pulse.append(other_plasmids_uptake)\n",
    "\n",
    "        # print(sorted(avg_no_pulse)[:-7])\n",
    "        print(sorted(avg_no_pulse)[-7:])\n",
    "        # plt.figure(figsize=(2, 2))\n",
    "        import matplotlib as mpl\n",
    "        mpl.rcParams['hatch.linewidth'] = 0.25\n",
    "        ax.hist(avg_pulse, bins=20, color=\"grey\", density=True, label=\"pulse\")\n",
    "        ax.hist(avg_no_pulse, bins=20, color=\"k\", density=True, label=\"non-pulse\")\n",
    "        ax.hist(avg_no_pulse, bins=20, color=\"white\", density=True, label=\"non-pulse\", linewidth=0.5, edgecolor='black', hatch=\"--\", zorder=10)\n",
    "        ax.set_xlabel(\"average plasmid uptake\")\n",
    "        ax.set_ylabel(\"probability density\")\n",
    "        ax.set_xlim(left=0)\n",
    "        ax.legend()\n",
    "\n",
    "        # plt.show()\n",
    "        # plt.savefig(\"/Users/kdreyer/Desktop/200-cell_all_ts\" + str(index) + \".svg\")\n",
    "        # plt.savefig(\"/Users/kdreyer/Desktop/200_cell_histogram_\" + str(index) + \"_paper.svg\")"
   ]
  },
  {
   "cell_type": "markdown",
   "metadata": {},
   "source": [
    "### 200-cell avg(activator and reporter uptake) vs. repressor uptake"
   ]
  },
  {
   "cell_type": "code",
   "execution_count": null,
   "metadata": {},
   "outputs": [],
   "source": [
    "from pulse_generator_problem import PulseGenerator\n",
    "all_cell_200 = pd.read_pickle(\"/Users/kdreyer/Desktop/pulse_single_plasmid_uptake_200/200_cell_all_cell_results_df_opt.pkl\")\n",
    "all_cell_20 = pd.read_pickle(\"/Users/kdreyer/Desktop/pulse_single_plasmid_uptake_200/20_cell_all_cell_results_df_opt.pkl\")\n",
    "\n",
    "pulse_20 = PulseGenerator(promo_node=\"P1\", dose_specs=[5, 75, 5], max_part=2, inhibitor=True, \n",
    "                            DsRed_inhibitor=True, num_dict={}, n_gen=None, probability_crossover=None, \n",
    "                            probability_mutation=None, mutate_dose=True, pop=True, num_processes=8, \n",
    "                            max_time=126, single_cell_tracking=True)\n",
    "\n",
    "# display(all_cell_200)\n",
    "# display(Z_200_df)\n",
    "for index, row in all_cell_200.iterrows():\n",
    "    all_cell200_prom_list = row[\"single_cell_prominence\"]\n",
    "    all_cell200_peak_list = row[\"single_cell_peaks\"]\n",
    "\n",
    "    rep_rel_mean20 = all_cell_20.at[index, \"Rep_rel time series mean\"]\n",
    "\n",
    "    peak_rel_20 = pulse_20.calc_peak_rel(rep_rel_mean20)\n",
    "    prom_rel_20 = pulse_20.calc_prominence_rel(rep_rel_mean20, peak_rel_20)\n",
    "\n",
    "    rep_rel_mean200 = row[\"Rep_rel time series mean\"]\n",
    "\n",
    "    peak_rel_200 = pulse_20.calc_peak_rel(rep_rel_mean200)\n",
    "    prom_rel_200 = pulse_20.calc_prominence_rel(rep_rel_mean200, peak_rel_200)\n",
    "\n",
    "    avg_no_pulse = []\n",
    "    avg_pulse = []\n",
    "    other_plasmids_pulse = []\n",
    "    other_plasmids_no_pulse = []\n",
    "    peak_no_pulse = []\n",
    "    prom_rel_pulse = []\n",
    "    prom_rel_all = []\n",
    "    avg_list = []\n",
    "    inh_uptake_pulse = []\n",
    "    inh_uptake_no_pulse = []\n",
    "    zf_uptake_pulse = []\n",
    "    zf_uptake_no_pulse = []\n",
    "\n",
    "\n",
    "    if prom_rel_20 > 0 and prom_rel_200 == 0:\n",
    "        print(index)\n",
    "        if index in [17, 18, 24, 27, 34, 35]:\n",
    "            # print(row[\"Topology\"].dose)\n",
    "            # print(index, parts_dict)\n",
    "            inh_plasmid = 0\n",
    "            zf_plasmid = [1, 2] \n",
    "            other_plasmids = [1, 2, 3]\n",
    "        else:\n",
    "            inh_plasmid = 2\n",
    "            zf_plasmid = [0, 1]\n",
    "            other_plasmids = [0, 1, 3]\n",
    "\n",
    "        plt.figure(figsize=(2,2))\n",
    "        for cell in range(200):\n",
    "            uptake_list = Z_200_df.iloc[cell].tolist()[:-1]\n",
    "            cell_prom = all_cell200_prom_list[cell]\n",
    "            avg_uptake = np.mean(uptake_list)\n",
    "            inh_uptake = uptake_list[inh_plasmid]\n",
    "            zf_uptake = np.mean([uptake_list[zf_plasmid[0]], uptake_list[zf_plasmid[1]]])\n",
    "            other_plasmids_uptake = np.mean([uptake_list[i] for i in other_plasmids])\n",
    "            cell_prom = all_cell200_prom_list[cell]\n",
    "\n",
    "            if cell_prom == 0:\n",
    "                zf_uptake_no_pulse.append(zf_uptake)\n",
    "                inh_uptake_no_pulse.append(inh_uptake)\n",
    "                other_plasmids_no_pulse.append(other_plasmids_uptake)\n",
    "                avg_no_pulse.append(avg_uptake)\n",
    "                if all_cell200_peak_list[cell] > 150:\n",
    "                    print(all_cell200_peak_list[cell], inh_uptake, other_plasmids_uptake)\n",
    "\n",
    "            else:\n",
    "                zf_uptake_pulse.append(zf_uptake)\n",
    "                inh_uptake_pulse.append(inh_uptake)\n",
    "                avg_pulse.append(avg_uptake)\n",
    "                other_plasmids_pulse.append(other_plasmids_uptake)\n",
    "\n",
    "\n",
    "        # plt.figure(figsize=(2, 2))\n",
    "        fig, ax = plt.subplots(1, 1, figsize=(1.25, 1.25))\n",
    "        ax.plot([0, 5], [0, 5], linestyle=\"dashed\", color=\"k\", zorder=10)#, linewidth=\"0.5\")\n",
    "        ax.plot(zf_uptake_no_pulse, inh_uptake_no_pulse, linestyle=\"none\", marker=\"o\", color=\"k\", markersize=\"1\")\n",
    "        ax.plot(zf_uptake_pulse, inh_uptake_pulse, linestyle=\"none\", marker=\"o\", color=\"grey\", markersize=\"1\")\n",
    "        ax.set_xlabel(\"activator plasmid uptake\")\n",
    "        ax.set_xlim(0,5.1)\n",
    "        ax.set_ylim(0, 5)\n",
    "        ax.set_xticks([0, 1, 2, 3, 4, 5])\n",
    "        ax.set_ylabel(\"inhibitor uptake\")\n",
    "        # plt.legend()\n",
    "\n",
    "        # plt.show()\n",
    "        # plt.savefig(\"/Users/kdreyer/Desktop/200-cell_zfvsrepressor_plasmid_\" + str(index) + \"_paper.svg\", bbox_inches=\"tight\")\n",
    "        # plt.savefig(\"/Users/kdreyer/Desktop/20_cell_ts_\" + str(index) + \".svg\")"
   ]
  },
  {
   "cell_type": "markdown",
   "metadata": {},
   "source": [
    "### 20-cell frac_pulse pareto labeled"
   ]
  },
  {
   "cell_type": "code",
   "execution_count": 159,
   "metadata": {},
   "outputs": [],
   "source": [
    "def plot_pareto_labeled_frac_p(\n",
    "        results_path: str,\n",
    "):\n",
    "    labeled_CI_circuits = pd.read_csv(results_path+\"labeled_CI_circuits.csv\")\n",
    "    labled_CI_circuit_variants = pd.read_csv(results_path+\"labeled_CI_circuit_variants.csv\")\n",
    "    \n",
    "    # display(labeled_CI_circuits)\n",
    "    opt0 = labeled_CI_circuits[[\"opt_0_frac_pulse\", \"opt_0_t_pulse\", \"opt_0_prom_rel\"]]\n",
    "    opt1 = labeled_CI_circuits[[\"opt_1_frac_pulse\", \"opt_1_t_pulse\", \"opt_1_prom_rel\"]]\n",
    "    opt2 = labeled_CI_circuits[[\"opt_2_frac_pulse\", \"opt_2_t_pulse\", \"opt_2_prom_rel\"]]\n",
    "    # display(opt0[\"opt_0_prom_rel\"])\n",
    "\n",
    "    opt0_var = labled_CI_circuit_variants[[\"opt_0_var_frac_pulse\", \"opt_0_var_t_pulse\", \"opt_0_var_prom_rel\"]]\n",
    "    opt1_var = labled_CI_circuit_variants[[\"opt_1_var_frac_pulse\", \"opt_1_var_t_pulse\", \"opt_1_var_prom_rel\"]]\n",
    "    opt2_var = labled_CI_circuit_variants[[\"opt_2_var_frac_pulse\", \"opt_2_var_t_pulse\", \"opt_2_var_prom_rel\"]]\n",
    "    opt3_var = labled_CI_circuit_variants[[\"opt_3_var_frac_pulse\", \"opt_3_var_t_pulse\", \"opt_3_var_prom_rel\"]]\n",
    "\n",
    "    fig = plt.figure(figsize= (1.955, 1.955))\n",
    "    ax = fig.add_subplot(projection='3d')\n",
    "    ax.scatter(\n",
    "    xs=opt0[\"opt_0_frac_pulse\"], ys=opt0[\"opt_0_t_pulse\"],\n",
    "    zs=opt0[\"opt_0_prom_rel\"], color=colors_pulse_single[0],\n",
    "    s=5\n",
    "    )\n",
    "\n",
    "    ax.scatter(\n",
    "    xs=opt1[\"opt_1_frac_pulse\"], ys=opt1[\"opt_1_t_pulse\"],\n",
    "    zs=opt1[\"opt_1_prom_rel\"], color=colors_pulse_single[1],\n",
    "    s=5\n",
    "    )\n",
    "\n",
    "    ax.scatter(\n",
    "    xs=opt2[\"opt_2_frac_pulse\"], ys=opt2[\"opt_2_t_pulse\"],\n",
    "    zs=opt2[\"opt_2_prom_rel\"], color=colors_pulse_single[2],\n",
    "    s=5\n",
    "    )\n",
    "\n",
    "    ax.scatter(\n",
    "    xs=opt0_var[\"opt_0_var_frac_pulse\"], ys=opt0_var[\"opt_0_var_t_pulse\"],\n",
    "    zs=opt0_var[\"opt_0_var_prom_rel\"], color=colors_pulse_single[0],\n",
    "    s=5\n",
    "    )\n",
    "\n",
    "    ax.scatter(\n",
    "    xs=opt1_var[\"opt_1_var_frac_pulse\"], ys=opt1_var[\"opt_1_var_t_pulse\"],\n",
    "    zs=opt1_var[\"opt_1_var_prom_rel\"], color=colors_pulse_single[1],\n",
    "    s=5\n",
    "    )\n",
    "\n",
    "    ax.scatter(\n",
    "    xs=opt2_var[\"opt_2_var_frac_pulse\"], ys=opt2_var[\"opt_2_var_t_pulse\"],\n",
    "    zs=opt2_var[\"opt_2_var_prom_rel\"], color=colors_pulse_single[2],\n",
    "    s=5\n",
    "    )\n",
    "\n",
    "    ax.scatter(\n",
    "    xs=opt3_var[\"opt_3_var_frac_pulse\"], ys=opt3_var[\"opt_3_var_t_pulse\"],\n",
    "    zs=opt3_var[\"opt_3_var_prom_rel\"], color=colors_pulse_single[3],\n",
    "    s=5\n",
    "    )\n",
    "\n",
    "    ax.view_init(elev=10, azim=-115)\n",
    "    ax.set_xlabel(\"frac_pulse\")\n",
    "    ax.set_ylabel(\"t_pulse\")\n",
    "    ax.set_zlabel(\"prom_rel\")\n",
    "    ax.set_zticks([0, 50, 100, 150])\n",
    "\n",
    "    ax.set_ylim(bottom=0)\n",
    "    ax.set_xlim(left=0)\n",
    "    # ax.set_xlabel(\"\")\n",
    "    # plt.show()\n",
    "    plt.savefig(results_path+\"labeled_circuits_in_CI.svg\", bbox_inches=\"tight\")"
   ]
  },
  {
   "cell_type": "code",
   "execution_count": null,
   "metadata": {},
   "outputs": [],
   "source": [
    "path_pulse = \"/Users/kdreyer/Documents/Github/GraphGA/GA_results/Pulse_seed_pop_DsRED_inhibitor/frac_pulse/2024-10-13_Pulse_pop_DsRED_3obj_frac_pulse_ngen50_seed_0/\"\n",
    "plot_pareto_labeled_frac_p(path_pulse)"
   ]
  },
  {
   "cell_type": "markdown",
   "metadata": {},
   "source": [
    "### 200-cell frac_pulse pareto labeled"
   ]
  },
  {
   "cell_type": "code",
   "execution_count": 165,
   "metadata": {},
   "outputs": [],
   "source": [
    "def plot_pareto_labeled_frac_p(\n",
    "        results_path: str,\n",
    "):\n",
    "    labeled_CI_circuits = pd.read_csv(results_path+\"labeled_CI_circuits.csv\")\n",
    "    labled_CI_circuit_variants = pd.read_csv(results_path+\"labeled_CI_circuit_variants.csv\")\n",
    "    \n",
    "    # display(labeled_CI_circuits)\n",
    "    opt0 = labeled_CI_circuits[[\"opt_0_frac_pulse\", \"opt_0_t_pulse\", \"opt_0_prom_rel\"]]\n",
    "    opt1 = labeled_CI_circuits[[\"opt_1_frac_pulse\", \"opt_1_t_pulse\", \"opt_1_prom_rel\"]]\n",
    "    opt2 = labeled_CI_circuits[[\"opt_2_frac_pulse\", \"opt_2_t_pulse\", \"opt_2_prom_rel\"]]\n",
    "\n",
    "\n",
    "    # opt0_var = labled_CI_circuit_variants[[\"opt_0_var_frac_pulse\", \"opt_0_var_t_pulse\", \"opt_0_var_prom_rel\"]]\n",
    "    opt1_var = labled_CI_circuit_variants[[\"opt_1_var_frac_pulse\", \"opt_1_var_t_pulse\", \"opt_1_var_prom_rel\"]]\n",
    "    opt2_var = labled_CI_circuit_variants[[\"opt_2_var_frac_pulse\", \"opt_2_var_t_pulse\", \"opt_2_var_prom_rel\"]]\n",
    "    opt3_var = labled_CI_circuit_variants[[\"opt_3_var_frac_pulse\", \"opt_3_var_t_pulse\", \"opt_3_var_prom_rel\"]]\n",
    "\n",
    "    fig = plt.figure(figsize= (1.955, 1.955))\n",
    "    ax = fig.add_subplot(projection='3d')\n",
    "    ax.scatter(\n",
    "    xs=opt0[\"opt_0_frac_pulse\"], ys=opt0[\"opt_0_t_pulse\"],\n",
    "    zs=opt0[\"opt_0_prom_rel\"], color=colors_pulse_single[0],\n",
    "    s=5\n",
    "    )\n",
    "\n",
    "    ax.scatter(\n",
    "    xs=opt1[\"opt_1_frac_pulse\"], ys=opt1[\"opt_1_t_pulse\"],\n",
    "    zs=opt1[\"opt_1_prom_rel\"], color=colors_pulse_single[1],\n",
    "    s=5\n",
    "    )\n",
    "\n",
    "    ax.scatter(\n",
    "    xs=opt2[\"opt_2_frac_pulse\"], ys=opt2[\"opt_2_t_pulse\"],\n",
    "    zs=opt2[\"opt_2_prom_rel\"], color=colors_pulse_single[2],\n",
    "    s=5\n",
    "    )\n",
    "\n",
    "    # ax.scatter(\n",
    "    # xs=opt0_var[\"opt_0_var_frac_pulse\"], ys=opt0_var[\"opt_0_var_t_pulse\"],\n",
    "    # zs=opt0_var[\"opt_0_var_prom_rel\"], color=colors_pulse_single[0],\n",
    "    # s=5\n",
    "    # )\n",
    "\n",
    "    ax.scatter(\n",
    "    xs=opt1_var[\"opt_1_var_frac_pulse\"], ys=opt1_var[\"opt_1_var_t_pulse\"],\n",
    "    zs=opt1_var[\"opt_1_var_prom_rel\"], color=colors_pulse_single[1],\n",
    "    s=5\n",
    "    )\n",
    "\n",
    "    ax.scatter(\n",
    "    xs=opt2_var[\"opt_2_var_frac_pulse\"], ys=opt2_var[\"opt_2_var_t_pulse\"],\n",
    "    zs=opt2_var[\"opt_2_var_prom_rel\"], color=colors_pulse_single[2],\n",
    "    s=5\n",
    "    )\n",
    "\n",
    "    ax.scatter(\n",
    "    xs=opt3_var[\"opt_3_var_frac_pulse\"], ys=opt3_var[\"opt_3_var_t_pulse\"],\n",
    "    zs=opt3_var[\"opt_3_var_prom_rel\"], color=colors_pulse_single[3],\n",
    "    s=5\n",
    "    )\n",
    "\n",
    "    ax.view_init(elev=10, azim=-115)\n",
    "    ax.set_xlabel(\"frac_pulse\")\n",
    "    ax.set_ylabel(\"t_pulse\")\n",
    "    ax.set_zlabel(\"prom_rel\")\n",
    "    # ax.set_zticks([0, 50, 100, 150])\n",
    "\n",
    "    ax.set_ylim(bottom=0)\n",
    "    ax.set_xlim(left=0)\n",
    "    # ax.set_xlabel(\"\")\n",
    "    # plt.show()\n",
    "    plt.savefig(results_path+\"labeled_circuits_in_CI.svg\", bbox_inches=\"tight\")"
   ]
  },
  {
   "cell_type": "code",
   "execution_count": null,
   "metadata": {},
   "outputs": [],
   "source": [
    "path_pulse = \"/Users/kdreyer/Documents/Github/GraphGA/GA_results/Pulse_seed_pop_DsRED_inhibitor/frac_pulse/Pulse_pop_DsRED_inhibitor_3obj_frac_pulse_pop200_ngen100/2024-10-13_Pulse_pop_DsRED_inhibitor_3obj_frac_pulse_pop200_ngen100/2024-10-13_results_analysis/\"\n",
    "plot_pareto_labeled_frac_p(path_pulse)"
   ]
  },
  {
   "cell_type": "markdown",
   "metadata": {},
   "source": [
    "### 20 cell model ZF1 and 2 pareto comparion to all ZF GA"
   ]
  },
  {
   "cell_type": "code",
   "execution_count": 14,
   "metadata": {},
   "outputs": [],
   "source": [
    "def plot_pareto_labeled_frac_p(\n",
    "        results_path: str,\n",
    "        path_ZF1_2\n",
    "):\n",
    "    pareto_ZF1_2 = pd.read_pickle(path_ZF1_2+\"final_objectives_df.pkl\")\n",
    "    labeled_CI_circuits = pd.read_csv(results_path+\"labeled_CI_circuits.csv\")\n",
    "    labled_CI_circuit_variants = pd.read_csv(results_path+\"labeled_CI_circuit_variants.csv\")\n",
    "    \n",
    "    # display(labeled_CI_circuits)\n",
    "    opt0 = labeled_CI_circuits[[\"opt_0_frac_pulse\", \"opt_0_t_pulse\", \"opt_0_prom_rel\"]]\n",
    "    opt1 = labeled_CI_circuits[[\"opt_1_frac_pulse\", \"opt_1_t_pulse\", \"opt_1_prom_rel\"]]\n",
    "    opt2 = labeled_CI_circuits[[\"opt_2_frac_pulse\", \"opt_2_t_pulse\", \"opt_2_prom_rel\"]]\n",
    "    # display(opt0[\"opt_0_prom_rel\"])\n",
    "\n",
    "    opt0_var = labled_CI_circuit_variants[[\"opt_0_var_frac_pulse\", \"opt_0_var_t_pulse\", \"opt_0_var_prom_rel\"]]\n",
    "    opt1_var = labled_CI_circuit_variants[[\"opt_1_var_frac_pulse\", \"opt_1_var_t_pulse\", \"opt_1_var_prom_rel\"]]\n",
    "    opt2_var = labled_CI_circuit_variants[[\"opt_2_var_frac_pulse\", \"opt_2_var_t_pulse\", \"opt_2_var_prom_rel\"]]\n",
    "    opt3_var = labled_CI_circuit_variants[[\"opt_3_var_frac_pulse\", \"opt_3_var_t_pulse\", \"opt_3_var_prom_rel\"]]\n",
    "\n",
    "    fig = plt.figure(figsize= (1.955, 1.955))\n",
    "    # fig = plt.figure(figsize= (5, 5))\n",
    "    ax = fig.add_subplot(projection='3d')\n",
    "    ax.scatter(\n",
    "    xs=opt0[\"opt_0_frac_pulse\"], ys=opt0[\"opt_0_t_pulse\"],\n",
    "    zs=opt0[\"opt_0_prom_rel\"], color=colors_pulse_single[0],\n",
    "    s=5\n",
    "    )\n",
    "\n",
    "    ax.scatter(\n",
    "    xs=opt1[\"opt_1_frac_pulse\"], ys=opt1[\"opt_1_t_pulse\"],\n",
    "    zs=opt1[\"opt_1_prom_rel\"], color=colors_pulse_single[1],\n",
    "    s=5\n",
    "    )\n",
    "\n",
    "    ax.scatter(\n",
    "    xs=opt2[\"opt_2_frac_pulse\"], ys=opt2[\"opt_2_t_pulse\"],\n",
    "    zs=opt2[\"opt_2_prom_rel\"], color=colors_pulse_single[2],\n",
    "    s=5\n",
    "    )\n",
    "\n",
    "    ax.scatter(\n",
    "    xs=opt0_var[\"opt_0_var_frac_pulse\"], ys=opt0_var[\"opt_0_var_t_pulse\"],\n",
    "    zs=opt0_var[\"opt_0_var_prom_rel\"], color=colors_pulse_single[0],\n",
    "    s=5\n",
    "    )\n",
    "\n",
    "    ax.scatter(\n",
    "    xs=opt1_var[\"opt_1_var_frac_pulse\"], ys=opt1_var[\"opt_1_var_t_pulse\"],\n",
    "    zs=opt1_var[\"opt_1_var_prom_rel\"], color=colors_pulse_single[1],\n",
    "    s=5\n",
    "    )\n",
    "\n",
    "    ax.scatter(\n",
    "    xs=opt2_var[\"opt_2_var_frac_pulse\"], ys=opt2_var[\"opt_2_var_t_pulse\"],\n",
    "    zs=opt2_var[\"opt_2_var_prom_rel\"], color=colors_pulse_single[2],\n",
    "    s=5\n",
    "    )\n",
    "\n",
    "    ax.scatter(\n",
    "    xs=opt3_var[\"opt_3_var_frac_pulse\"], ys=opt3_var[\"opt_3_var_t_pulse\"],\n",
    "    zs=opt3_var[\"opt_3_var_prom_rel\"], color=colors_pulse_single[3],\n",
    "    s=5\n",
    "    )\n",
    "\n",
    "    ax.scatter(\n",
    "    xs=abs(pareto_ZF1_2[\"frac_pulse\"]), ys=abs(pareto_ZF1_2[\"t_pulse\"]),\n",
    "    zs=abs(pareto_ZF1_2[\"prominence_rel\"]), color=\"k\",\n",
    "    s=5, zorder=0\n",
    "    )\n",
    "\n",
    "    ax.view_init(elev=10, azim=-115)\n",
    "    ax.set_xlabel(\"frac_pulse\")\n",
    "    ax.set_ylabel(\"t_pulse\")\n",
    "    ax.set_zlabel(\"prom_rel\")\n",
    "    ax.set_zticks([0, 50, 100, 150])\n",
    "\n",
    "    ax.set_ylim(bottom=0)\n",
    "    ax.set_xlim(left=0)\n",
    "    # ax.set_xlabel(\"\")\n",
    "    # plt.show()\n",
    "    plt.savefig(results_path+\"labeled_circuits_pareto_ZF1_2.svg\", bbox_inches=\"tight\")"
   ]
  },
  {
   "cell_type": "markdown",
   "metadata": {},
   "source": [
    "### 20 cell model ZF1 and 2 only full GA search space"
   ]
  },
  {
   "cell_type": "code",
   "execution_count": null,
   "metadata": {},
   "outputs": [],
   "source": [
    "path_pulse = \"/Users/kdreyer/Documents/Github/GraphGA/GA_results/Pulse_seed_pop_DsRED_inhibitor/frac_pulse/2024-10-13_Pulse_pop_DsRED_3obj_frac_pulse_ngen50_seed_0/\"\n",
    "path_ZF1_2 = \"/Users/kdreyer/Documents/Github/GraphGA/GA_results/Pulse_seed_pop_DsRED_inhibitor/ZF1_ZF2_only/2024-10-13_Pulse_pop_DsRED_3obj_frac_pulse_Z1_Z2_ngen50_seed_0/\"\n",
    "obj_df = pd.read_pickle(path_ZF1_2+\"final_objectives_df.pkl\")\n",
    "# obj_arr = pd.read_pickle(path_ZF1_2+\"all_objectives.pkl\")\n",
    "# obj_df = pd.DataFrame(data=obj_arr, columns=[\"frac_pulse\", \"t_pulse\", \"prominence_rel\"])\n",
    "# display(obj_df)\n",
    "plot_pareto_front3D(path_ZF1_2+\"pareto_paper_labeled.svg\", obj_df, [\"frac_pulse\", \"t_pulse\", \"prominence_rel\"], types=False)"
   ]
  },
  {
   "cell_type": "code",
   "execution_count": null,
   "metadata": {},
   "outputs": [],
   "source": []
  }
 ],
 "metadata": {
  "kernelspec": {
   "display_name": "GCAD_GA",
   "language": "python",
   "name": "python3"
  },
  "language_info": {
   "codemirror_mode": {
    "name": "ipython",
    "version": 3
   },
   "file_extension": ".py",
   "mimetype": "text/x-python",
   "name": "python",
   "nbconvert_exporter": "python",
   "pygments_lexer": "ipython3",
   "version": "3.10.15"
  }
 },
 "nbformat": 4,
 "nbformat_minor": 2
}
