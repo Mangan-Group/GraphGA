{
 "cells": [
  {
   "cell_type": "code",
   "execution_count": 37,
   "metadata": {},
   "outputs": [],
   "source": [
    "import numpy as np\n",
    "import pickle\n",
    "import pandas as pd\n",
    "import seaborn as sns\n",
    "import matplotlib.pyplot as plt\n",
    "from plot_search_results import (\n",
    "    plot_hypervolumes_set,\n",
    "    plot_pareto_front,\n",
    "    plot_pareto_front3D,\n",
    "    plot_1D_obj_scatter,\n",
    "    plot_1D_obj_confidence_interval,\n",
    "    plot_2D_obj_confidence_interval,\n",
    "    plot_obj_progression_set\n",
    ")\n",
    "from run_seed_comparisons import run_seed_results_comparisons\n",
    "\n",
    "plt.style.use('/Users/kdreyer/Documents/Github/GraphGA/paper.mplstyle.py')\n",
    "orange_ = [i/255 for i in [230, 159, 0]]\n",
    "sky_blue = [i/255 for i in [86, 180, 233]]\n",
    "pink_ = [i/255 for i in [204, 121, 167]]\n",
    "bluish_green = [i/255 for i in [0, 158, 115]]\n",
    "vermillion = [i/255 for i in [213, 94, 0]]\n",
    "yellow_ = [i/255 for i in [240, 228, 66]]\n",
    "blue_ = [i/255 for i in [0, 114, 178]]\n",
    "colors = [orange_, sky_blue, pink_, bluish_green, vermillion, yellow_, blue_]\n",
    "\n",
    "grey_ = [(i/255) for i in [150, 150, 150]]\n",
    "# grey_2 = [(i/255) for i in [127, 127, 127]]\n",
    "grey_2 = [(i/255) for i in [100, 100, 100]]\n",
    "grey_3 = [(i/255) for i in [50, 50, 50]]\n",
    "\n"
   ]
  },
  {
   "cell_type": "markdown",
   "metadata": {},
   "source": [
    "## Figure 2: Amplifier"
   ]
  },
  {
   "cell_type": "markdown",
   "metadata": {},
   "source": [
    "### (b) Single cell model GA "
   ]
  },
  {
   "cell_type": "code",
   "execution_count": 2,
   "metadata": {},
   "outputs": [],
   "source": [
    "path_amplifier_single = \"/Users/kdreyer/Library/CloudStorage/OneDrive-NorthwesternUniversity/KatieD_LL/GCAD_Collab/Selected_GA_results_paper/Amplifier_single_cell/Original_hyperparams_vary_dose/\"\n",
    "results_runs_single = \"Amplifier_single_cell_vary_dose_original_hp_seed_\"\n",
    "# run_seed_results_comparisons(path_amplifier_single, results_runs_single, 1, [\"ON_rel\"], 50)"
   ]
  },
  {
   "cell_type": "markdown",
   "metadata": {},
   "source": [
    "### (c) Population model GA ON_rel progression"
   ]
  },
  {
   "cell_type": "code",
   "execution_count": 3,
   "metadata": {},
   "outputs": [],
   "source": [
    "path_amplifier_pop = \"/Users/kdreyer/Library/CloudStorage/OneDrive-NorthwesternUniversity/KatieD_LL/GCAD_Collab/Selected_GA_results_paper/Amplifier_pop/Original_hyperparams_vary_dose/\"\n",
    "results_runs_pop = \"Amplifier_pop_vary_dose_original_hp_seed_\"\n",
    "# run_seed_results_comparisons(path_amplifier_pop, results_runs_pop, 1, [\"ON_rel\"], 50)"
   ]
  },
  {
   "cell_type": "markdown",
   "metadata": {},
   "source": [
    "### (d) Population model GA search space and CI"
   ]
  },
  {
   "cell_type": "code",
   "execution_count": 53,
   "metadata": {},
   "outputs": [],
   "source": [
    "def plot_1D_CI_labeled(\n",
    "        results_path: str,\n",
    "        figure_path: str,\n",
    "):\n",
    "    labeled_CI_circuits = pd.read_csv(results_path+\"labeled_CI_circuits.csv\")\n",
    "    labled_CI_circuit_variants = pd.read_csv(results_path+\"labeled_CI_circuit_variants.csv\")\n",
    "    opt_objs = labeled_CI_circuits.drop(list(\n",
    "        labeled_CI_circuits.filter(regex=\"topology\")\n",
    "        ), axis=1)\n",
    "    opt_objs = opt_objs.drop(list(\n",
    "        labeled_CI_circuits.filter(regex=\"doses\")\n",
    "        ), axis=1)\n",
    "    opt_objs = opt_objs.drop(list(\n",
    "        labeled_CI_circuits.filter(regex=\"Unnamed: 0\")\n",
    "        ), axis=1)\n",
    "    # display(opt_objs)\n",
    "    # display(opt_circuits_df_nonan)\n",
    "    opt_variant_objs = labled_CI_circuit_variants.drop(list(\n",
    "        labled_CI_circuit_variants.filter(regex=\"topology\")\n",
    "        ), axis=1)\n",
    "    opt_variant_objs = opt_variant_objs.drop(list(\n",
    "        labled_CI_circuit_variants.filter(regex=\"doses\")\n",
    "        ), axis=1)\n",
    "    opt_variant_objs = opt_variant_objs.drop(list(\n",
    "        labled_CI_circuit_variants.filter(regex=\"Unnamed: 0\")\n",
    "        ), axis=1)\n",
    "    # display(opt_variant_objs)\n",
    "    opt_objs_T = opt_objs.transpose()\n",
    "    opt_objs_T[\"opt_topo\"] = opt_objs_T.index\n",
    "    # display(opt_objs_T)\n",
    "    opt_variant_objs_T = opt_variant_objs.transpose()\n",
    "    opt_variant_objs_T[\"opt_topo\"] = opt_variant_objs_T.index\n",
    "\n",
    "    opt_objs_plot = pd.melt(frame=opt_objs_T,\n",
    "                            id_vars=\"opt_topo\",\n",
    "                            var_name=\"column_name\",\n",
    "                            value_name=\"ON_rel\")\n",
    "    opt_objs_plot.dropna(inplace=True)\n",
    "    opt_variant_objs_plot = pd.melt(frame=opt_variant_objs_T,\n",
    "                            id_vars=\"opt_topo\",\n",
    "                            var_name=\"column_name\",\n",
    "                            value_name=\"ON_rel\")\n",
    "    opt_variant_objs_plot.dropna(inplace=True)\n",
    "    x_vals = [0]*len(opt_objs_plot)\n",
    "    # print(len(x_vals))\n",
    "    np.random.seed(0)\n",
    "    jittered_x = x_vals + np.random.rand(\n",
    "        len(x_vals))\n",
    "    opt_objs_plot[\"jittered_x\"] = jittered_x\n",
    "\n",
    "    x_vals_var = [0]*len(opt_variant_objs_plot)\n",
    "    jittered_x_var = x_vals_var + np.random.rand(\n",
    "        len(x_vals_var))\n",
    "    opt_variant_objs_plot[\"jittered_x\"] = jittered_x_var\n",
    "\n",
    "    fig, ax = plt.subplots(1, 1, figsize=(1.75, 1.5))\n",
    "    sns.scatterplot(data= opt_objs_plot, x=\"jittered_x\", y=\"ON_rel\", ax=ax, hue=\"opt_topo\", palette=colors, s=10, legend=False)\n",
    "    sns.scatterplot(data= opt_variant_objs_plot, x=\"jittered_x\", y=\"ON_rel\", ax=ax, hue=\"opt_topo\", palette=[colors[2], colors[5]], marker= \"X\", s=15, legend=False)\n",
    "    lower_bound = [63.11786016]*len(opt_objs_plot)\n",
    "    upper_bound = [63.50911412131601]*len(opt_objs_plot)\n",
    "    jittered_x.sort()\n",
    "    ax.fill_between(jittered_x, lower_bound, upper_bound, alpha=0.2, color=\"grey\", linewidth=0.1, zorder=3)\n",
    "    ax.set_xticks([])\n",
    "    ax.set_yticks([63.1, 63.2, 63.3, 63.4, 63.5])\n",
    "    ax.set_ylim(bottom=63.1)\n",
    "    ax.set_xlabel(\"\")\n",
    "    # plt.show()\n",
    "    plt.savefig(results_path+\"labeled_circuits_in_CI.svg\", bbox_inches=\"tight\")\n"
   ]
  },
  {
   "cell_type": "code",
   "execution_count": 54,
   "metadata": {},
   "outputs": [
    {
     "name": "stderr",
     "output_type": "stream",
     "text": [
      "/var/folders/ns/9zdlrc210px6q49986n73k1h0000gn/T/ipykernel_76452/2016931212.py:57: UserWarning: The palette list has more values (7) than needed (6), which may not be intended.\n",
      "  sns.scatterplot(data= opt_objs_plot, x=\"jittered_x\", y=\"ON_rel\", ax=ax, hue=\"opt_topo\", palette=colors, s=10, legend=False)\n"
     ]
    },
    {
     "data": {
      "image/png": "[encoded data removed]",
      "text/plain": [
       "<Figure size 175x150 with 1 Axes>"
      ]
     },
     "metadata": {},
     "output_type": "display_data"
    }
   ],
   "source": [
    "path = \"/Users/kdreyer/Library/CloudStorage/OneDrive-NorthwesternUniversity/KatieD_LL/GCAD_Collab/Selected_GA_results_paper/Amplifier_pop/Original_hyperparams_vary_dose/Amplifier_pop_vary_dose_original_hp_seed_0/\"\n",
    "results_analysis = \"2024-08-23_results_analysis_full_CI/\"\n",
    "\n",
    "plot_1D_CI_labeled(path+results_analysis, \"\")"
   ]
  },
  {
   "cell_type": "code",
   "execution_count": null,
   "metadata": {},
   "outputs": [],
   "source": [
    "# path_amp_pop_results = path_amplifier_pop + \"Amplifier_pop_vary_dose_original_hp_seed_0/\"\n",
    "# path_Z_sampling = \"2024-04-24_Amplifier_pop_vary_dose_Z_matrix_sampling/\"\n",
    "# Z_CI_fname= \"Z_matrix_sampling_for_CI.pkl\"\n",
    "# CI_Z_sampling = pd.read_pickle(path_amp_pop_results+path_Z_sampling+Z_CI_fname)\n",
    "# # display(CI_Z_sampling)\n",
    "# ON_rel_max = 63.50911412131601\n",
    "# CI_stderr = max(CI_Z_sampling[\"ON_rel_std_error\"])\n",
    "# CI_plus = 63.50911412131601 + CI_stderr\n",
    "# CI_minus = 63.50911412131601 - CI_stderr\n",
    "# CI_range = CI_plus - CI_minus\n",
    "# print(CI_plus, CI_minus)\n",
    "\n",
    "# plot_1D_obj_confidence_interval(path_amp_pop_results, path_amp_pop_results+path_Z_sampling+\"CI_zoomed_paper.svg\", CI_stderr, [\"ON_rel\"])#, y_lim_bottom=0.0)"
   ]
  },
  {
   "cell_type": "code",
   "execution_count": null,
   "metadata": {},
   "outputs": [],
   "source": []
  },
  {
   "cell_type": "markdown",
   "metadata": {},
   "source": [
    "### (f) experimental data"
   ]
  },
  {
   "cell_type": "code",
   "execution_count": 30,
   "metadata": {},
   "outputs": [],
   "source": [
    "x_labels = [1, 2, 3, 4]\n",
    "ON_rel_design = [62.706, 63.304, 36.275, 35.727]\n",
    "ON_rel_test = [18.263, 18.475, 10.604, 10.523]\n",
    "ON_rel_exp = [2.943, 2.456, 7.522, 6.928]\n",
    "ON_rel_exp_stderr = [0.459, 0.383, 1.182, 1.301]"
   ]
  },
  {
   "cell_type": "code",
   "execution_count": 40,
   "metadata": {},
   "outputs": [
    {
     "data": {
      "image/png": "[encoded data removed]",
      "text/plain": [
       "<Figure size 225x175 with 1 Axes>"
      ]
     },
     "metadata": {},
     "output_type": "display_data"
    }
   ],
   "source": [
    "experimental_data_path = \"/Users/kdreyer/Library/CloudStorage/OneDrive-NorthwesternUniversity/KatieD_LL/GCAD_Collab/Experimental_data_&_planning/\"\n",
    "fig, ax = plt.subplots(1, 1, figsize=(2.25, 1.75), sharex=True, sharey=True)\n",
    "xticks = []\n",
    "for i in range(len(ON_rel_design)):\n",
    "    ax.bar(i-0.25, ON_rel_design[i], color=grey_, width=0.225, align=\"center\", label=\"design\")\n",
    "    ax.bar(i, ON_rel_test[i], color=grey_2, width=0.225, align=\"center\", label=\"test\")\n",
    "    ax.bar(i+0.25, ON_rel_exp[i], color=grey_3, width=0.225, align=\"center\", label=\"exp\")\n",
    "    (_, caps1, _) = ax.errorbar(i+0.25, ON_rel_exp[i], ON_rel_exp_stderr[i], color=\"k\", capsize=1.5, elinewidth=0.5)\n",
    "    for cap in caps1:\n",
    "        cap.set_markeredgewidth(0.5)\n",
    "\n",
    "    xticks.append(i)\n",
    "ax.set_xticks(xticks)\n",
    "ax.set_xticklabels([\"1\", \"2\", \"3\", \"4\"])\n",
    "ax.set_xlabel(\"Amplifier topology\")\n",
    "ax.set_ylabel(\"ON_rel\")\n",
    "# plt.legend()\n",
    "# plt.show()\n",
    "# plt.savefig(experimental_data_path+\"amplifier_experiment.svg\")"
   ]
  },
  {
   "cell_type": "code",
   "execution_count": null,
   "metadata": {},
   "outputs": [],
   "source": []
  }
 ],
 "metadata": {
  "kernelspec": {
   "display_name": "GCAD_GA",
   "language": "python",
   "name": "python3"
  },
  "language_info": {
   "codemirror_mode": {
    "name": "ipython",
    "version": 3
   },
   "file_extension": ".py",
   "mimetype": "text/x-python",
   "name": "python",
   "nbconvert_exporter": "python",
   "pygments_lexer": "ipython3",
   "version": "3.10.15"
  }
 },
 "nbformat": 4,
 "nbformat_minor": 2
}
