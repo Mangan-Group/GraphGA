{
 "cells": [
  {
   "cell_type": "code",
   "execution_count": 1,
   "metadata": {},
   "outputs": [],
   "source": [
    "import numpy as np\n",
    "import pickle\n",
    "import pandas as pd\n",
    "import seaborn as sns\n",
    "import matplotlib.pyplot as plt\n",
    "from plot_search_results import (\n",
    "    plot_hypervolumes_set,\n",
    "    plot_pareto_front,\n",
    "    plot_pareto_front3D,\n",
    "    plot_1D_obj_scatter,\n",
    "    plot_1D_obj_confidence_interval,\n",
    "    plot_2D_obj_confidence_interval,\n",
    "    plot_obj_progression_set\n",
    ")\n",
    "from run_seed_comparisons import run_seed_results_comparisons\n",
    "\n",
    "plt.style.use('/Users/kdreyer/Documents/Github/GraphGA/paper.mplstyle.py')\n",
    "orange_ = [i/255 for i in [230, 159, 0]]\n",
    "sky_blue = [i/255 for i in [86, 180, 233]]\n",
    "pink_ = [i/255 for i in [204, 121, 167]]\n",
    "bluish_green = [i/255 for i in [0, 158, 115]]\n",
    "vermillion = [i/255 for i in [213, 94, 0]]\n",
    "yellow_ = [i/255 for i in [240, 228, 66]]\n",
    "blue_ = [i/255 for i in [0, 114, 178]]\n",
    "colors = [orange_, sky_blue, pink_, bluish_green, vermillion, yellow_, blue_]\n",
    "\n",
    "grey_ = [(i/255) for i in [150, 150, 150]]\n",
    "# grey_2 = [(i/255) for i in [127, 127, 127]]\n",
    "grey_2 = [(i/255) for i in [100, 100, 100]]\n",
    "grey_3 = [(i/255) for i in [50, 50, 50]]\n",
    "\n"
   ]
  },
  {
   "cell_type": "markdown",
   "metadata": {},
   "source": [
    "## Figure 2: Amplifier"
   ]
  },
  {
   "cell_type": "markdown",
   "metadata": {},
   "source": [
    "### (b) Single cell model GA ON_rel progression "
   ]
  },
  {
   "cell_type": "code",
   "execution_count": 2,
   "metadata": {},
   "outputs": [],
   "source": [
    "path_amplifier_single = \"/Users/kdreyer/Library/CloudStorage/OneDrive-NorthwesternUniversity/KatieD_LL/GCAD_Collab/Selected_GA_results_paper/Amplifier_single_cell/Original_hyperparams_vary_dose/\"\n",
    "results_runs_single = \"Amplifier_single_cell_vary_dose_original_hp_seed_\"\n",
    "# run_seed_results_comparisons(path_amplifier_single, results_runs_single, 1, [\"ON_rel\"], 50)"
   ]
  },
  {
   "cell_type": "markdown",
   "metadata": {},
   "source": [
    "### (c) Population model GA ON_rel progression"
   ]
  },
  {
   "cell_type": "code",
   "execution_count": 3,
   "metadata": {},
   "outputs": [],
   "source": [
    "path_amplifier_pop = \"/Users/kdreyer/Library/CloudStorage/OneDrive-NorthwesternUniversity/KatieD_LL/GCAD_Collab/Selected_GA_results_paper/Amplifier_pop/Original_hyperparams_vary_dose/\"\n",
    "results_runs_pop = \"Amplifier_pop_vary_dose_original_hp_seed_\"\n",
    "# run_seed_results_comparisons(path_amplifier_pop, results_runs_pop, 1, [\"ON_rel\"], 50)"
   ]
  },
  {
   "cell_type": "markdown",
   "metadata": {},
   "source": [
    "### (d) Population model GA search space and CI"
   ]
  },
  {
   "cell_type": "code",
   "execution_count": 53,
   "metadata": {},
   "outputs": [],
   "source": [
    "def plot_1D_CI_labeled(\n",
    "        results_path: str,\n",
    "        figure_path: str,\n",
    "):\n",
    "    labeled_CI_circuits = pd.read_csv(results_path+\"labeled_CI_circuits.csv\")\n",
    "    labled_CI_circuit_variants = pd.read_csv(results_path+\"labeled_CI_circuit_variants.csv\")\n",
    "    opt_objs = labeled_CI_circuits.drop(list(\n",
    "        labeled_CI_circuits.filter(regex=\"topology\")\n",
    "        ), axis=1)\n",
    "    opt_objs = opt_objs.drop(list(\n",
    "        labeled_CI_circuits.filter(regex=\"doses\")\n",
    "        ), axis=1)\n",
    "    opt_objs = opt_objs.drop(list(\n",
    "        labeled_CI_circuits.filter(regex=\"Unnamed: 0\")\n",
    "        ), axis=1)\n",
    "    # display(opt_objs)\n",
    "    # display(opt_circuits_df_nonan)\n",
    "    opt_variant_objs = labled_CI_circuit_variants.drop(list(\n",
    "        labled_CI_circuit_variants.filter(regex=\"topology\")\n",
    "        ), axis=1)\n",
    "    opt_variant_objs = opt_variant_objs.drop(list(\n",
    "        labled_CI_circuit_variants.filter(regex=\"doses\")\n",
    "        ), axis=1)\n",
    "    opt_variant_objs = opt_variant_objs.drop(list(\n",
    "        labled_CI_circuit_variants.filter(regex=\"Unnamed: 0\")\n",
    "        ), axis=1)\n",
    "    # display(opt_variant_objs)\n",
    "    opt_objs_T = opt_objs.transpose()\n",
    "    opt_objs_T[\"opt_topo\"] = opt_objs_T.index\n",
    "    # display(opt_objs_T)\n",
    "    opt_variant_objs_T = opt_variant_objs.transpose()\n",
    "    opt_variant_objs_T[\"opt_topo\"] = opt_variant_objs_T.index\n",
    "\n",
    "    opt_objs_plot = pd.melt(frame=opt_objs_T,\n",
    "                            id_vars=\"opt_topo\",\n",
    "                            var_name=\"column_name\",\n",
    "                            value_name=\"ON_rel\")\n",
    "    opt_objs_plot.dropna(inplace=True)\n",
    "    opt_variant_objs_plot = pd.melt(frame=opt_variant_objs_T,\n",
    "                            id_vars=\"opt_topo\",\n",
    "                            var_name=\"column_name\",\n",
    "                            value_name=\"ON_rel\")\n",
    "    opt_variant_objs_plot.dropna(inplace=True)\n",
    "    x_vals = [0]*len(opt_objs_plot)\n",
    "    # print(len(x_vals))\n",
    "    np.random.seed(0)\n",
    "    jittered_x = x_vals + np.random.rand(\n",
    "        len(x_vals))\n",
    "    opt_objs_plot[\"jittered_x\"] = jittered_x\n",
    "\n",
    "    x_vals_var = [0]*len(opt_variant_objs_plot)\n",
    "    jittered_x_var = x_vals_var + np.random.rand(\n",
    "        len(x_vals_var))\n",
    "    opt_variant_objs_plot[\"jittered_x\"] = jittered_x_var\n",
    "\n",
    "    fig, ax = plt.subplots(1, 1, figsize=(1.75, 1.5))\n",
    "    sns.scatterplot(data= opt_objs_plot, x=\"jittered_x\", y=\"ON_rel\", ax=ax, hue=\"opt_topo\", palette=colors, s=10, legend=False)\n",
    "    sns.scatterplot(data= opt_variant_objs_plot, x=\"jittered_x\", y=\"ON_rel\", ax=ax, hue=\"opt_topo\", palette=[colors[2], colors[5]], marker= \"X\", s=15, legend=False)\n",
    "    lower_bound = [63.11786016]*len(opt_objs_plot)\n",
    "    upper_bound = [63.50911412131601]*len(opt_objs_plot)\n",
    "    jittered_x.sort()\n",
    "    ax.fill_between(jittered_x, lower_bound, upper_bound, alpha=0.2, color=\"grey\", linewidth=0.1, zorder=3)\n",
    "    ax.set_xticks([])\n",
    "    ax.set_yticks([63.1, 63.2, 63.3, 63.4, 63.5])\n",
    "    ax.set_ylim(bottom=63.1)\n",
    "    ax.set_xlabel(\"\")\n",
    "    # plt.show()\n",
    "    plt.savefig(results_path+\"labeled_circuits_in_CI.svg\", bbox_inches=\"tight\")\n"
   ]
  },
  {
   "cell_type": "code",
   "execution_count": null,
   "metadata": {},
   "outputs": [],
   "source": [
    "path = \"/Users/kdreyer/Library/CloudStorage/OneDrive-NorthwesternUniversity/KatieD_LL/GCAD_Collab/Selected_GA_results_paper/Amplifier_pop/Original_hyperparams_vary_dose/Amplifier_pop_vary_dose_original_hp_seed_0/\"\n",
    "results_analysis = \"2024-08-23_results_analysis_full_CI/\"\n",
    "\n",
    "plot_1D_CI_labeled(path+results_analysis, \"\")"
   ]
  },
  {
   "cell_type": "code",
   "execution_count": null,
   "metadata": {},
   "outputs": [],
   "source": [
    "# path_amp_pop_results = path_amplifier_pop + \"Amplifier_pop_vary_dose_original_hp_seed_0/\"\n",
    "# path_Z_sampling = \"2024-04-24_Amplifier_pop_vary_dose_Z_matrix_sampling/\"\n",
    "# Z_CI_fname= \"Z_matrix_sampling_for_CI.pkl\"\n",
    "# CI_Z_sampling = pd.read_pickle(path_amp_pop_results+path_Z_sampling+Z_CI_fname)\n",
    "# # display(CI_Z_sampling)\n",
    "# ON_rel_max = 63.50911412131601\n",
    "# CI_stderr = max(CI_Z_sampling[\"ON_rel_std_error\"])\n",
    "# CI_plus = 63.50911412131601 + CI_stderr\n",
    "# CI_minus = 63.50911412131601 - CI_stderr\n",
    "# CI_range = CI_plus - CI_minus\n",
    "# print(CI_plus, CI_minus)\n",
    "\n",
    "# plot_1D_obj_confidence_interval(path_amp_pop_results, path_amp_pop_results+path_Z_sampling+\"CI_zoomed_paper.svg\", CI_stderr, [\"ON_rel\"])#, y_lim_bottom=0.0)"
   ]
  },
  {
   "cell_type": "code",
   "execution_count": null,
   "metadata": {},
   "outputs": [],
   "source": []
  },
  {
   "cell_type": "markdown",
   "metadata": {},
   "source": [
    "### (f) experimental data"
   ]
  },
  {
   "cell_type": "code",
   "execution_count": 30,
   "metadata": {},
   "outputs": [],
   "source": [
    "x_labels = [1, 2, 3, 4]\n",
    "ON_rel_design = [62.706, 63.304, 36.275, 35.727]\n",
    "ON_rel_test = [18.263, 18.475, 10.604, 10.523]\n",
    "ON_rel_exp = [2.943, 2.456, 7.522, 6.928]\n",
    "ON_rel_exp_stderr = [0.459, 0.383, 1.182, 1.301]"
   ]
  },
  {
   "cell_type": "code",
   "execution_count": null,
   "metadata": {},
   "outputs": [],
   "source": [
    "experimental_data_path = \"/Users/kdreyer/Library/CloudStorage/OneDrive-NorthwesternUniversity/KatieD_LL/GCAD_Collab/Experimental_data_&_planning/\"\n",
    "fig, ax = plt.subplots(1, 1, figsize=(2.25, 1.75), sharex=True, sharey=True)\n",
    "xticks = []\n",
    "for i in range(len(ON_rel_design)):\n",
    "    ax.bar(i-0.25, ON_rel_design[i], color=grey_, width=0.225, align=\"center\", label=\"design\")\n",
    "    ax.bar(i, ON_rel_test[i], color=grey_2, width=0.225, align=\"center\", label=\"test\")\n",
    "    ax.bar(i+0.25, ON_rel_exp[i], color=grey_3, width=0.225, align=\"center\", label=\"exp\")\n",
    "    (_, caps1, _) = ax.errorbar(i+0.25, ON_rel_exp[i], ON_rel_exp_stderr[i], color=\"k\", capsize=1.5, elinewidth=0.5)\n",
    "    for cap in caps1:\n",
    "        cap.set_markeredgewidth(0.5)\n",
    "\n",
    "    xticks.append(i)\n",
    "ax.set_xticks(xticks)\n",
    "ax.set_xticklabels([\"1\", \"2\", \"3\", \"4\"])\n",
    "ax.set_xlabel(\"Amplifier topology\")\n",
    "ax.set_ylabel(\"ON_rel\")\n",
    "# plt.legend()\n",
    "# plt.show()\n",
    "# plt.savefig(experimental_data_path+\"amplifier_experiment.svg\")"
   ]
  },
  {
   "cell_type": "markdown",
   "metadata": {},
   "source": [
    "## Figure 3: Signal conditioner"
   ]
  },
  {
   "cell_type": "markdown",
   "metadata": {},
   "source": [
    "### (b) original hyperparameter pareto front"
   ]
  },
  {
   "cell_type": "code",
   "execution_count": null,
   "metadata": {},
   "outputs": [],
   "source": [
    "path_sigcond_single = \"/Users/kdreyer/Library/CloudStorage/OneDrive-NorthwesternUniversity/KatieD_LL/GCAD_Collab/Selected_GA_results_paper/Signal_conditioner_single_cell/synTF-R-DsR/Original_hyperparams/run4_ngen120/\"\n",
    "selected_seed_single = \"2024-10-04_Signal_cond_single_DsRED_original_hps_ngen120_seed_5/\"\n",
    "pareto_obj_df = pd.read_pickle(path_sigcond_single+selected_seed_single+\"final_objectives_df.pkl\")\n",
    "# plot_pareto_front(path_sigcond_single+selected_seed_single+\"pareto_front_paper.svg\", pareto_obj_df, [\"ON_rel\", \"FI_rel\"], False)"
   ]
  },
  {
   "cell_type": "markdown",
   "metadata": {},
   "source": [
    "### (b) original hyperparameter hypervolume set"
   ]
  },
  {
   "cell_type": "code",
   "execution_count": null,
   "metadata": {},
   "outputs": [],
   "source": [
    "path_sigcond_single = \"/Users/kdreyer/Library/CloudStorage/OneDrive-NorthwesternUniversity/KatieD_LL/GCAD_Collab/Selected_GA_results_paper/Signal_conditioner_single_cell/synTF-R-DsR/Original_hyperparams/run4_ngen120/\"\n",
    "results_runs_single = \"2024-10-04_Signal_cond_single_DsRED_original_hps_ngen120_seed_\"\n",
    "# run_seed_results_comparisons(path_sigcond_single, results_runs_single, 2, [\"ON_rel\", \"FI_rel\"], 120, 5)"
   ]
  },
  {
   "cell_type": "markdown",
   "metadata": {},
   "source": [
    "### (d) optimized hyperparameter pareto front"
   ]
  },
  {
   "cell_type": "code",
   "execution_count": null,
   "metadata": {},
   "outputs": [],
   "source": [
    "path_sigcond_single_opt = \"/Users/kdreyer/Library/CloudStorage/OneDrive-NorthwesternUniversity/KatieD_LL/GCAD_Collab/Selected_GA_results_paper/Signal_conditioner_single_cell/synTF-R-DsR/Optimized_hyperparams_fixed_pop_max_hv/run4_ngen120/\"\n",
    "selected_seed_single_opt = \"2024-10-04_Signal_cond_single_DsRED_opt_hps_run4_seed_3/\"\n",
    "pareto_obj_df = pd.read_pickle(path_sigcond_single_opt+selected_seed_single_opt+\"final_objectives_df.pkl\")\n",
    "# plot_pareto_front(path_sigcond_single_opt+selected_seed_single_opt+\"pareto_front_paper.svg\", pareto_obj_df, [\"ON_rel\", \"FI_rel\"], False)"
   ]
  },
  {
   "cell_type": "markdown",
   "metadata": {},
   "source": [
    "### (d) optimized hyperparameter hypervolume set"
   ]
  },
  {
   "cell_type": "code",
   "execution_count": null,
   "metadata": {},
   "outputs": [],
   "source": [
    "path_sigcond_single_opt = \"/Users/kdreyer/Library/CloudStorage/OneDrive-NorthwesternUniversity/KatieD_LL/GCAD_Collab/Selected_GA_results_paper/Signal_conditioner_single_cell/synTF-R-DsR/Optimized_hyperparams_fixed_pop_max_hv/run4_ngen120/\"\n",
    "results_runs_single_opt = \"2024-10-04_Signal_cond_single_DsRED_opt_hps_run4_seed_\"\n",
    "# run_seed_results_comparisons(path_sigcond_single_opt, results_runs_single_opt, 2, [\"ON_rel\", \"FI_rel\"], 120, 3)"
   ]
  },
  {
   "cell_type": "markdown",
   "metadata": {},
   "source": [
    "## Supplementary Figure XX: signal conditioner population model"
   ]
  },
  {
   "cell_type": "markdown",
   "metadata": {},
   "source": [
    "### (a) single cell opt params pareto front"
   ]
  },
  {
   "cell_type": "code",
   "execution_count": null,
   "metadata": {},
   "outputs": [],
   "source": [
    "path_sigcond_pop_opt = \"/Users/kdreyer/Library/CloudStorage/OneDrive-NorthwesternUniversity/KatieD_LL/GCAD_Collab/Selected_GA_results_paper/Signal_conditioner_pop/synTF-R-DsR/Single_cell_model_opt_hyperparams_max_hv/run5_ngen130/\"\n",
    "selected_seed_pop_opt = \"2024-10-04_Signal_cond_pop_DsRED_single_opt_hp_run5_seed_2/\"\n",
    "pareto_obj_df = pd.read_pickle(path_sigcond_pop_opt+selected_seed_pop_opt+\"final_objectives_df.pkl\")\n",
    "# plot_pareto_front(path_sigcond_pop_opt+selected_seed_pop_opt+\"pareto_front_paper.svg\", pareto_obj_df, [\"ON_rel\", \"FI_rel\"], False)"
   ]
  },
  {
   "cell_type": "markdown",
   "metadata": {},
   "source": [
    "### (b) single cell opt params hypervolume set"
   ]
  },
  {
   "cell_type": "code",
   "execution_count": null,
   "metadata": {},
   "outputs": [],
   "source": [
    "path_sigcond_pop_opt = \"/Users/kdreyer/Library/CloudStorage/OneDrive-NorthwesternUniversity/KatieD_LL/GCAD_Collab/Selected_GA_results_paper/Signal_conditioner_pop/synTF-R-DsR/Single_cell_model_opt_hyperparams_max_hv/run5_ngen130/\"\n",
    "results_runs_pop_opt = \"2024-10-04_Signal_cond_pop_DsRED_single_opt_hp_run5_seed_\"\n",
    "# run_seed_results_comparisons(path_sigcond_pop_opt, results_runs_pop_opt, 2, [\"ON_rel\", \"FI_rel\"], 130, 2)"
   ]
  },
  {
   "cell_type": "markdown",
   "metadata": {},
   "source": [
    "## Figure 4 Pulse generator"
   ]
  },
  {
   "cell_type": "markdown",
   "metadata": {},
   "source": [
    "### (b) optimized hyperparameter pareto front"
   ]
  },
  {
   "cell_type": "code",
   "execution_count": null,
   "metadata": {},
   "outputs": [],
   "source": [
    "path_pulse_single_opt = \"/Users/kdreyer/Library/CloudStorage/OneDrive-NorthwesternUniversity/KatieD_LL/GCAD_Collab/Selected_GA_results_paper/Pulse_single_cell/Optimized_hyperparams/t_pulse/Optimized_hyperparams_fixed_pop_max_hv/\"\n",
    "selected_seed_single_opt = \"2024-10-09_Pulse_single_DsRED_t_pulse_opt_hps_ngen80_seed_/\"\n",
    "pareto_obj_df = pd.read_pickle(path_sigcond_single_opt+selected_seed_single_opt+\"final_objectives_df.pkl\")\n",
    "# plot_pareto_front(path_sigcond_single_opt+selected_seed_single_opt+\"pareto_front_paper.svg\", pareto_obj_df, [\"ON_rel\", \"FI_rel\"], False)"
   ]
  },
  {
   "cell_type": "markdown",
   "metadata": {},
   "source": [
    "### (b) optimized hyperparameter hypervolume set"
   ]
  },
  {
   "cell_type": "code",
   "execution_count": null,
   "metadata": {},
   "outputs": [
    {
     "ename": "FileNotFoundError",
     "evalue": "[Errno 2] No such file or directory: '2024-10-09_Pulse_single_DsRED_t_pulse_opt_hps_ngen80_seed_0/final_population.pkl'",
     "output_type": "error",
     "traceback": [
      "\u001b[0;31m---------------------------------------------------------------------------\u001b[0m",
      "\u001b[0;31mFileNotFoundError\u001b[0m                         Traceback (most recent call last)",
      "Cell \u001b[0;32mIn[4], line 3\u001b[0m\n\u001b[1;32m      1\u001b[0m path_pulse_single_opt \u001b[38;5;241m=\u001b[39m \u001b[38;5;124m\"\u001b[39m\u001b[38;5;124m/Users/kdreyer/Library/CloudStorage/OneDrive-NorthwesternUniversity/KatieD_LL/GCAD_Collab/Selected_GA_results_paper/Pulse_single_cell/Optimized_hyperparams/t_pulse/Optimized_hyperparams_fixed_pop_max_hv/\u001b[39m\u001b[38;5;124m\"\u001b[39m\n\u001b[1;32m      2\u001b[0m results_runs_single_opt \u001b[38;5;241m=\u001b[39m \u001b[38;5;124m\"\u001b[39m\u001b[38;5;124m2024-10-09_Pulse_single_DsRED_t_pulse_opt_hps_ngen80_seed_\u001b[39m\u001b[38;5;124m\"\u001b[39m\n\u001b[0;32m----> 3\u001b[0m \u001b[43mrun_seed_results_comparisons\u001b[49m\u001b[43m(\u001b[49m\u001b[38;5;124;43m\"\u001b[39;49m\u001b[38;5;124;43m\"\u001b[39;49m\u001b[43m,\u001b[49m\u001b[43m \u001b[49m\u001b[43mresults_runs_single_opt\u001b[49m\u001b[43m,\u001b[49m\u001b[43m \u001b[49m\u001b[38;5;241;43m2\u001b[39;49m\u001b[43m,\u001b[49m\u001b[43m \u001b[49m\u001b[43m[\u001b[49m\u001b[38;5;124;43m\"\u001b[39;49m\u001b[38;5;124;43mt_pulse\u001b[39;49m\u001b[38;5;124;43m\"\u001b[39;49m\u001b[43m,\u001b[49m\u001b[43m \u001b[49m\u001b[38;5;124;43m\"\u001b[39;49m\u001b[38;5;124;43mprominence_rel\u001b[39;49m\u001b[38;5;124;43m\"\u001b[39;49m\u001b[43m]\u001b[49m\u001b[43m,\u001b[49m\u001b[43m \u001b[49m\u001b[38;5;241;43m80\u001b[39;49m\u001b[43m,\u001b[49m\u001b[43m \u001b[49m\u001b[38;5;241;43m3\u001b[39;49m\u001b[43m)\u001b[49m\n",
      "File \u001b[0;32m~/Documents/Github/GraphGA/run_seed_comparisons.py:42\u001b[0m, in \u001b[0;36mrun_seed_results_comparisons\u001b[0;34m(results_path, seed_folder, num_obj, obj_labels, ngens, selected_seed)\u001b[0m\n\u001b[1;32m     29\u001b[0m     plot_obj_progression_set(figure_path_zoomed, ngens, \n\u001b[1;32m     30\u001b[0m                             objs_list, obj_labels[\u001b[38;5;241m0\u001b[39m],\n\u001b[1;32m     31\u001b[0m                             selected_seed, \n\u001b[1;32m     32\u001b[0m                             opt_obj\u001b[38;5;241m=\u001b[39m\u001b[38;5;28mmax\u001b[39m(objs_list[\u001b[38;5;241m0\u001b[39m])\n\u001b[1;32m     33\u001b[0m     )\n\u001b[1;32m     35\u001b[0m \u001b[38;5;28;01melse\u001b[39;00m:\n\u001b[1;32m     36\u001b[0m     (seed_unique_edge_combo_list, \n\u001b[1;32m     37\u001b[0m     seed_unique_circuits_list,\n\u001b[1;32m     38\u001b[0m     common_edge_combo_list, common_circuits, \n\u001b[1;32m     39\u001b[0m     edge_combos_unique_to_seed_list, \n\u001b[1;32m     40\u001b[0m     circuits_unique_to_seed_list,\n\u001b[1;32m     41\u001b[0m     dose_varied_common_edge_combo_list, \n\u001b[0;32m---> 42\u001b[0m     dose_varied_common_circuits) \u001b[38;5;241m=\u001b[39m \u001b[43mcompare_pareto_circuits_across_seeds\u001b[49m\u001b[43m(\u001b[49m\n\u001b[1;32m     43\u001b[0m \u001b[43m        \u001b[49m\u001b[43mresults_path\u001b[49m\u001b[43m,\u001b[49m\u001b[43m \u001b[49m\u001b[43mseed_folder\u001b[49m\u001b[43m,\u001b[49m\u001b[43m \u001b[49m\u001b[43mselected_seed\u001b[49m\n\u001b[1;32m     44\u001b[0m \u001b[43m    \u001b[49m\u001b[43m)\u001b[49m\n\u001b[1;32m     46\u001b[0m     compare_parteo_fronts(results_path, seed_folder,\n\u001b[1;32m     47\u001b[0m                           num_obj, obj_labels)\n\u001b[1;32m     49\u001b[0m     compile_common_results(results_path, common_edge_combo_list, \n\u001b[1;32m     50\u001b[0m                         common_circuits,\n\u001b[1;32m     51\u001b[0m                         dose_varied_common_edge_combo_list,\n\u001b[1;32m     52\u001b[0m                         dose_varied_common_circuits\n\u001b[1;32m     53\u001b[0m     )\n",
      "File \u001b[0;32m~/Documents/Github/GraphGA/get_comparisons_across_seeds.py:197\u001b[0m, in \u001b[0;36mcompare_pareto_circuits_across_seeds\u001b[0;34m(results_path, seed_folder, selected_seed)\u001b[0m\n\u001b[1;32m    194\u001b[0m \u001b[38;5;28;01mdef\u001b[39;00m \u001b[38;5;21mcompare_pareto_circuits_across_seeds\u001b[39m(results_path, seed_folder, selected_seed):\n\u001b[1;32m    196\u001b[0m     (seen_list, seed_unique_edge_combo_list, \n\u001b[0;32m--> 197\u001b[0m      seed_unique_circuits_list) \u001b[38;5;241m=\u001b[39m \u001b[43mget_unique_in_each_seed_pareto_circuits\u001b[49m\u001b[43m(\u001b[49m\u001b[43mresults_path\u001b[49m\u001b[43m,\u001b[49m\u001b[43m \u001b[49m\u001b[43mseed_folder\u001b[49m\u001b[43m)\u001b[49m\n\u001b[1;32m    199\u001b[0m     (common_edge_combo_set,\n\u001b[1;32m    200\u001b[0m      common_edge_combo_list, \n\u001b[1;32m    201\u001b[0m      common_circuits) \u001b[38;5;241m=\u001b[39m get_common_pareto_circuits(seen_list, seed_unique_edge_combo_list, seed_unique_circuits_list)\n\u001b[1;32m    203\u001b[0m     (all_uncommon_circuits_sets, \n\u001b[1;32m    204\u001b[0m      all_uncommon_circuit_edge_combo_lists, all_uncommon_circuits_lists) \u001b[38;5;241m=\u001b[39m get_uncommon_pareto_circuits(\n\u001b[1;32m    205\u001b[0m          seed_unique_edge_combo_list, common_edge_combo_set, seed_unique_circuits_list    \n\u001b[1;32m    206\u001b[0m      )\n",
      "File \u001b[0;32m~/Documents/Github/GraphGA/get_comparisons_across_seeds.py:57\u001b[0m, in \u001b[0;36mget_unique_in_each_seed_pareto_circuits\u001b[0;34m(results_path, seed_folder)\u001b[0m\n\u001b[1;32m     54\u001b[0m \u001b[38;5;28;01mfor\u001b[39;00m seed \u001b[38;5;129;01min\u001b[39;00m \u001b[38;5;28mrange\u001b[39m(\u001b[38;5;241m0\u001b[39m, \u001b[38;5;241m10\u001b[39m):\n\u001b[1;32m     55\u001b[0m     \u001b[38;5;66;03m#import final population circuits\u001b[39;00m\n\u001b[1;32m     56\u001b[0m     full_path \u001b[38;5;241m=\u001b[39m results_path \u001b[38;5;241m+\u001b[39m seed_folder \u001b[38;5;241m+\u001b[39m \u001b[38;5;28mstr\u001b[39m(seed) \u001b[38;5;241m+\u001b[39m \u001b[38;5;124m\"\u001b[39m\u001b[38;5;124m/\u001b[39m\u001b[38;5;124m\"\u001b[39m\n\u001b[0;32m---> 57\u001b[0m     \u001b[38;5;28;01mwith\u001b[39;00m \u001b[38;5;28;43mopen\u001b[39;49m\u001b[43m(\u001b[49m\u001b[43mfull_path\u001b[49m\u001b[43m \u001b[49m\u001b[38;5;241;43m+\u001b[39;49m\u001b[43m \u001b[49m\u001b[38;5;124;43m\"\u001b[39;49m\u001b[38;5;124;43mfinal_population.pkl\u001b[39;49m\u001b[38;5;124;43m\"\u001b[39;49m\u001b[43m,\u001b[49m\u001b[43m \u001b[49m\u001b[38;5;124;43m\"\u001b[39;49m\u001b[38;5;124;43mrb\u001b[39;49m\u001b[38;5;124;43m\"\u001b[39;49m\u001b[43m)\u001b[49m \u001b[38;5;28;01mas\u001b[39;00m fid:\n\u001b[1;32m     58\u001b[0m         pareto_circuits \u001b[38;5;241m=\u001b[39m pickle\u001b[38;5;241m.\u001b[39mload(fid)\n\u001b[1;32m     59\u001b[0m     (seed_unique_edge_combo, seed_unique_circuits,\n\u001b[1;32m     60\u001b[0m      seen) \u001b[38;5;241m=\u001b[39m get_unique_in_a_seed_pareto_circuits(pareto_circuits)\n",
      "\u001b[0;31mFileNotFoundError\u001b[0m: [Errno 2] No such file or directory: '2024-10-09_Pulse_single_DsRED_t_pulse_opt_hps_ngen80_seed_0/final_population.pkl'"
     ]
    }
   ],
   "source": [
    "path_pulse_single_opt = \"/Users/kdreyer/Library/CloudStorage/OneDrive-NorthwesternUniversity/KatieD_LL/GCAD_Collab/Selected_GA_results_paper/Pulse_single_cell/Optimized_hyperparams/t_pulse/Optimized_hyperparams_fixed_pop_max_hv/\"\n",
    "results_runs_single_opt = \"2024-10-09_Pulse_single_DsRED_t_pulse_opt_hps_ngen80_seed_\"\n",
    "run_seed_results_comparisons(path_pulse_single_opt, results_runs_single_opt, 2, [\"t_pulse\", \"prominence_rel\"], 80, 3)"
   ]
  },
  {
   "cell_type": "markdown",
   "metadata": {},
   "source": [
    "### ZF1 and 2 only"
   ]
  },
  {
   "cell_type": "code",
   "execution_count": 3,
   "metadata": {},
   "outputs": [
    {
     "ename": "NameError",
     "evalue": "name 'path_sigcond_single_opt' is not defined",
     "output_type": "error",
     "traceback": [
      "\u001b[0;31m---------------------------------------------------------------------------\u001b[0m",
      "\u001b[0;31mNameError\u001b[0m                                 Traceback (most recent call last)",
      "Cell \u001b[0;32mIn[5], line 3\u001b[0m\n\u001b[1;32m      1\u001b[0m path_Z12 \u001b[38;5;241m=\u001b[39m \u001b[38;5;124m\"\u001b[39m\u001b[38;5;124m/Users/kdreyer/Documents/Github/GraphGA/GA_results/2024-10-10_Pulse_pop_DsRED_t_pulse_frac_pulse_original_hps_Z1_Z2_ngen50_seed_0/\u001b[39m\u001b[38;5;124m\"\u001b[39m\n\u001b[1;32m      2\u001b[0m pareto_obj_df \u001b[38;5;241m=\u001b[39m pd\u001b[38;5;241m.\u001b[39mread_pickle(path_Z12\u001b[38;5;241m+\u001b[39m\u001b[38;5;124m\"\u001b[39m\u001b[38;5;124mfinal_objectives_df.pkl\u001b[39m\u001b[38;5;124m\"\u001b[39m)\n\u001b[0;32m----> 3\u001b[0m plot_pareto_front(\u001b[43mpath_sigcond_single_opt\u001b[49m\u001b[38;5;241m+\u001b[39mselected_seed_single_opt\u001b[38;5;241m+\u001b[39m\u001b[38;5;124m\"\u001b[39m\u001b[38;5;124mpareto_front_paper.svg\u001b[39m\u001b[38;5;124m\"\u001b[39m, pareto_obj_df, [\u001b[38;5;124m\"\u001b[39m\u001b[38;5;124mfrac_pulse\u001b[39m\u001b[38;5;124m\"\u001b[39m, \u001b[38;5;124m\"\u001b[39m\u001b[38;5;124mt_pulse\u001b[39m\u001b[38;5;124m\"\u001b[39m], \u001b[38;5;28;01mFalse\u001b[39;00m)\n",
      "\u001b[0;31mNameError\u001b[0m: name 'path_sigcond_single_opt' is not defined"
     ]
    }
   ],
   "source": [
    "path_Z12 = \"/Users/kdreyer/Documents/Github/GraphGA/GA_results/2024-10-10_Pulse_pop_DsRED_t_pulse_frac_pulse_original_hps_Z1_Z2_ngen50_seed_0/\"\n",
    "pareto_obj_df = pd.read_pickle(path_Z12+\"final_objectives_df.pkl\")\n",
    "plot_pareto_front(path_sigcond_single_opt+selected_seed_single_opt+\"pareto_front_paper.svg\", pareto_obj_df, [\"frac_pulse\", \"t_pulse\"], False)"
   ]
  },
  {
   "cell_type": "code",
   "execution_count": null,
   "metadata": {},
   "outputs": [],
   "source": []
  }
 ],
 "metadata": {
  "kernelspec": {
   "display_name": "GCAD_GA",
   "language": "python",
   "name": "python3"
  },
  "language_info": {
   "codemirror_mode": {
    "name": "ipython",
    "version": 3
   },
   "file_extension": ".py",
   "mimetype": "text/x-python",
   "name": "python",
   "nbconvert_exporter": "python",
   "pygments_lexer": "ipython3",
   "version": "3.10.15"
  }
 },
 "nbformat": 4,
 "nbformat_minor": 2
}
