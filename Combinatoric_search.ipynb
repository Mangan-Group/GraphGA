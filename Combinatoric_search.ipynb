{
 "cells": [
  {
   "cell_type": "markdown",
   "id": "e8f8a814-1c24-449c-ba8f-c989b3f86d37",
   "metadata": {},
   "source": [
    "### Usage\n",
    "\n",
    "This file is used to conduct combinatoric search for the amplifier and signal conditioner. First, we create all unique topologies (not considering doses) and then compute the objectives corresponding to different dose combinations using combinatorics.py and combinatorics_sigcond.py\n",
    "\n",
    "Due to limitations on storage and computations, we split the topologies with corresponding doses and objectives into 54 shards for each problem. To compute the optimal solution(s), we find the optimal solution(s) in each shard, combine them, and then find the optimal solution(s) of the final set."
   ]
  },
  {
   "cell_type": "code",
   "execution_count": 163,
   "id": "0dd40144-437f-42fd-9e2d-6d68c91f6aad",
   "metadata": {},
   "outputs": [],
   "source": [
    "from GA import *\n",
    "from itertools import combinations, permutations, product\n",
    "import json\n",
    "from amplifier_problem import Amplifier\n",
    "from signal_conditioner_problem import SignalConditioner\n",
    "from load_Z_mat_samples import Z_mat_list, Ref_list\n",
    "from copy import deepcopy"
   ]
  },
  {
   "cell_type": "code",
   "execution_count": 2,
   "id": "52a0ecbd-92f8-4c6d-aa89-9b79bd917395",
   "metadata": {},
   "outputs": [],
   "source": [
    "def get_combinatorics(promo_node, num_part, has_inhibitor, tf_list, inhibitor_list):\n",
    "    combo = []\n",
    "    # all_edges = []\n",
    "    if not has_inhibitor:\n",
    "        #for i in range(1, max_part + 1):\n",
    "        combo.extend(list(combinations(tf_list, num_part)))\n",
    "    else:\n",
    "        #for num_part in range(2, max_part + 1):\n",
    "        for num_tf in range(1, num_part):\n",
    "            num_in = num_part - num_tf\n",
    "            list1 = combinations(tf_list, num_tf)\n",
    "            list2 = combinations(inhibitor_list, num_in)\n",
    "            combo_two = [(i[0] + i[1]) for i in list(product(list1, list2))]\n",
    "            combo.extend(combo_two)\n",
    "\n",
    "    circuits = []\n",
    "\n",
    "    for i in range(len(combo)):\n",
    "        part_list = combo[i]\n",
    "        full_edge_list = get_full_connected(part_list, promo_node)\n",
    "        dose_list = dict(zip(part_list, [0]*len(part_list)))\n",
    "        circuits.append(Topo(full_edge_list, dose_list, promo_node))\n",
    "        max_remove = len(full_edge_list) - 1\n",
    "\n",
    "        for j in range(1, max_remove+1):\n",
    "            combo_remove = list(combinations(full_edge_list, j))\n",
    "            for k in combo_remove:\n",
    "                edges = [e for e in full_edge_list if e not in k]\n",
    "                # all_edges.append(edges)\n",
    "                if check_valid(nx.DiGraph(edges), promo_node, part_list) == 1:\n",
    "                    circuits.append(Topo(edges, dose_list, promo_node))\n",
    "    return circuits #, all_edges"
   ]
  },
  {
   "cell_type": "code",
   "execution_count": 3,
   "id": "d741c2af-afdd-450e-9371-265e277faa4e",
   "metadata": {},
   "outputs": [],
   "source": [
    "with open(\"parts.pkl\", \"rb\") as fid:\n",
    "    parts = pickle.load(fid)"
   ]
  },
  {
   "cell_type": "code",
   "execution_count": 4,
   "id": "14fdfd19-ea82-4da0-8382-a9b5a313bdf8",
   "metadata": {},
   "outputs": [],
   "source": [
    "tf_list = [k for k in parts.keys() if 'Z' in k]\n",
    "inhibitor_list = [k for k in parts.keys() if 'I' in k]"
   ]
  },
  {
   "cell_type": "code",
   "execution_count": 40,
   "id": "1813351a-ecbc-4e1d-b035-8593eed2d047",
   "metadata": {},
   "outputs": [],
   "source": [
    "promo_node = 'P1'\n",
    "min_dose = 5\n",
    "max_dose = 75\n",
    "dose_step = 5\n",
    "dose_range = [[k] for k in range(min_dose, max_dose+1, dose_step)]\n",
    "dose_range_2 = [tuple([i, j]) for i in range(min_dose, max_dose+1, dose_step) for j in range(min_dose, max_dose+1, dose_step)]"
   ]
  },
  {
   "cell_type": "code",
   "execution_count": 11,
   "id": "98f62c49-fbb8-4f1c-857d-23dddb2f3cc8",
   "metadata": {},
   "outputs": [],
   "source": [
    "num_part = 1\n",
    "has_inhibitor = False\n",
    "combo = get_combinatorics(promo_node, num_part, has_inhibitor, tf_list, inhibitor_list)\n",
    "with open('./combo_search/main_combo_1.pkl', 'wb') as fid:\n",
    "    pickle.dump(combo, fid)\n",
    "\n",
    "num_part = 2\n",
    "has_inhibitor = False\n",
    "combo = get_combinatorics(promo_node, num_part, has_inhibitor, tf_list, inhibitor_list)\n",
    "with open('./combo_search/main_combo_2.pkl', 'wb') as fid:\n",
    "    pickle.dump(combo, fid)\n",
    "\n",
    "num_part = 2\n",
    "has_inhibitor = True\n",
    "combo = get_combinatorics(promo_node, num_part, has_inhibitor, tf_list, inhibitor_list)\n",
    "with open('./combo_search/main_combo_2_inhibitor.pkl', 'wb') as fid:\n",
    "    pickle.dump(combo, fid)"
   ]
  },
  {
   "cell_type": "code",
   "execution_count": 153,
   "id": "3fedb0cf-9108-4ea9-8dcf-492e71535885",
   "metadata": {},
   "outputs": [],
   "source": [
    "if \"Z_matrix\" in settings:\n",
    "    Z_mat = settings[\"Z_matrix\"]\n",
    "else:\n",
    "    Z_mat = Z_mat_list[0]\n",
    "\n",
    "if \"reference\" in settings:\n",
    "    Ref_pop = settings[\"reference\"]\n",
    "else:\n",
    "    Ref_pop = None"
   ]
  },
  {
   "cell_type": "code",
   "execution_count": 27,
   "id": "c1c6406d-04b6-49cc-a9e3-1df4c1b16033",
   "metadata": {},
   "outputs": [],
   "source": [
    "test_case = Amplifier\n",
    "\n",
    "with open(\"./settings_amp_initial.json\", \"r\") as fid:\n",
    "    settings = json.load(fid)\n",
    "    \n",
    "problem = test_case(\n",
    "        promo_node=settings[\"promo_node\"],\n",
    "        dose_specs=settings[\"dose_specs\"],\n",
    "        max_part=settings[\"max_part\"],\n",
    "        inhibitor=settings[\"inhibitor\"],\n",
    "        DsRed_inhibitor=settings[\"DsRed_inhibitor\"],\n",
    "        num_dict=settings[\"num_dict\"],\n",
    "        n_gen=settings[\"n_gen\"],\n",
    "        probability_crossover=settings[\"probability_crossover\"],\n",
    "        probability_mutation=settings[\"probability_mutation\"],\n",
    "        mutate_dose=settings[\"mutate_dose\"],\n",
    "        mutate_scheme_prob=settings[\"mutate_scheme_prob\"],\n",
    "        pop=settings[\"pop\"],\n",
    "        Z_mat=Z_mat,\n",
    "        Ref_pop=Ref_pop,\n",
    "        num_processes=settings[\"num_processes\"],\n",
    "        obj_labels=settings[\"obj_labels\"],\n",
    "        max_time=settings[\"max_time\"]\n",
    ")"
   ]
  },
  {
   "cell_type": "code",
   "execution_count": 155,
   "id": "eaa77de6-e898-4a42-8799-6fab051ebe85",
   "metadata": {},
   "outputs": [],
   "source": [
    "with open('./combo_search/main_combo_1.pkl', 'rb') as fid:\n",
    "    combo = pickle.load(fid)"
   ]
  },
  {
   "cell_type": "code",
   "execution_count": 98,
   "id": "76ea3e3c-1abb-4436-af1c-0b978165d139",
   "metadata": {},
   "outputs": [],
   "source": [
    "obj = []\n",
    "combo_expanded = []\n",
    "for topo in combo:\n",
    "    for dose in dose_range:\n",
    "        for i, part in enumerate(topo.part_list):\n",
    "            topo.dose[part] = dose[i]\n",
    "        combo_expanded.append(deepcopy(topo))\n",
    "        obj.append(problem.simulate_cell(topo))\n",
    "obj = np.asarray(obj)"
   ]
  },
  {
   "cell_type": "code",
   "execution_count": 99,
   "id": "896da361-6f6c-40ab-8265-509f3b7e2034",
   "metadata": {},
   "outputs": [],
   "source": [
    "with open('./combo_search/amplifier/amplifier_topo_1.pkl', 'wb') as fid:\n",
    "    pickle.dump(combo_expanded, fid)\n",
    "with open('./combo_search/amplifier/amplifier_obj_1.pkl', 'wb') as fid:\n",
    "    pickle.dump(obj, fid)"
   ]
  },
  {
   "cell_type": "code",
   "execution_count": 160,
   "id": "00152985-e2d8-4661-ab76-e536baa11ef0",
   "metadata": {},
   "outputs": [],
   "source": [
    "test_case = SignalConditioner\n",
    "\n",
    "with open(\"./settings_sigcond.json\", \"r\") as fid:\n",
    "    settings = json.load(fid)\n",
    "    \n",
    "problem = test_case(\n",
    "        promo_node=settings[\"promo_node\"],\n",
    "        dose_specs=settings[\"dose_specs\"],\n",
    "        max_part=settings[\"max_part\"],\n",
    "        inhibitor=settings[\"inhibitor\"],\n",
    "        DsRed_inhibitor=settings[\"DsRed_inhibitor\"],\n",
    "        num_dict=settings[\"num_dict\"],\n",
    "        n_gen=settings[\"n_gen\"],\n",
    "        probability_crossover=settings[\"probability_crossover\"],\n",
    "        probability_mutation=settings[\"probability_mutation\"],\n",
    "        mutate_dose=settings[\"mutate_dose\"],\n",
    "        mutate_scheme_prob=settings[\"mutate_scheme_prob\"],\n",
    "        pop=settings[\"pop\"],\n",
    "        Z_mat=Z_mat,\n",
    "        Ref_pop=Ref_pop,\n",
    "        num_processes=settings[\"num_processes\"],\n",
    "        obj_labels=settings[\"obj_labels\"],\n",
    "        max_time=settings[\"max_time\"]\n",
    ")"
   ]
  },
  {
   "cell_type": "code",
   "execution_count": 161,
   "id": "e4bd6540-5d51-4f87-920b-e0fcb3811202",
   "metadata": {},
   "outputs": [],
   "source": [
    "obj = []\n",
    "combo_expanded = []\n",
    "for topo in combo:\n",
    "    for dose in dose_range:\n",
    "        for i, part in enumerate(topo.part_list):\n",
    "            topo.dose[part] = dose[i]\n",
    "        combo_expanded.append(deepcopy(topo))\n",
    "        obj.append(problem.simulate_cell(topo))\n",
    "obj = np.asarray(obj)"
   ]
  },
  {
   "cell_type": "code",
   "execution_count": 162,
   "id": "8cba0804-21b1-4a77-a017-8fa1282cef3a",
   "metadata": {},
   "outputs": [],
   "source": [
    "with open('./combo_search/sigcond/amplifier_topo_1.pkl', 'wb') as fid:\n",
    "    pickle.dump(combo_expanded, fid)\n",
    "with open('./combo_search/sigcond/amplifier_obj_1.pkl', 'wb') as fid:\n",
    "    pickle.dump(obj, fid)"
   ]
  },
  {
   "cell_type": "code",
   "execution_count": null,
   "id": "73dc4cf4-0ee8-4aca-80c5-a92a157dfc33",
   "metadata": {},
   "outputs": [],
   "source": []
  },
  {
   "cell_type": "code",
   "execution_count": null,
   "id": "a9cb3d1d-4bc9-4d2c-861d-f177d3ec78b5",
   "metadata": {},
   "outputs": [],
   "source": []
  },
  {
   "cell_type": "code",
   "execution_count": null,
   "id": "d8d24e3e-e5b6-45ce-b146-1c25fd87e1d1",
   "metadata": {},
   "outputs": [],
   "source": []
  },
  {
   "cell_type": "code",
   "execution_count": null,
   "id": "63762bb2-1717-4977-b5b6-5f62999dfd2d",
   "metadata": {},
   "outputs": [],
   "source": []
  },
  {
   "cell_type": "code",
   "execution_count": null,
   "id": "118054be-7fc2-4730-8194-54daa4d1fc89",
   "metadata": {},
   "outputs": [],
   "source": []
  },
  {
   "cell_type": "code",
   "execution_count": null,
   "id": "2c68073e-e9b7-48e9-8d06-fda5c21b19b6",
   "metadata": {},
   "outputs": [],
   "source": []
  },
  {
   "cell_type": "code",
   "execution_count": null,
   "id": "b5f21c84-02d2-4c52-9ccf-bffd0356d9d0",
   "metadata": {},
   "outputs": [],
   "source": []
  },
  {
   "cell_type": "code",
   "execution_count": null,
   "id": "a7957a90-0179-456e-81ee-fdac517296a9",
   "metadata": {},
   "outputs": [],
   "source": []
  }
 ],
 "metadata": {
  "kernelspec": {
   "display_name": "pymoo",
   "language": "python",
   "name": "pymoo"
  },
  "language_info": {
   "codemirror_mode": {
    "name": "ipython",
    "version": 3
   },
   "file_extension": ".py",
   "mimetype": "text/x-python",
   "name": "python",
   "nbconvert_exporter": "python",
   "pygments_lexer": "ipython3",
   "version": "3.13.1"
  }
 },
 "nbformat": 4,
 "nbformat_minor": 5
}
