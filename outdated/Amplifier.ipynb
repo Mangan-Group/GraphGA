{
 "cells": [
  {
   "cell_type": "code",
   "execution_count": 116,
   "id": "91f7dad3-a871-4110-bff0-af3094207bde",
   "metadata": {},
   "outputs": [],
   "source": [
    "from GA4Graph import *\n",
    "from scipy.integrate import odeint\n",
    "from load_files import *\n",
    "from get_system_equations import system_equations\n",
    "from Test_amplifier import simulate, Amplifier\n",
    "from pymoo.algorithms.soo.nonconvex.ga import GA, FitnessSurvival\n",
    "\n",
    "import matplotlib.pyplot as plt\n",
    "import scipy.stats as ss\n",
    "from itertools import chain"
   ]
  },
  {
   "cell_type": "markdown",
   "id": "5e86885a-741b-4066-affd-acc4e35671fb",
   "metadata": {},
   "source": [
    "## Sampling"
   ]
  },
  {
   "cell_type": "code",
   "execution_count": 10,
   "id": "dd95d0d2-32f8-4f35-93eb-af40ea510db8",
   "metadata": {},
   "outputs": [],
   "source": [
    "def check_valid(g, num_parts):\n",
    "    graph_parts = [i[0] for i in g.nodes]\n",
    "    if ('P' not in graph_parts) or ('R' not in graph_parts) or ('Z' not in graph_parts):\n",
    "        return 0\n",
    "    elif (len(graph_parts) - 2) < num_parts:\n",
    "        return 0\n",
    "\n",
    "    for n in g.nodes:\n",
    "        if n[0] == 'P':\n",
    "            out_types = set([i[0] for i in list(g.successors(n))])\n",
    "            if 'Z' not in out_types:\n",
    "                return 0\n",
    "        elif n[0] == 'R':\n",
    "            in_types = set([i[0] for i in list(g.predecessors(n))])\n",
    "            if (not in_types) or (('I' in in_types) and ('Z' not in in_types)):\n",
    "                return 0\n",
    "        else:\n",
    "            if (n[0] == 'Z') and ('I' + n[1:] in g.nodes):\n",
    "                if list(g.successors(n)) != list(g.successors('I' + n[1:])):\n",
    "                    return 0\n",
    "            in_nodes = list(g.predecessors(n))\n",
    "            if not in_nodes:\n",
    "                return 0\n",
    "            elif in_nodes == [n]:\n",
    "                return 0\n",
    "            else:\n",
    "                in_types = set([i[0] for i in in_nodes])\n",
    "                if ('I' in in_types) and ('Z' not in in_types):\n",
    "                    return 0\n",
    "            if len(list(nx.all_simple_paths(g, n, 'Rep'))) == 0:\n",
    "                return 0\n",
    "    return 1"
   ]
  },
  {
   "cell_type": "code",
   "execution_count": 32,
   "id": "5c970f90-de82-491e-bc2c-b753cd8cfcfe",
   "metadata": {},
   "outputs": [],
   "source": [
    "def get_edges(promo_node, part_list):\n",
    "    circuit_tf_list = [] \n",
    "    same_list = []\n",
    "    for k in part_list:\n",
    "        if k[0] == 'Z':\n",
    "            circuit_tf_list.append(k)\n",
    "            if ('I'+k[1:]) in part_list:\n",
    "                same_list.append([k, ('I'+k[1:])])\n",
    "    edge_list = set([(promo_node, np.random.choice(circuit_tf_list)), (np.random.choice(circuit_tf_list), 'Rep')])\n",
    "    for n in part_list:\n",
    "        in_edges = get_in_path(n, promo_node, circuit_tf_list)\n",
    "        edge_list.update(in_edges)\n",
    "        if n not in same_list:\n",
    "            out_edges = get_out_path(n, part_list)\n",
    "        edge_list.update(out_edges)\n",
    "        \n",
    "    for z, i in same_list:\n",
    "        out_edges = get_out_path(i, part_list)\n",
    "        edge_list.update(out_edges)\n",
    "        edge_list.update([(z, k[1]) for k in out_edges])\n",
    "        \n",
    "    return list(edge_list)"
   ]
  },
  {
   "cell_type": "code",
   "execution_count": 45,
   "id": "3f272ce7-7df8-4f74-87d9-de72c4b1737f",
   "metadata": {},
   "outputs": [],
   "source": [
    "def sampling(promo_node, num_dict, min_dose, max_dose, dose_interval, inhibitor=False):\n",
    "    combo = []\n",
    "    for num_part, num_circuit in num_dict.items():\n",
    "        if not inhibitor:\n",
    "            part_combo = list(combinations(tf_list, num_part))\n",
    "            ind = np.random.choice(len(part_combo), num_circuit)\n",
    "            combo.extend([part_combo[i] for i in ind])\n",
    "        else:\n",
    "            #for num_part in range(2, max_part + 1):\n",
    "            for num_tf in range(1, num_part):\n",
    "                num_in = num_part - num_tf\n",
    "                list1 = combinations(tf_list, num_tf)\n",
    "                list2 = combinations(inhibitor_list, num_in)\n",
    "                part_combo = [(i[0] + i[1]) for i in list(product(list1, list2))]\n",
    "                ind = np.random.choice(len(part_combo), num_circuit)\n",
    "                combo.extend([part_combo[i] for i in ind])\n",
    "\n",
    "    circuits = []\n",
    "\n",
    "    for i in range(len(combo)):\n",
    "        part_list = combo[i]\n",
    "        # full_edge_list = get_full_connected(part_list, promo_node)\n",
    "        edge_list = get_edges(promo_node, list(part_list))\n",
    "        dose_list = dict(zip(part_list, get_dose(min_dose, max_dose, dose_interval, len(part_list))))\n",
    "        circuits.append([Topo(edge_list, dose_list, promo_node)])\n",
    "        \n",
    "    return np.asarray(circuits)"
   ]
  },
  {
   "cell_type": "code",
   "execution_count": null,
   "id": "6f2f4ea9-27d6-4158-8a9d-bf7b2593e6fd",
   "metadata": {},
   "outputs": [],
   "source": []
  },
  {
   "cell_type": "code",
   "execution_count": 46,
   "id": "d397c530-2dcc-4265-9d38-d653d418bafc",
   "metadata": {},
   "outputs": [],
   "source": [
    "promo_node = 'P1'\n",
    "num_dict = {1:10, 2:20}\n",
    "min_dose = 75\n",
    "max_dose = 75\n",
    "dose_interval = 5"
   ]
  },
  {
   "cell_type": "code",
   "execution_count": 104,
   "id": "09584014-bf11-42ce-a863-5a9fa687da97",
   "metadata": {},
   "outputs": [],
   "source": [
    "num_circuits = sum(list(num_dict.values()))"
   ]
  },
  {
   "cell_type": "code",
   "execution_count": 47,
   "id": "85e42e82-b708-476d-87a5-ee967daf582a",
   "metadata": {},
   "outputs": [],
   "source": [
    "np.random.seed(0)\n",
    "population = sampling(promo_node, num_dict, min_dose, max_dose, dose_interval)"
   ]
  },
  {
   "cell_type": "code",
   "execution_count": 48,
   "id": "30e00c0d-9b1c-4409-b0cc-9179202db6f5",
   "metadata": {},
   "outputs": [],
   "source": [
    "obj = np.asarray([-simulate(g[0])/Ref[g[0].promo_node]['on'] for g in population])"
   ]
  },
  {
   "cell_type": "code",
   "execution_count": 49,
   "id": "04323970-bb6a-41d2-a217-28f1c90889be",
   "metadata": {},
   "outputs": [],
   "source": [
    "def is_equal(x1, x2):\n",
    "    return compare_circuit(x1[0], x2[0])\n",
    "\n",
    "\n",
    "def crossover(problem, X, **kwargs):\n",
    "    X = X[np.newaxis, :].reshape(2, -1, 1)\n",
    "    # The input of has the following shape (n_parents, n_matings, n_var)\n",
    "    _, n_matings, n_var = X.shape\n",
    "    Y = np.full_like(X, None, dtype=object)\n",
    "    for k in range(n_matings):\n",
    "        # get the first and the second parent\n",
    "        parent1, parent2 = X[0, k, 0], X[1, k, 0]\n",
    "        Y[0, k, 0], Y[1, k, 0] = crossover_structure(parent1, parent2)\n",
    "    return Y.reshape(-1, 1)"
   ]
  },
  {
   "cell_type": "code",
   "execution_count": 51,
   "id": "78f1ae5c-7c54-4e27-bb02-bccf2d1d5b88",
   "metadata": {},
   "outputs": [],
   "source": [
    "children = crossover(None, population)\n",
    "obj_children = np.asarray([-simulate(g[0])/Ref[g[0].promo_node]['on'] for g in children])"
   ]
  },
  {
   "cell_type": "code",
   "execution_count": null,
   "id": "66d19e2f-f66f-4b1b-99a8-9d53473d4b01",
   "metadata": {},
   "outputs": [],
   "source": []
  },
  {
   "cell_type": "markdown",
   "id": "41177fc8-57d6-4ced-b050-f5fe648960b8",
   "metadata": {},
   "source": [
    "## Genotypic diversity"
   ]
  },
  {
   "cell_type": "code",
   "execution_count": 53,
   "id": "06ede97b-c722-4bbe-bd12-c67367fdd774",
   "metadata": {},
   "outputs": [],
   "source": [
    "def compare(X):\n",
    "    dupes_dict = dict()\n",
    "    for i, g in enumerate(X):\n",
    "        if i not in list(chain.from_iterable(dupes_dict.values())):\n",
    "            dupes_dict.update({i: [j for j in range(i+1, len(X)) if is_equal(g, X[j])]})\n",
    "    return len(dupes_dict)"
   ]
  },
  {
   "cell_type": "code",
   "execution_count": 54,
   "id": "bad01559-3071-416b-80aa-4d58cf562c48",
   "metadata": {},
   "outputs": [
    {
     "data": {
      "text/plain": [
       "25"
      ]
     },
     "execution_count": 54,
     "metadata": {},
     "output_type": "execute_result"
    }
   ],
   "source": [
    "compare(population)"
   ]
  },
  {
   "cell_type": "code",
   "execution_count": 55,
   "id": "a1f296eb-0954-4c70-8273-30bf79600266",
   "metadata": {},
   "outputs": [
    {
     "data": {
      "text/plain": [
       "28"
      ]
     },
     "execution_count": 55,
     "metadata": {},
     "output_type": "execute_result"
    }
   ],
   "source": [
    "compare(children)"
   ]
  },
  {
   "cell_type": "markdown",
   "id": "d69b56d1-260a-477d-88ab-92fbf579cbc8",
   "metadata": {},
   "source": [
    "## Phenotypic diversity"
   ]
  },
  {
   "cell_type": "code",
   "execution_count": 56,
   "id": "b4fdf4aa-12be-44d5-bf64-f481ae9a12a7",
   "metadata": {},
   "outputs": [
    {
     "data": {
      "text/plain": [
       "Text(0.5, 1.0, 'Children')"
      ]
     },
     "execution_count": 56,
     "metadata": {},
     "output_type": "execute_result"
    },
    {
     "data": {
      "image/png": "[encoded data removed]",
      "text/plain": [
       "<Figure size 1000x500 with 2 Axes>"
      ]
     },
     "metadata": {},
     "output_type": "display_data"
    }
   ],
   "source": [
    "fig, axes = plt.subplots(1, 2, figsize=(10,5))\n",
    "axes[0].hist(obj);\n",
    "axes[0].set_title(\"Parent\")\n",
    "axes[1].hist(obj_children);\n",
    "axes[1].set_title(\"Children\")"
   ]
  },
  {
   "cell_type": "code",
   "execution_count": 148,
   "id": "efe82ad5-aa34-4652-a43f-12a7ccab7df6",
   "metadata": {},
   "outputs": [],
   "source": [
    "delta = 0.5\n",
    "\n",
    "def grouping(F, delta=0.5):\n",
    "    bins = np.arange(np.min(F), np.max(F)+delta, delta)\n",
    "    n = np.full_like(F, 0)\n",
    "    for i in range(len(F)):\n",
    "        n[i] = np.argwhere(F[i] >= bins).flatten()[-1]\n",
    "    return n, bins"
   ]
  },
  {
   "cell_type": "code",
   "execution_count": 58,
   "id": "abd3ac20-9de1-4261-884f-a0bfca259b9c",
   "metadata": {},
   "outputs": [],
   "source": [
    "n, bins = grouping(obj, delta)"
   ]
  },
  {
   "cell_type": "code",
   "execution_count": 59,
   "id": "83720cfc-f4df-4866-a65f-c3a142c0217c",
   "metadata": {},
   "outputs": [],
   "source": [
    "n_children, bins_children = grouping(obj_children, delta)"
   ]
  },
  {
   "cell_type": "code",
   "execution_count": 60,
   "id": "fdd81ae0-8b14-437e-8705-ea110f22c2c8",
   "metadata": {},
   "outputs": [
    {
     "data": {
      "text/plain": [
       "13"
      ]
     },
     "execution_count": 60,
     "metadata": {},
     "output_type": "execute_result"
    }
   ],
   "source": [
    "len(set(n))"
   ]
  },
  {
   "cell_type": "code",
   "execution_count": 61,
   "id": "979e91c6-5e42-4432-8e49-f6ce6eee6461",
   "metadata": {},
   "outputs": [
    {
     "data": {
      "text/plain": [
       "16"
      ]
     },
     "execution_count": 61,
     "metadata": {},
     "output_type": "execute_result"
    }
   ],
   "source": [
    "len(set(n_children))"
   ]
  },
  {
   "cell_type": "code",
   "execution_count": 147,
   "id": "529369ea-047d-40e7-8924-983d03621cab",
   "metadata": {},
   "outputs": [],
   "source": [
    "def pheno_diversity(F, delta=0.5):\n",
    "    n, bins = grouping(F, delta)\n",
    "    return len(set(n))"
   ]
  },
  {
   "cell_type": "markdown",
   "id": "d03ff6e2-b8db-4b70-a026-ece8949167c8",
   "metadata": {},
   "source": [
    "## Entropy"
   ]
  },
  {
   "cell_type": "code",
   "execution_count": 62,
   "id": "55a2e11a-32d6-47ab-bbb7-b670228c309d",
   "metadata": {},
   "outputs": [],
   "source": [
    "_, p = np.unique(n, return_counts=True)\n",
    "p = p/len(p)"
   ]
  },
  {
   "cell_type": "code",
   "execution_count": 63,
   "id": "a0c09436-9824-4f1d-be19-68baa4910d7d",
   "metadata": {},
   "outputs": [
    {
     "data": {
      "text/plain": [
       "3.2739767923382828"
      ]
     },
     "execution_count": 63,
     "metadata": {},
     "output_type": "execute_result"
    }
   ],
   "source": [
    "entropy = -np.sum(p*np.log(p)) \n",
    "entropy"
   ]
  },
  {
   "cell_type": "code",
   "execution_count": 64,
   "id": "0601f3b9-760a-491e-b74a-629b4c67d914",
   "metadata": {},
   "outputs": [],
   "source": [
    "_, p_children = np.unique(n_children, return_counts=True)\n",
    "p_children = p_children/len(p_children)"
   ]
  },
  {
   "cell_type": "code",
   "execution_count": 65,
   "id": "64f2bee7-e72f-4527-8d6e-a624297f314b",
   "metadata": {},
   "outputs": [
    {
     "data": {
      "text/plain": [
       "3.5905277177534467"
      ]
     },
     "execution_count": 65,
     "metadata": {},
     "output_type": "execute_result"
    }
   ],
   "source": [
    "entropy = -np.sum(p_children*np.log(p_children)) \n",
    "entropy"
   ]
  },
  {
   "cell_type": "code",
   "execution_count": 146,
   "id": "c448bf98-de18-49eb-8e9d-2df08d8591db",
   "metadata": {},
   "outputs": [],
   "source": [
    "def get_entropy(n):\n",
    "    _, p = np.unique(n, return_counts=True)\n",
    "    p = p/len(p)\n",
    "    entropy = -np.sum(p*np.log(p)) \n",
    "    return entropy"
   ]
  },
  {
   "cell_type": "markdown",
   "id": "9b9816bc-043c-4186-9827-187c567dbe66",
   "metadata": {},
   "source": [
    "## Pseudo-isomorphs"
   ]
  },
  {
   "cell_type": "code",
   "execution_count": 66,
   "id": "9165957a-c1a5-4dbf-a0e1-f7e45853745d",
   "metadata": {},
   "outputs": [],
   "source": [
    "def pseudo_iso(g):\n",
    "    p_out = len(list(g.graph.successors('P1')))\n",
    "    rep_in = len(list(g.graph.predecessors('Rep')))\n",
    "    size = g.graph.size()\n",
    "    return p_out, rep_in, size"
   ]
  },
  {
   "cell_type": "code",
   "execution_count": 67,
   "id": "57381b79-cda3-401c-ba13-033e2f1d15a0",
   "metadata": {},
   "outputs": [
    {
     "data": {
      "text/plain": [
       "7"
      ]
     },
     "execution_count": 67,
     "metadata": {},
     "output_type": "execute_result"
    }
   ],
   "source": [
    "iso = np.unique(np.asarray([pseudo_iso(g[0]) for g in population]), axis=0, return_counts=True)\n",
    "len(iso[0])"
   ]
  },
  {
   "cell_type": "code",
   "execution_count": 68,
   "id": "2dac1f80-0669-4362-981b-2cb6963f73ac",
   "metadata": {},
   "outputs": [
    {
     "data": {
      "text/plain": [
       "5"
      ]
     },
     "execution_count": 68,
     "metadata": {},
     "output_type": "execute_result"
    }
   ],
   "source": [
    "iso_children = np.unique(np.asarray([pseudo_iso(g[0]) for g in children]), axis=0, return_counts=True)\n",
    "len(iso_children[0])"
   ]
  },
  {
   "cell_type": "code",
   "execution_count": null,
   "id": "7b2b817a-33de-4827-b9fa-9d8662816c7e",
   "metadata": {},
   "outputs": [
    {
     "data": {
      "text/plain": [
       "5"
      ]
     },
     "execution_count": 154,
     "metadata": {},
     "output_type": "execute_result"
    }
   ],
   "source": []
  },
  {
   "cell_type": "markdown",
   "id": "8da02cda-4830-4004-ac33-605a0a5b4e4a",
   "metadata": {},
   "source": [
    "## Edit distance"
   ]
  },
  {
   "cell_type": "code",
   "execution_count": 98,
   "id": "ca52e9d0-4b17-450b-b78a-774f365b6724",
   "metadata": {},
   "outputs": [],
   "source": [
    "ind_parent = np.argmin(obj)"
   ]
  },
  {
   "cell_type": "code",
   "execution_count": 99,
   "id": "357037e8-949d-43cc-a40f-e40a51c48626",
   "metadata": {},
   "outputs": [
    {
     "data": {
      "text/plain": [
       "9"
      ]
     },
     "execution_count": 99,
     "metadata": {},
     "output_type": "execute_result"
    }
   ],
   "source": [
    "ind_parent"
   ]
  },
  {
   "cell_type": "code",
   "execution_count": 149,
   "id": "07b1c3b1-4347-41b4-8c06-3998c3cf4c4d",
   "metadata": {},
   "outputs": [],
   "source": [
    "def get_edit_distance(population, ind):\n",
    "    ed1 = np.zeros(population.shape[0])\n",
    "    for i in range(population.shape[0]):\n",
    "        ed1[i] = nx.graph_edit_distance(population[i][0].graph, population[ind][0].graph)\n",
    "    return ed1"
   ]
  },
  {
   "cell_type": "code",
   "execution_count": 111,
   "id": "57d9d724-9657-4bf6-b33a-b797b60c8a60",
   "metadata": {},
   "outputs": [
    {
     "data": {
      "text/plain": [
       "2.7666666666666666"
      ]
     },
     "execution_count": 111,
     "metadata": {},
     "output_type": "execute_result"
    }
   ],
   "source": [
    "np.mean(ed1)"
   ]
  },
  {
   "cell_type": "code",
   "execution_count": 112,
   "id": "a593e62c-a379-4040-8701-f38682590569",
   "metadata": {},
   "outputs": [
    {
     "data": {
      "text/plain": [
       "5.0"
      ]
     },
     "execution_count": 112,
     "metadata": {},
     "output_type": "execute_result"
    }
   ],
   "source": [
    "np.max(ed1)"
   ]
  },
  {
   "cell_type": "code",
   "execution_count": 113,
   "id": "a96a301e-6429-468c-8650-455c59762744",
   "metadata": {},
   "outputs": [
    {
     "data": {
      "text/plain": [
       "3.0"
      ]
     },
     "execution_count": 113,
     "metadata": {},
     "output_type": "execute_result"
    }
   ],
   "source": [
    "np.median(ed1)"
   ]
  },
  {
   "cell_type": "code",
   "execution_count": null,
   "id": "b8a4a1e0-bcc7-4a28-a722-9f7c6eb36224",
   "metadata": {},
   "outputs": [],
   "source": []
  },
  {
   "cell_type": "code",
   "execution_count": 118,
   "id": "aceb426f-9e5a-4ee2-b487-5f6cf4ab05c0",
   "metadata": {},
   "outputs": [],
   "source": [
    "survive = FitnessSurvival()"
   ]
  },
  {
   "cell_type": "code",
   "execution_count": 120,
   "id": "ba2ef151-9185-440f-8ac4-e56ee333e747",
   "metadata": {},
   "outputs": [],
   "source": []
  },
  {
   "cell_type": "code",
   "execution_count": 124,
   "id": "e2fa1c39-e13f-462c-b16d-34ec541b19cc",
   "metadata": {},
   "outputs": [
    {
     "data": {
      "text/plain": [
       "array([ 9, 23, 11, 17,  2,  4,  7, 24, 25, 28, 16,  6, 21, 19, 27, 10, 26,\n",
       "       20,  0,  8, 15, 14,  3,  1, 18,  5, 22, 12, 13, 29])"
      ]
     },
     "execution_count": 124,
     "metadata": {},
     "output_type": "execute_result"
    }
   ],
   "source": [
    "S"
   ]
  },
  {
   "cell_type": "code",
   "execution_count": 122,
   "id": "930eb34f-3756-4d33-a918-b62ccd4a2e17",
   "metadata": {},
   "outputs": [
    {
     "data": {
      "text/plain": [
       "30"
      ]
     },
     "execution_count": 122,
     "metadata": {},
     "output_type": "execute_result"
    }
   ],
   "source": [
    "len(S)"
   ]
  },
  {
   "cell_type": "code",
   "execution_count": 123,
   "id": "ae1b1d90-584b-4f5f-b8e0-0670d7a2556a",
   "metadata": {},
   "outputs": [
    {
     "data": {
      "text/plain": [
       "array([18, 23,  4, 22,  5, 25, 11,  6, 19,  0, 15,  2, 27, 28, 21, 20, 10,\n",
       "        3, 24, 13, 17, 12, 26,  1,  7,  8, 16, 14,  9, 29])"
      ]
     },
     "execution_count": 123,
     "metadata": {},
     "output_type": "execute_result"
    }
   ],
   "source": [
    "np.argsort(S)"
   ]
  },
  {
   "cell_type": "code",
   "execution_count": null,
   "id": "ac887453-cf38-4f70-aa0a-8c85cb41110c",
   "metadata": {},
   "outputs": [],
   "source": []
  },
  {
   "cell_type": "code",
   "execution_count": null,
   "id": "071bbed8-a9ee-4958-a7b3-a11b7880aafb",
   "metadata": {},
   "outputs": [],
   "source": []
  },
  {
   "cell_type": "code",
   "execution_count": null,
   "id": "8e7dd804-abb1-4fd0-9f55-e1d24029bd1a",
   "metadata": {},
   "outputs": [],
   "source": []
  },
  {
   "cell_type": "code",
   "execution_count": 127,
   "id": "4ee30704-b244-40b1-8a73-aac3bb05dab7",
   "metadata": {},
   "outputs": [],
   "source": [
    "obj = np.append(obj, obj_children)"
   ]
  },
  {
   "cell_type": "code",
   "execution_count": 129,
   "id": "8a858606-5ba3-4a14-8057-d7b47226cff2",
   "metadata": {},
   "outputs": [],
   "source": []
  },
  {
   "cell_type": "code",
   "execution_count": 130,
   "id": "1d74ef91-79a6-47b7-aa35-0c79816d3932",
   "metadata": {},
   "outputs": [
    {
     "data": {
      "text/plain": [
       "array([ 9, 32, 54, 23, 34, 39, 11, 17, 41, 43,  2,  4,  7, 24, 25, 46, 28,\n",
       "       16, 49, 40,  6, 36, 53, 51, 57, 47, 21, 19, 27, 56, 52, 59, 10, 26,\n",
       "       30, 20, 33,  0,  8, 15, 14, 35,  3, 31,  1, 50, 45, 18,  5, 48, 44,\n",
       "       55, 22, 38, 12, 58, 42, 13, 29, 37])"
      ]
     },
     "execution_count": 130,
     "metadata": {},
     "output_type": "execute_result"
    }
   ],
   "source": [
    "S"
   ]
  },
  {
   "cell_type": "code",
   "execution_count": 133,
   "id": "ca11995c-ccce-4b5a-aa18-4397870b1fd8",
   "metadata": {},
   "outputs": [],
   "source": [
    "obj_new = obj[S[:num_circuits]]"
   ]
  },
  {
   "cell_type": "code",
   "execution_count": 135,
   "id": "203653d5-8c45-4e55-b506-38c6ec02daf8",
   "metadata": {},
   "outputs": [
    {
     "data": {
      "text/plain": [
       "30"
      ]
     },
     "execution_count": 135,
     "metadata": {},
     "output_type": "execute_result"
    }
   ],
   "source": [
    "len(obj_new)"
   ]
  },
  {
   "cell_type": "code",
   "execution_count": 240,
   "id": "9d315144-4560-4476-92fe-b7cf0b59eade",
   "metadata": {},
   "outputs": [],
   "source": [
    "n_gen = 20\n",
    "prob = 1"
   ]
  },
  {
   "cell_type": "code",
   "execution_count": 231,
   "id": "b9ac7bd1-4aaf-4756-b725-ed3f00963234",
   "metadata": {},
   "outputs": [],
   "source": [
    "num_dict = {1:10, 2:40}"
   ]
  },
  {
   "cell_type": "code",
   "execution_count": 242,
   "id": "03ed1e67-748e-4d8f-bafe-6557b15fcf1d",
   "metadata": {},
   "outputs": [],
   "source": [
    "# np.random.seed(0)\n",
    "population = sampling(promo_node, num_dict, min_dose, max_dose, dose_interval)\n",
    "obj = np.asarray([-simulate(g[0])/Ref[g[0].promo_node]['on'] for g in population])\n",
    "\n",
    "obj_min = np.zeros(n_gen+1)\n",
    "circuit_min = []\n",
    "\n",
    "geno = np.zeros(n_gen+1)\n",
    "pheno = np.zeros_like(geno)\n",
    "entropy = np.zeros_like(geno)\n",
    "iso = np.zeros_like(geno)\n",
    "ed_mean = np.zeros_like(geno)\n",
    "ed_max = np.zeros_like(geno)\n",
    "ed_median = np.zeros_like(geno)\n",
    "\n",
    "geno[0] = compare(population)\n",
    "n, bins = grouping(obj, 0.5)\n",
    "entropy[0] = get_entropy(n)\n",
    "pheno[0] = len(set(n))\n",
    "iso[0] = len(np.unique(np.asarray([pseudo_iso(g[0]) for g in population]), axis=0))\n",
    "ind_min = np.argmin(obj)\n",
    "ed1 = get_edit_distance(population, ind_min)\n",
    "ed_mean[0] = np.mean(ed1)\n",
    "ed_max[0] = max(ed1)\n",
    "ed_median[0] = np.median(ed1)\n",
    "\n",
    "ind_min = np.argmin(obj)\n",
    "obj_min[0] = obj[ind_min]\n",
    "circuit_min.append(population[ind_min])"
   ]
  },
  {
   "cell_type": "code",
   "execution_count": 243,
   "id": "b33fa053-e0c1-4efe-a449-5532facb7150",
   "metadata": {},
   "outputs": [],
   "source": [
    "for gen in range(n_gen):\n",
    "    if np.random.uniform() < 0.5:\n",
    "        children = crossover(None, population)\n",
    "        obj_children = np.asarray([-simulate(g[0])/Ref[g[0].promo_node]['on'] for g in children])\n",
    "        obj = np.append(obj, obj_children)\n",
    "        population = np.vstack((population, children))\n",
    "        S = np.lexsort([obj])\n",
    "        obj = obj[S[:num_circuits]]\n",
    "        population = population[S[:num_circuits], :]\n",
    "    \n",
    "    geno[gen+1] = compare(population)\n",
    "    n, bins = grouping(obj, 0.5)\n",
    "    entropy[gen+1] = get_entropy(n)\n",
    "    pheno[gen+1] = len(set(n))\n",
    "    iso[gen+1] = len(np.unique(np.asarray([pseudo_iso(g[0]) for g in population]), axis=0))\n",
    "    ind_min = np.argmin(obj)\n",
    "    ed1 = get_edit_distance(population, ind_min)\n",
    "    ed_mean[gen+1] = np.mean(ed1)\n",
    "    ed_max[gen+1] = max(ed1)\n",
    "    ed_median[gen+1] = np.median(ed1)\n",
    "    \n",
    "    obj_min[gen+1] = obj[ind_min]\n",
    "    circuit_min.append(population[ind_min])"
   ]
  },
  {
   "cell_type": "code",
   "execution_count": null,
   "id": "c485ef82-c060-4e5f-b83d-6dd547c98838",
   "metadata": {},
   "outputs": [],
   "source": []
  },
  {
   "cell_type": "code",
   "execution_count": 234,
   "id": "52d71ffd-f955-4572-b468-fe809993f551",
   "metadata": {},
   "outputs": [],
   "source": [
    "generations = np.arange(n_gen+1)"
   ]
  },
  {
   "cell_type": "code",
   "execution_count": 237,
   "id": "16fa4afc-5367-4cef-8345-150e9a160fa8",
   "metadata": {},
   "outputs": [
    {
     "data": {
      "text/plain": [
       "<matplotlib.legend.Legend at 0x7fcf9952b820>"
      ]
     },
     "execution_count": 237,
     "metadata": {},
     "output_type": "execute_result"
    },
    {
     "data": {
      "image/png": "[encoded data removed]",
      "text/plain": [
       "<Figure size 1500x1000 with 1 Axes>"
      ]
     },
     "metadata": {},
     "output_type": "display_data"
    }
   ],
   "source": [
    "plt.figure(figsize=(15,10))\n",
    "plt.plot(generations, geno, label='Genotype')\n",
    "plt.plot(generations, pheno, label='Phenotype')\n",
    "plt.plot(generations, iso, label='Pseudo-isomorphism')\n",
    "plt.plot(generations, ed_mean, label='Mean edit distance')\n",
    "plt.plot(generations, ed_max, label='Max edit distance')\n",
    "plt.plot(generations, ed_median, label='Median edit distance')\n",
    "plt.grid(True)\n",
    "plt.legend(fontsize=15)"
   ]
  },
  {
   "cell_type": "code",
   "execution_count": 244,
   "id": "afbe4735-fbe3-4ae7-bfa7-c2e7e2f15e1c",
   "metadata": {},
   "outputs": [
    {
     "data": {
      "text/plain": [
       "<matplotlib.legend.Legend at 0x7fcfa025c7c0>"
      ]
     },
     "execution_count": 244,
     "metadata": {},
     "output_type": "execute_result"
    },
    {
     "data": {
      "image/png": "[encoded data removed]",
      "text/plain": [
       "<Figure size 1500x1000 with 1 Axes>"
      ]
     },
     "metadata": {},
     "output_type": "display_data"
    }
   ],
   "source": [
    "plt.figure(figsize=(15,10))\n",
    "plt.plot(generations, geno, label='Genotype')\n",
    "plt.plot(generations, pheno, label='Phenotype')\n",
    "plt.plot(generations, iso, label='Pseudo-isomorphism')\n",
    "plt.plot(generations, ed_mean, label='Mean edit distance')\n",
    "plt.plot(generations, ed_max, label='Max edit distance')\n",
    "plt.plot(generations, ed_median, label='Median edit distance')\n",
    "plt.grid(True)\n",
    "plt.legend(fontsize=15)"
   ]
  },
  {
   "cell_type": "code",
   "execution_count": 218,
   "id": "da8e99e3-cc79-4a0b-941e-d1f3d824a4ef",
   "metadata": {},
   "outputs": [],
   "source": [
    "obj_rank = ss.rankdata(obj_min, method='dense')\n",
    "\n",
    "geno_rank = ss.rankdata(geno, method='dense')\n",
    "pheno_rank = ss.rankdata(pheno, method='dense')\n",
    "iso_rank = ss.rankdata(iso, method='dense')\n",
    "ed_mean_rank = ss.rankdata(ed_mean, method='dense')\n",
    "ed_max_rank = ss.rankdata(ed_max, method='dense')\n",
    "ed_median_rank = ss.rankdata(ed_median, method='dense')"
   ]
  },
  {
   "cell_type": "code",
   "execution_count": 219,
   "id": "1aa65e1d-6370-41d9-8d0c-47b8815a4f29",
   "metadata": {},
   "outputs": [],
   "source": [
    "def Spearman(x1, x2):\n",
    "    d = (x1-x2)\n",
    "    n = len(d)\n",
    "    rho = 1- 6./(n*(n**2-1)) * np.sum(d**2)\n",
    "    return rho"
   ]
  },
  {
   "cell_type": "code",
   "execution_count": 246,
   "id": "7c509989-ce52-4c28-bbb3-0f27b4f73f54",
   "metadata": {},
   "outputs": [
    {
     "data": {
      "text/plain": [
       "0.9467532467532468"
      ]
     },
     "execution_count": 246,
     "metadata": {},
     "output_type": "execute_result"
    }
   ],
   "source": [
    "Spearman(obj_rank, geno_rank)"
   ]
  },
  {
   "cell_type": "code",
   "execution_count": 247,
   "id": "c29a142b-1c7d-412b-ac63-2d4ddf666fe0",
   "metadata": {},
   "outputs": [
    {
     "data": {
      "text/plain": [
       "0.9850649350649351"
      ]
     },
     "execution_count": 247,
     "metadata": {},
     "output_type": "execute_result"
    }
   ],
   "source": [
    "Spearman(obj_rank, pheno_rank)"
   ]
  },
  {
   "cell_type": "code",
   "execution_count": 248,
   "id": "ac9b1f70-201b-4a38-8e55-2b7c3a42c382",
   "metadata": {},
   "outputs": [
    {
     "data": {
      "text/plain": [
       "0.9642857142857143"
      ]
     },
     "execution_count": 248,
     "metadata": {},
     "output_type": "execute_result"
    }
   ],
   "source": [
    "Spearman(obj_rank, iso_rank)"
   ]
  },
  {
   "cell_type": "code",
   "execution_count": 249,
   "id": "afd6a978-4b36-4ef4-a43b-2f991f0db6df",
   "metadata": {},
   "outputs": [
    {
     "data": {
      "text/plain": [
       "0.9454545454545454"
      ]
     },
     "execution_count": 249,
     "metadata": {},
     "output_type": "execute_result"
    }
   ],
   "source": [
    "Spearman(obj_rank, ed_mean_rank)"
   ]
  },
  {
   "cell_type": "code",
   "execution_count": 250,
   "id": "bbdc3c87-a231-49c2-a12f-bbbb9e5d7f58",
   "metadata": {},
   "outputs": [
    {
     "data": {
      "text/plain": [
       "0.962987012987013"
      ]
     },
     "execution_count": 250,
     "metadata": {},
     "output_type": "execute_result"
    }
   ],
   "source": [
    "Spearman(obj_rank, ed_max_rank)"
   ]
  },
  {
   "cell_type": "code",
   "execution_count": 251,
   "id": "06e3db64-a84f-4141-b0ef-1071aeecf88e",
   "metadata": {},
   "outputs": [
    {
     "data": {
      "text/plain": [
       "0.9844155844155844"
      ]
     },
     "execution_count": 251,
     "metadata": {},
     "output_type": "execute_result"
    }
   ],
   "source": [
    "Spearman(obj_rank, ed_median_rank)"
   ]
  },
  {
   "cell_type": "code",
   "execution_count": 252,
   "id": "329d087c-a19f-4994-8d95-2448bc77f382",
   "metadata": {},
   "outputs": [
    {
     "data": {
      "text/plain": [
       "<matplotlib.collections.PathCollection at 0x7fcfab7c2fe0>"
      ]
     },
     "execution_count": 252,
     "metadata": {},
     "output_type": "execute_result"
    },
    {
     "data": {
      "image/png": "[encoded data removed]",
      "text/plain": [
       "<Figure size 640x480 with 1 Axes>"
      ]
     },
     "metadata": {},
     "output_type": "display_data"
    }
   ],
   "source": [
    "plt.scatter(obj_rank, iso_rank)"
   ]
  },
  {
   "cell_type": "code",
   "execution_count": null,
   "id": "194c7a8e-6b40-4505-a62e-d7dbde39af73",
   "metadata": {},
   "outputs": [],
   "source": []
  },
  {
   "cell_type": "code",
   "execution_count": 227,
   "id": "17e30915-44d2-4d93-8ad8-67f31fe5b0b0",
   "metadata": {},
   "outputs": [
    {
     "data": {
      "text/plain": [
       "array([[<define_circuit.Topo object at 0x7fcfc9a38fd0>],\n",
       "       [<define_circuit.Topo object at 0x7fcfc99ba800>],\n",
       "       [<define_circuit.Topo object at 0x7fcfc9a4e380>],\n",
       "       [<define_circuit.Topo object at 0x7fcfc9a4ca90>],\n",
       "       [<define_circuit.Topo object at 0x7fcfab275e70>],\n",
       "       [<define_circuit.Topo object at 0x7fcfc9a4ffd0>],\n",
       "       [<define_circuit.Topo object at 0x7fcfc9a4e950>],\n",
       "       [<define_circuit.Topo object at 0x7fcfc9a00550>],\n",
       "       [<define_circuit.Topo object at 0x7fcfab277af0>],\n",
       "       [<define_circuit.Topo object at 0x7fcfc9a4dcf0>],\n",
       "       [<define_circuit.Topo object at 0x7fcfc9a4cb80>],\n",
       "       [<define_circuit.Topo object at 0x7fcfc9a4f0d0>],\n",
       "       [<define_circuit.Topo object at 0x7fcfc9a40040>],\n",
       "       [<define_circuit.Topo object at 0x7fcfc9a432e0>],\n",
       "       [<define_circuit.Topo object at 0x7fcfc9a41f90>],\n",
       "       [<define_circuit.Topo object at 0x7fcfc9a439a0>],\n",
       "       [<define_circuit.Topo object at 0x7fcfc9a40820>],\n",
       "       [<define_circuit.Topo object at 0x7fcfc9a38400>],\n",
       "       [<define_circuit.Topo object at 0x7fcfc9a40c40>],\n",
       "       [<define_circuit.Topo object at 0x7fcfc9a41900>],\n",
       "       [<define_circuit.Topo object at 0x7fcfc9a429e0>],\n",
       "       [<define_circuit.Topo object at 0x7fcfc9a435b0>],\n",
       "       [<define_circuit.Topo object at 0x7fcfc9a43190>],\n",
       "       [<define_circuit.Topo object at 0x7fcfc9a424a0>],\n",
       "       [<define_circuit.Topo object at 0x7fcfc9a42e60>],\n",
       "       [<define_circuit.Topo object at 0x7fcfc9a41420>],\n",
       "       [<define_circuit.Topo object at 0x7fcfc9a41480>],\n",
       "       [<define_circuit.Topo object at 0x7fcfc9a42290>],\n",
       "       [<define_circuit.Topo object at 0x7fcfc9a41f00>],\n",
       "       [<define_circuit.Topo object at 0x7fcfc9a41210>]], dtype=object)"
      ]
     },
     "execution_count": 227,
     "metadata": {},
     "output_type": "execute_result"
    }
   ],
   "source": [
    "population"
   ]
  },
  {
   "cell_type": "code",
   "execution_count": null,
   "id": "eced59a5-46c1-41b7-a38b-3ab626b20772",
   "metadata": {},
   "outputs": [],
   "source": []
  },
  {
   "cell_type": "code",
   "execution_count": 245,
   "id": "8c717091-9353-4a27-b466-0bbf98fd29a4",
   "metadata": {},
   "outputs": [
    {
     "data": {
      "image/png": "[encoded data removed]",
      "text/plain": [
       "<Figure size 640x480 with 1 Axes>"
      ]
     },
     "metadata": {},
     "output_type": "display_data"
    }
   ],
   "source": [
    "population[0][0].plot_graph()"
   ]
  },
  {
   "cell_type": "code",
   "execution_count": null,
   "id": "47ae22f8-1d54-4fc4-be9c-5992e0ab0fe4",
   "metadata": {},
   "outputs": [],
   "source": []
  }
 ],
 "metadata": {
  "kernelspec": {
   "display_name": "Python 3 (ipykernel)",
   "language": "python",
   "name": "python3"
  },
  "language_info": {
   "codemirror_mode": {
    "name": "ipython",
    "version": 3
   },
   "file_extension": ".py",
   "mimetype": "text/x-python",
   "name": "python",
   "nbconvert_exporter": "python",
   "pygments_lexer": "ipython3",
   "version": "3.10.6"
  }
 },
 "nbformat": 4,
 "nbformat_minor": 5
}
